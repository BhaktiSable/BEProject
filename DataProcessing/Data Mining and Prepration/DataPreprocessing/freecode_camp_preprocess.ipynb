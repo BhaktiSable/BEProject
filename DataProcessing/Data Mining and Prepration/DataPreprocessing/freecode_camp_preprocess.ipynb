{
 "cells": [
  {
   "cell_type": "code",
   "execution_count": 2,
   "id": "4b6d5998",
   "metadata": {},
   "outputs": [],
   "source": [
    "\n",
    "import re\n",
    "import pandas as pd\n",
    "import numpy as np"
   ]
  },
  {
   "cell_type": "code",
   "execution_count": 3,
   "id": "0cc59ef3",
   "metadata": {},
   "outputs": [],
   "source": [
    "df=pd.read_csv(r'C:\\Users\\nehab\\Desktop\\Python\\final datasets\\freecode_2.csv')"
   ]
  },
  {
   "cell_type": "code",
   "execution_count": 4,
   "id": "ee6de86b",
   "metadata": {},
   "outputs": [
    {
     "data": {
      "text/html": [
       "<div>\n",
       "<style scoped>\n",
       "    .dataframe tbody tr th:only-of-type {\n",
       "        vertical-align: middle;\n",
       "    }\n",
       "\n",
       "    .dataframe tbody tr th {\n",
       "        vertical-align: top;\n",
       "    }\n",
       "\n",
       "    .dataframe thead th {\n",
       "        text-align: right;\n",
       "    }\n",
       "</style>\n",
       "<table border=\"1\" class=\"dataframe\">\n",
       "  <thead>\n",
       "    <tr style=\"text-align: right;\">\n",
       "      <th></th>\n",
       "      <th>img url</th>\n",
       "      <th>URL</th>\n",
       "      <th>Title</th>\n",
       "      <th>Description</th>\n",
       "      <th>Duration</th>\n",
       "      <th>Time</th>\n",
       "      <th>Price</th>\n",
       "      <th>FinalURL</th>\n",
       "      <th>Provider</th>\n",
       "      <th>Ratings</th>\n",
       "      <th>Difficulty</th>\n",
       "    </tr>\n",
       "  </thead>\n",
       "  <tbody>\n",
       "    <tr>\n",
       "      <th>0</th>\n",
       "      <td>https://d3f1iyfxxz8i1e.cloudfront.net/courses/...</td>\n",
       "      <td>https://www.classcentral.com/classroom/freecod...</td>\n",
       "      <td>Harvard CS50 – Full Computer Science Universit...</td>\n",
       "      <td>Syllabus: ⌨️ Lecture 0 - Scratch⌨️ Lecture 1 -...</td>\n",
       "      <td>24 hours worth of material</td>\n",
       "      <td>On-Demand</td>\n",
       "      <td>Free Online Course</td>\n",
       "      <td>https://www.youtube.com/supported_browsers?nex...</td>\n",
       "      <td>freeCodeCamp</td>\n",
       "      <td>4.8</td>\n",
       "      <td>Introductory</td>\n",
       "    </tr>\n",
       "    <tr>\n",
       "      <th>1</th>\n",
       "      <td>https://d3f1iyfxxz8i1e.cloudfront.net/courses/...</td>\n",
       "      <td>https://www.classcentral.com/course/freecodeca...</td>\n",
       "      <td>Responsive Web Design</td>\n",
       "      <td>In this Responsive Web Design Certification, y...</td>\n",
       "      <td>300 hours worth of material</td>\n",
       "      <td>On-Demand</td>\n",
       "      <td>Free Certificate</td>\n",
       "      <td>https://www.freecodecamp.org/learn/2022/respon...</td>\n",
       "      <td>freeCodeCamp</td>\n",
       "      <td>4.6</td>\n",
       "      <td>Introductory</td>\n",
       "    </tr>\n",
       "    <tr>\n",
       "      <th>2</th>\n",
       "      <td>https://d3f1iyfxxz8i1e.cloudfront.net/courses/...</td>\n",
       "      <td>https://www.classcentral.com/course/freecodeca...</td>\n",
       "      <td>JavaScript Algorithms and Data Structures</td>\n",
       "      <td>While HTML and CSS control the content and sty...</td>\n",
       "      <td>300 hours worth of material</td>\n",
       "      <td>On-Demand</td>\n",
       "      <td>Free Certificate</td>\n",
       "      <td>https://www.freecodecamp.org/learn/javascript-...</td>\n",
       "      <td>freeCodeCamp</td>\n",
       "      <td>4.8</td>\n",
       "      <td>Introductory</td>\n",
       "    </tr>\n",
       "    <tr>\n",
       "      <th>3</th>\n",
       "      <td>https://d3f1iyfxxz8i1e.cloudfront.net/courses/...</td>\n",
       "      <td>https://www.classcentral.com/classroom/freecod...</td>\n",
       "      <td>Database Systems - Cornell University Course (...</td>\n",
       "      <td>Learn about relational and non-relational data...</td>\n",
       "      <td>17 hours worth of material</td>\n",
       "      <td>On-Demand</td>\n",
       "      <td>Free Online Course</td>\n",
       "      <td>https://www.youtube.com/watch?v=4cWkVbC2bNE</td>\n",
       "      <td>freeCodeCamp</td>\n",
       "      <td>4.5</td>\n",
       "      <td>Introductory</td>\n",
       "    </tr>\n",
       "    <tr>\n",
       "      <th>4</th>\n",
       "      <td>https://d3f1iyfxxz8i1e.cloudfront.net/courses/...</td>\n",
       "      <td>https://www.classcentral.com/classroom/freecod...</td>\n",
       "      <td>Python for Everybody - Full University Python ...</td>\n",
       "      <td>This Python 3 tutorial course aims to teach ev...</td>\n",
       "      <td>14 hours worth of material</td>\n",
       "      <td>On-Demand</td>\n",
       "      <td>Free Online Course</td>\n",
       "      <td>https://www.youtube.com/watch?v=8DvywoWv6fI</td>\n",
       "      <td>freeCodeCamp</td>\n",
       "      <td>4.7</td>\n",
       "      <td>Introductory</td>\n",
       "    </tr>\n",
       "  </tbody>\n",
       "</table>\n",
       "</div>"
      ],
      "text/plain": [
       "                                             img url  \\\n",
       "0  https://d3f1iyfxxz8i1e.cloudfront.net/courses/...   \n",
       "1  https://d3f1iyfxxz8i1e.cloudfront.net/courses/...   \n",
       "2  https://d3f1iyfxxz8i1e.cloudfront.net/courses/...   \n",
       "3  https://d3f1iyfxxz8i1e.cloudfront.net/courses/...   \n",
       "4  https://d3f1iyfxxz8i1e.cloudfront.net/courses/...   \n",
       "\n",
       "                                                 URL  \\\n",
       "0  https://www.classcentral.com/classroom/freecod...   \n",
       "1  https://www.classcentral.com/course/freecodeca...   \n",
       "2  https://www.classcentral.com/course/freecodeca...   \n",
       "3  https://www.classcentral.com/classroom/freecod...   \n",
       "4  https://www.classcentral.com/classroom/freecod...   \n",
       "\n",
       "                                               Title  \\\n",
       "0  Harvard CS50 – Full Computer Science Universit...   \n",
       "1                              Responsive Web Design   \n",
       "2          JavaScript Algorithms and Data Structures   \n",
       "3  Database Systems - Cornell University Course (...   \n",
       "4  Python for Everybody - Full University Python ...   \n",
       "\n",
       "                                         Description  \\\n",
       "0  Syllabus: ⌨️ Lecture 0 - Scratch⌨️ Lecture 1 -...   \n",
       "1  In this Responsive Web Design Certification, y...   \n",
       "2  While HTML and CSS control the content and sty...   \n",
       "3  Learn about relational and non-relational data...   \n",
       "4  This Python 3 tutorial course aims to teach ev...   \n",
       "\n",
       "                      Duration       Time               Price  \\\n",
       "0   24 hours worth of material  On-Demand  Free Online Course   \n",
       "1  300 hours worth of material  On-Demand    Free Certificate   \n",
       "2  300 hours worth of material  On-Demand    Free Certificate   \n",
       "3   17 hours worth of material  On-Demand  Free Online Course   \n",
       "4   14 hours worth of material  On-Demand  Free Online Course   \n",
       "\n",
       "                                            FinalURL      Provider  Ratings  \\\n",
       "0  https://www.youtube.com/supported_browsers?nex...  freeCodeCamp      4.8   \n",
       "1  https://www.freecodecamp.org/learn/2022/respon...  freeCodeCamp      4.6   \n",
       "2  https://www.freecodecamp.org/learn/javascript-...  freeCodeCamp      4.8   \n",
       "3        https://www.youtube.com/watch?v=4cWkVbC2bNE  freeCodeCamp      4.5   \n",
       "4        https://www.youtube.com/watch?v=8DvywoWv6fI  freeCodeCamp      4.7   \n",
       "\n",
       "     Difficulty  \n",
       "0  Introductory  \n",
       "1  Introductory  \n",
       "2  Introductory  \n",
       "3  Introductory  \n",
       "4  Introductory  "
      ]
     },
     "execution_count": 4,
     "metadata": {},
     "output_type": "execute_result"
    }
   ],
   "source": [
    "df.head()"
   ]
  },
  {
   "cell_type": "code",
   "execution_count": 5,
   "id": "10396c56",
   "metadata": {},
   "outputs": [
    {
     "name": "stdout",
     "output_type": "stream",
     "text": [
      "<class 'pandas.core.frame.DataFrame'>\n",
      "RangeIndex: 518 entries, 0 to 517\n",
      "Data columns (total 11 columns):\n",
      " #   Column       Non-Null Count  Dtype  \n",
      "---  ------       --------------  -----  \n",
      " 0   img url      517 non-null    object \n",
      " 1   URL          518 non-null    object \n",
      " 2   Title        518 non-null    object \n",
      " 3   Description  518 non-null    object \n",
      " 4   Duration     518 non-null    object \n",
      " 5   Time         518 non-null    object \n",
      " 6   Price        517 non-null    object \n",
      " 7   FinalURL     518 non-null    object \n",
      " 8   Provider     518 non-null    object \n",
      " 9   Ratings      57 non-null     float64\n",
      " 10  Difficulty   518 non-null    object \n",
      "dtypes: float64(1), object(10)\n",
      "memory usage: 44.6+ KB\n"
     ]
    }
   ],
   "source": [
    "df.info()"
   ]
  },
  {
   "cell_type": "code",
   "execution_count": 6,
   "id": "1ebc844a",
   "metadata": {},
   "outputs": [
    {
     "data": {
      "text/plain": [
       "Index(['img url', 'URL', 'Title', 'Description', 'Duration', 'Time', 'Price',\n",
       "       'FinalURL', 'Provider', 'Ratings', 'Difficulty'],\n",
       "      dtype='object')"
      ]
     },
     "execution_count": 6,
     "metadata": {},
     "output_type": "execute_result"
    }
   ],
   "source": [
    "df.columns"
   ]
  },
  {
   "cell_type": "markdown",
   "id": "ea3e8549",
   "metadata": {},
   "source": [
    "### drop duplicates"
   ]
  },
  {
   "cell_type": "code",
   "execution_count": 7,
   "id": "b3e686f9",
   "metadata": {},
   "outputs": [],
   "source": [
    "df.drop_duplicates(subset=\"FinalURL\",\n",
    "                     keep=False, inplace=True)"
   ]
  },
  {
   "cell_type": "code",
   "execution_count": 8,
   "id": "28efc10e",
   "metadata": {},
   "outputs": [
    {
     "data": {
      "text/plain": [
       "(518, 11)"
      ]
     },
     "execution_count": 8,
     "metadata": {},
     "output_type": "execute_result"
    }
   ],
   "source": [
    "df.shape"
   ]
  },
  {
   "cell_type": "code",
   "execution_count": 9,
   "id": "98cc6607",
   "metadata": {},
   "outputs": [],
   "source": [
    "df.dropna(subset=['Price'],inplace=True)"
   ]
  },
  {
   "cell_type": "code",
   "execution_count": 10,
   "id": "c0ed9c4e",
   "metadata": {},
   "outputs": [
    {
     "name": "stdout",
     "output_type": "stream",
     "text": [
      "<class 'pandas.core.frame.DataFrame'>\n",
      "Int64Index: 517 entries, 0 to 517\n",
      "Data columns (total 11 columns):\n",
      " #   Column       Non-Null Count  Dtype  \n",
      "---  ------       --------------  -----  \n",
      " 0   img url      517 non-null    object \n",
      " 1   URL          517 non-null    object \n",
      " 2   Title        517 non-null    object \n",
      " 3   Description  517 non-null    object \n",
      " 4   Duration     517 non-null    object \n",
      " 5   Time         517 non-null    object \n",
      " 6   Price        517 non-null    object \n",
      " 7   FinalURL     517 non-null    object \n",
      " 8   Provider     517 non-null    object \n",
      " 9   Ratings      57 non-null     float64\n",
      " 10  Difficulty   517 non-null    object \n",
      "dtypes: float64(1), object(10)\n",
      "memory usage: 48.5+ KB\n"
     ]
    }
   ],
   "source": [
    "df.info()"
   ]
  },
  {
   "cell_type": "code",
   "execution_count": 11,
   "id": "40770675",
   "metadata": {},
   "outputs": [
    {
     "data": {
      "text/plain": [
       "(517, 11)"
      ]
     },
     "execution_count": 11,
     "metadata": {},
     "output_type": "execute_result"
    }
   ],
   "source": [
    "df.shape"
   ]
  },
  {
   "cell_type": "markdown",
   "id": "aa500112",
   "metadata": {},
   "source": [
    "### get title, url "
   ]
  },
  {
   "cell_type": "code",
   "execution_count": 12,
   "id": "61fe6073",
   "metadata": {},
   "outputs": [],
   "source": [
    "data_name=df['Title']\n",
    "data_url=df['FinalURL']"
   ]
  },
  {
   "cell_type": "code",
   "execution_count": 13,
   "id": "025ee9a8",
   "metadata": {},
   "outputs": [
    {
     "data": {
      "text/plain": [
       "'Syllabus: ⌨️ Lecture 0 - Scratch⌨️ Lecture 1 - C⌨️ Lecture 2 - Arrays⌨️ Lecture 3 - Algorithms⌨️ Lecture 4 - Memory⌨️ Lecture 5 - Data Structures⌨️ Lecture 6 - Python⌨️ Lecture 7 - SQL⌨️ Lecture 8 - HTML, CSS, JavaScript⌨️ Lecture 9 - Flask⌨️ Lecture 10 - Emoji⌨️ Cy…'"
      ]
     },
     "execution_count": 13,
     "metadata": {},
     "output_type": "execute_result"
    }
   ],
   "source": [
    "df['Description'][0]"
   ]
  },
  {
   "cell_type": "markdown",
   "id": "29c0bd88",
   "metadata": {},
   "source": [
    "### Get description "
   ]
  },
  {
   "cell_type": "code",
   "execution_count": 14,
   "id": "41452159",
   "metadata": {},
   "outputs": [],
   "source": [
    "def remove_emoji(text):\n",
    "    text=text.strip()\n",
    "    emoji_pattern = re.compile(\"[\"\n",
    "        u\"\\U0001F600-\\U0001F64F\"  # emoticons\n",
    "        u\"\\U0001F300-\\U0001F5FF\"# symbols & pictographs\n",
    "        u\"\\u2328-\\ufe0f\"                  \n",
    "        u\"\\U0001F680-\\U0001F6FF\"  # transport & map symbols\n",
    "        u\"\\U0001F1E0-\\U0001F1FF\"  # flags (iOS)\n",
    "                           \"]+\", flags=re.UNICODE)\n",
    "    return re.sub(emoji_pattern, '', text)"
   ]
  },
  {
   "cell_type": "code",
   "execution_count": 15,
   "id": "489855e1",
   "metadata": {},
   "outputs": [],
   "source": [
    "sdesc=df['Description'].apply(lambda x: '' if pd.isna(x) else remove_emoji(x))\n"
   ]
  },
  {
   "cell_type": "code",
   "execution_count": 16,
   "id": "21a59849",
   "metadata": {},
   "outputs": [],
   "source": [
    "ldesc=df['Description'].apply(lambda x: '' if pd.isna(x) else remove_emoji(x))\n"
   ]
  },
  {
   "cell_type": "code",
   "execution_count": 17,
   "id": "d5ee95d2",
   "metadata": {},
   "outputs": [
    {
     "data": {
      "text/plain": [
       "0      Syllabus:  Lecture 0 - Scratch Lecture 1 - C L...\n",
       "1      In this Responsive Web Design Certification, y...\n",
       "2      While HTML and CSS control the content and sty...\n",
       "3      Learn about relational and non-relational data...\n",
       "4      This Python 3 tutorial course aims to teach ev...\n",
       "                             ...                        \n",
       "513    Syllabus:   Introduction   Ch 1 - Why HTTP   C...\n",
       "514    Syllabus:   Demo   Introduction   Setting up  ...\n",
       "515    Syllabus:  Video 1 - Welcome   Video 2 - Defin...\n",
       "516    Syllabus:  Intro  Basic setup  Object oriented...\n",
       "517    Syllabus:   Introduction   1.1 Project Setup &...\n",
       "Name: Description, Length: 517, dtype: object"
      ]
     },
     "execution_count": 17,
     "metadata": {},
     "output_type": "execute_result"
    }
   ],
   "source": [
    "sdesc"
   ]
  },
  {
   "cell_type": "markdown",
   "id": "3c880e06",
   "metadata": {},
   "source": [
    "### preprocess duration\n"
   ]
  },
  {
   "cell_type": "code",
   "execution_count": 18,
   "id": "7d7de4a7",
   "metadata": {},
   "outputs": [],
   "source": [
    "df['Duration'] = df['Duration'].astype('str').str.extractall('(\\d+)').unstack().fillna('').sum(axis=1).astype(int)"
   ]
  },
  {
   "cell_type": "code",
   "execution_count": 19,
   "id": "f45de710",
   "metadata": {},
   "outputs": [
    {
     "data": {
      "text/plain": [
       "0     24\n",
       "1    300\n",
       "2    300\n",
       "3     17\n",
       "4     14\n",
       "5     34\n",
       "6     37\n",
       "7     23\n",
       "8     12\n",
       "9     45\n",
       "Name: Duration, dtype: int32"
      ]
     },
     "execution_count": 19,
     "metadata": {},
     "output_type": "execute_result"
    }
   ],
   "source": [
    "df['Duration'].head(10)"
   ]
  },
  {
   "cell_type": "code",
   "execution_count": 20,
   "id": "6f86c3c6",
   "metadata": {},
   "outputs": [],
   "source": [
    "# Convert course duration in hours to categorical\n",
    "# 0 : short , 1 : medium , 2 : long\n",
    "def conv_dur(dur):\n",
    "  if pd.isna(dur):\n",
    "    cat_dur = np.nan\n",
    "  elif (dur > 0) and (dur <= 10):\n",
    "    cat_dur = 0\n",
    "  elif (dur > 10) and (dur <= 50):\n",
    "    cat_dur = 1\n",
    "  else:\n",
    "    cat_dur = 2\n",
    "  return cat_dur"
   ]
  },
  {
   "cell_type": "code",
   "execution_count": 21,
   "id": "a33bd894",
   "metadata": {},
   "outputs": [],
   "source": [
    "data_dur=df['Duration'].apply(lambda x: conv_dur(x))"
   ]
  },
  {
   "cell_type": "markdown",
   "id": "99fc7997",
   "metadata": {},
   "source": [
    "### preprocess cost"
   ]
  },
  {
   "cell_type": "code",
   "execution_count": 22,
   "id": "cdc4d52d",
   "metadata": {},
   "outputs": [],
   "source": [
    "def isfree(strs):\n",
    "  if 'Free' in strs:\n",
    "    f = 1\n",
    "  else:\n",
    "    f = 0\n",
    "  return f\n",
    "\n"
   ]
  },
  {
   "cell_type": "code",
   "execution_count": 23,
   "id": "1502296c",
   "metadata": {},
   "outputs": [
    {
     "data": {
      "text/plain": [
       "0"
      ]
     },
     "execution_count": 23,
     "metadata": {},
     "output_type": "execute_result"
    }
   ],
   "source": [
    "df.Price.isna().sum()"
   ]
  },
  {
   "cell_type": "code",
   "execution_count": 24,
   "id": "4fffce63",
   "metadata": {},
   "outputs": [
    {
     "data": {
      "text/html": [
       "<div>\n",
       "<style scoped>\n",
       "    .dataframe tbody tr th:only-of-type {\n",
       "        vertical-align: middle;\n",
       "    }\n",
       "\n",
       "    .dataframe tbody tr th {\n",
       "        vertical-align: top;\n",
       "    }\n",
       "\n",
       "    .dataframe thead th {\n",
       "        text-align: right;\n",
       "    }\n",
       "</style>\n",
       "<table border=\"1\" class=\"dataframe\">\n",
       "  <thead>\n",
       "    <tr style=\"text-align: right;\">\n",
       "      <th></th>\n",
       "      <th>img url</th>\n",
       "      <th>URL</th>\n",
       "      <th>Title</th>\n",
       "      <th>Description</th>\n",
       "      <th>Duration</th>\n",
       "      <th>Time</th>\n",
       "      <th>Price</th>\n",
       "      <th>FinalURL</th>\n",
       "      <th>Provider</th>\n",
       "      <th>Ratings</th>\n",
       "      <th>Difficulty</th>\n",
       "    </tr>\n",
       "  </thead>\n",
       "  <tbody>\n",
       "  </tbody>\n",
       "</table>\n",
       "</div>"
      ],
      "text/plain": [
       "Empty DataFrame\n",
       "Columns: [img url, URL, Title, Description, Duration, Time, Price, FinalURL, Provider, Ratings, Difficulty]\n",
       "Index: []"
      ]
     },
     "execution_count": 24,
     "metadata": {},
     "output_type": "execute_result"
    }
   ],
   "source": [
    "(df[df.Price.isnull()].head())"
   ]
  },
  {
   "cell_type": "code",
   "execution_count": 25,
   "id": "f1dd077a",
   "metadata": {},
   "outputs": [
    {
     "data": {
      "text/plain": [
       "array(['Free Online Course', 'Free Certificate'], dtype=object)"
      ]
     },
     "execution_count": 25,
     "metadata": {},
     "output_type": "execute_result"
    }
   ],
   "source": [
    "df.Price.unique()"
   ]
  },
  {
   "cell_type": "code",
   "execution_count": 26,
   "id": "97f13a58",
   "metadata": {},
   "outputs": [
    {
     "data": {
      "text/plain": [
       "0      1\n",
       "1      1\n",
       "2      1\n",
       "3      1\n",
       "4      1\n",
       "      ..\n",
       "513    1\n",
       "514    1\n",
       "515    1\n",
       "516    1\n",
       "517    1\n",
       "Name: Price, Length: 517, dtype: int64"
      ]
     },
     "execution_count": 26,
     "metadata": {},
     "output_type": "execute_result"
    }
   ],
   "source": [
    "data_cost = df['Price'].apply(lambda x :isfree(x))\n",
    "data_cost"
   ]
  },
  {
   "cell_type": "markdown",
   "id": "0b22ce07",
   "metadata": {},
   "source": [
    "### Preprocess difficulty level"
   ]
  },
  {
   "cell_type": "code",
   "execution_count": 27,
   "id": "491b694e",
   "metadata": {},
   "outputs": [
    {
     "data": {
      "text/plain": [
       "0"
      ]
     },
     "execution_count": 27,
     "metadata": {},
     "output_type": "execute_result"
    }
   ],
   "source": [
    "df.Difficulty.isna().sum()"
   ]
  },
  {
   "cell_type": "code",
   "execution_count": 28,
   "id": "aaa8cfe7",
   "metadata": {},
   "outputs": [
    {
     "data": {
      "text/plain": [
       "array(['Introductory'], dtype=object)"
      ]
     },
     "execution_count": 28,
     "metadata": {},
     "output_type": "execute_result"
    }
   ],
   "source": [
    "df.Difficulty.unique()"
   ]
  },
  {
   "cell_type": "code",
   "execution_count": 29,
   "id": "5d744fb4",
   "metadata": {},
   "outputs": [],
   "source": [
    "def conv_diff(strs):\n",
    "  if strs == 'Introductory':\n",
    "    diff = 0\n",
    "  elif strs == 'Intermediate':\n",
    "    diff = 1\n",
    "  else:\n",
    "    diff = 2\n",
    "  return diff\n",
    "\n",
    "data_diff = df['Difficulty'].apply(lambda x: conv_diff(x))"
   ]
  },
  {
   "cell_type": "code",
   "execution_count": null,
   "id": "831a50da",
   "metadata": {},
   "outputs": [],
   "source": []
  },
  {
   "cell_type": "markdown",
   "id": "605c359c",
   "metadata": {},
   "source": [
    "### preprocess ratings"
   ]
  },
  {
   "cell_type": "code",
   "execution_count": 30,
   "id": "3c0e6f6c",
   "metadata": {},
   "outputs": [
    {
     "data": {
      "text/plain": [
       "460"
      ]
     },
     "execution_count": 30,
     "metadata": {},
     "output_type": "execute_result"
    }
   ],
   "source": [
    "df.Ratings.isna().sum()"
   ]
  },
  {
   "cell_type": "code",
   "execution_count": 31,
   "id": "a31925c6",
   "metadata": {},
   "outputs": [],
   "source": [
    "meanval = np.mean(df.Ratings)\n",
    "df.Ratings.fillna(meanval,inplace = True)"
   ]
  },
  {
   "cell_type": "code",
   "execution_count": 32,
   "id": "44169329",
   "metadata": {},
   "outputs": [
    {
     "data": {
      "text/plain": [
       "0"
      ]
     },
     "execution_count": 32,
     "metadata": {},
     "output_type": "execute_result"
    }
   ],
   "source": [
    "df.Ratings.isna().sum()"
   ]
  },
  {
   "cell_type": "code",
   "execution_count": 33,
   "id": "e3019afa",
   "metadata": {},
   "outputs": [
    {
     "data": {
      "text/plain": [
       "array([4.8       , 4.6       , 4.5       , 4.7       , 4.4       ,\n",
       "       4.9       , 3.9       , 4.        , 5.        , 3.8       ,\n",
       "       3.        , 4.58245614])"
      ]
     },
     "execution_count": 33,
     "metadata": {},
     "output_type": "execute_result"
    }
   ],
   "source": [
    "df.Ratings.unique()"
   ]
  },
  {
   "cell_type": "code",
   "execution_count": 34,
   "id": "d2abae14",
   "metadata": {},
   "outputs": [
    {
     "data": {
      "text/plain": [
       "dtype('float64')"
      ]
     },
     "execution_count": 34,
     "metadata": {},
     "output_type": "execute_result"
    }
   ],
   "source": [
    "df.dtypes['Ratings']"
   ]
  },
  {
   "cell_type": "code",
   "execution_count": 35,
   "id": "f3dccd6a",
   "metadata": {},
   "outputs": [],
   "source": [
    "ratings=df['Ratings'].apply(lambda x: round(x,2))"
   ]
  },
  {
   "cell_type": "code",
   "execution_count": 36,
   "id": "8e3c99e7",
   "metadata": {},
   "outputs": [
    {
     "data": {
      "text/plain": [
       "0      4.80\n",
       "1      4.60\n",
       "2      4.80\n",
       "3      4.50\n",
       "4      4.70\n",
       "       ... \n",
       "513    4.58\n",
       "514    4.58\n",
       "515    4.58\n",
       "516    4.58\n",
       "517    4.58\n",
       "Name: Ratings, Length: 517, dtype: float64"
      ]
     },
     "execution_count": 36,
     "metadata": {},
     "output_type": "execute_result"
    }
   ],
   "source": [
    "ratings"
   ]
  },
  {
   "cell_type": "code",
   "execution_count": 37,
   "id": "336b9e59",
   "metadata": {},
   "outputs": [],
   "source": [
    "data_img=df['img url']"
   ]
  },
  {
   "cell_type": "markdown",
   "id": "9a644de0",
   "metadata": {},
   "source": [
    "### combine data"
   ]
  },
  {
   "cell_type": "code",
   "execution_count": 38,
   "id": "855afead",
   "metadata": {},
   "outputs": [
    {
     "data": {
      "text/html": [
       "<div>\n",
       "<style scoped>\n",
       "    .dataframe tbody tr th:only-of-type {\n",
       "        vertical-align: middle;\n",
       "    }\n",
       "\n",
       "    .dataframe tbody tr th {\n",
       "        vertical-align: top;\n",
       "    }\n",
       "\n",
       "    .dataframe thead th {\n",
       "        text-align: right;\n",
       "    }\n",
       "</style>\n",
       "<table border=\"1\" class=\"dataframe\">\n",
       "  <thead>\n",
       "    <tr style=\"text-align: right;\">\n",
       "      <th></th>\n",
       "      <th>Course Name</th>\n",
       "      <th>URL</th>\n",
       "      <th>Categories</th>\n",
       "      <th>Short Description</th>\n",
       "      <th>Long Description</th>\n",
       "      <th>Difficulty</th>\n",
       "      <th>Duration</th>\n",
       "      <th>Free Option</th>\n",
       "      <th>Number of Enrolled</th>\n",
       "      <th>Rating</th>\n",
       "      <th>Paid Option</th>\n",
       "      <th>Language</th>\n",
       "      <th>Subtitle Language</th>\n",
       "      <th>Platform</th>\n",
       "      <th>Provider</th>\n",
       "      <th>Image URL</th>\n",
       "    </tr>\n",
       "  </thead>\n",
       "  <tbody>\n",
       "  </tbody>\n",
       "</table>\n",
       "</div>"
      ],
      "text/plain": [
       "Empty DataFrame\n",
       "Columns: [Course Name, URL, Categories, Short Description, Long Description, Difficulty, Duration, Free Option, Number of Enrolled, Rating, Paid Option, Language, Subtitle Language, Platform, Provider, Image URL]\n",
       "Index: []"
      ]
     },
     "execution_count": 38,
     "metadata": {},
     "output_type": "execute_result"
    }
   ],
   "source": [
    "df1 = pd.DataFrame(columns = ['Course Name', 'URL', 'Categories', 'Short Description', 'Long Description', 'Difficulty', 'Duration', 'Free Option', 'Number of Enrolled', 'Rating', 'Paid Option', 'Language', 'Subtitle Language', 'Platform', 'Provider', 'Image URL'])\n",
    "df1"
   ]
  },
  {
   "cell_type": "code",
   "execution_count": 39,
   "id": "bd03246e",
   "metadata": {},
   "outputs": [],
   "source": [
    "df1['Course Name']=data_name\n",
    "df1['Categories']= 'Computer Science'\n",
    "df1['URL']=data_url\n",
    "df1['Provider']='freeCodeCamp'\n",
    "df1['Short Description']=sdesc\n",
    "df1['Long Description']=ldesc\n",
    "df1['Difficulty']= data_diff\n",
    "df1['Duration']=data_dur\n",
    "df1['Rating']=ratings\n",
    "df1['Number of Enrolled']=0\n",
    "df1['Platform']='freeCodeCamp'\n",
    "df1['Free Option']=data_cost\n",
    "df1['Paid Option']=0\n",
    "df1['Language']='English'\n",
    "df1['Subtitle Language']='English'\n",
    "df1['Image URL']=data_img"
   ]
  },
  {
   "cell_type": "code",
   "execution_count": 40,
   "id": "a6b8122c",
   "metadata": {},
   "outputs": [
    {
     "data": {
      "text/html": [
       "<div>\n",
       "<style scoped>\n",
       "    .dataframe tbody tr th:only-of-type {\n",
       "        vertical-align: middle;\n",
       "    }\n",
       "\n",
       "    .dataframe tbody tr th {\n",
       "        vertical-align: top;\n",
       "    }\n",
       "\n",
       "    .dataframe thead th {\n",
       "        text-align: right;\n",
       "    }\n",
       "</style>\n",
       "<table border=\"1\" class=\"dataframe\">\n",
       "  <thead>\n",
       "    <tr style=\"text-align: right;\">\n",
       "      <th></th>\n",
       "      <th>Course Name</th>\n",
       "      <th>URL</th>\n",
       "      <th>Categories</th>\n",
       "      <th>Short Description</th>\n",
       "      <th>Long Description</th>\n",
       "      <th>Difficulty</th>\n",
       "      <th>Duration</th>\n",
       "      <th>Free Option</th>\n",
       "      <th>Number of Enrolled</th>\n",
       "      <th>Rating</th>\n",
       "      <th>Paid Option</th>\n",
       "      <th>Language</th>\n",
       "      <th>Subtitle Language</th>\n",
       "      <th>Platform</th>\n",
       "      <th>Provider</th>\n",
       "      <th>Image URL</th>\n",
       "    </tr>\n",
       "  </thead>\n",
       "  <tbody>\n",
       "    <tr>\n",
       "      <th>0</th>\n",
       "      <td>Harvard CS50 – Full Computer Science Universit...</td>\n",
       "      <td>https://www.youtube.com/supported_browsers?nex...</td>\n",
       "      <td>Computer Science</td>\n",
       "      <td>Syllabus:  Lecture 0 - Scratch Lecture 1 - C L...</td>\n",
       "      <td>Syllabus:  Lecture 0 - Scratch Lecture 1 - C L...</td>\n",
       "      <td>0</td>\n",
       "      <td>1</td>\n",
       "      <td>1</td>\n",
       "      <td>0</td>\n",
       "      <td>4.8</td>\n",
       "      <td>0</td>\n",
       "      <td>English</td>\n",
       "      <td>English</td>\n",
       "      <td>freeCodeCamp</td>\n",
       "      <td>freeCodeCamp</td>\n",
       "      <td>https://d3f1iyfxxz8i1e.cloudfront.net/courses/...</td>\n",
       "    </tr>\n",
       "    <tr>\n",
       "      <th>1</th>\n",
       "      <td>Responsive Web Design</td>\n",
       "      <td>https://www.freecodecamp.org/learn/2022/respon...</td>\n",
       "      <td>Computer Science</td>\n",
       "      <td>In this Responsive Web Design Certification, y...</td>\n",
       "      <td>In this Responsive Web Design Certification, y...</td>\n",
       "      <td>0</td>\n",
       "      <td>2</td>\n",
       "      <td>1</td>\n",
       "      <td>0</td>\n",
       "      <td>4.6</td>\n",
       "      <td>0</td>\n",
       "      <td>English</td>\n",
       "      <td>English</td>\n",
       "      <td>freeCodeCamp</td>\n",
       "      <td>freeCodeCamp</td>\n",
       "      <td>https://d3f1iyfxxz8i1e.cloudfront.net/courses/...</td>\n",
       "    </tr>\n",
       "    <tr>\n",
       "      <th>2</th>\n",
       "      <td>JavaScript Algorithms and Data Structures</td>\n",
       "      <td>https://www.freecodecamp.org/learn/javascript-...</td>\n",
       "      <td>Computer Science</td>\n",
       "      <td>While HTML and CSS control the content and sty...</td>\n",
       "      <td>While HTML and CSS control the content and sty...</td>\n",
       "      <td>0</td>\n",
       "      <td>2</td>\n",
       "      <td>1</td>\n",
       "      <td>0</td>\n",
       "      <td>4.8</td>\n",
       "      <td>0</td>\n",
       "      <td>English</td>\n",
       "      <td>English</td>\n",
       "      <td>freeCodeCamp</td>\n",
       "      <td>freeCodeCamp</td>\n",
       "      <td>https://d3f1iyfxxz8i1e.cloudfront.net/courses/...</td>\n",
       "    </tr>\n",
       "    <tr>\n",
       "      <th>3</th>\n",
       "      <td>Database Systems - Cornell University Course (...</td>\n",
       "      <td>https://www.youtube.com/watch?v=4cWkVbC2bNE</td>\n",
       "      <td>Computer Science</td>\n",
       "      <td>Learn about relational and non-relational data...</td>\n",
       "      <td>Learn about relational and non-relational data...</td>\n",
       "      <td>0</td>\n",
       "      <td>1</td>\n",
       "      <td>1</td>\n",
       "      <td>0</td>\n",
       "      <td>4.5</td>\n",
       "      <td>0</td>\n",
       "      <td>English</td>\n",
       "      <td>English</td>\n",
       "      <td>freeCodeCamp</td>\n",
       "      <td>freeCodeCamp</td>\n",
       "      <td>https://d3f1iyfxxz8i1e.cloudfront.net/courses/...</td>\n",
       "    </tr>\n",
       "    <tr>\n",
       "      <th>4</th>\n",
       "      <td>Python for Everybody - Full University Python ...</td>\n",
       "      <td>https://www.youtube.com/watch?v=8DvywoWv6fI</td>\n",
       "      <td>Computer Science</td>\n",
       "      <td>This Python 3 tutorial course aims to teach ev...</td>\n",
       "      <td>This Python 3 tutorial course aims to teach ev...</td>\n",
       "      <td>0</td>\n",
       "      <td>1</td>\n",
       "      <td>1</td>\n",
       "      <td>0</td>\n",
       "      <td>4.7</td>\n",
       "      <td>0</td>\n",
       "      <td>English</td>\n",
       "      <td>English</td>\n",
       "      <td>freeCodeCamp</td>\n",
       "      <td>freeCodeCamp</td>\n",
       "      <td>https://d3f1iyfxxz8i1e.cloudfront.net/courses/...</td>\n",
       "    </tr>\n",
       "  </tbody>\n",
       "</table>\n",
       "</div>"
      ],
      "text/plain": [
       "                                         Course Name  \\\n",
       "0  Harvard CS50 – Full Computer Science Universit...   \n",
       "1                              Responsive Web Design   \n",
       "2          JavaScript Algorithms and Data Structures   \n",
       "3  Database Systems - Cornell University Course (...   \n",
       "4  Python for Everybody - Full University Python ...   \n",
       "\n",
       "                                                 URL        Categories  \\\n",
       "0  https://www.youtube.com/supported_browsers?nex...  Computer Science   \n",
       "1  https://www.freecodecamp.org/learn/2022/respon...  Computer Science   \n",
       "2  https://www.freecodecamp.org/learn/javascript-...  Computer Science   \n",
       "3        https://www.youtube.com/watch?v=4cWkVbC2bNE  Computer Science   \n",
       "4        https://www.youtube.com/watch?v=8DvywoWv6fI  Computer Science   \n",
       "\n",
       "                                   Short Description  \\\n",
       "0  Syllabus:  Lecture 0 - Scratch Lecture 1 - C L...   \n",
       "1  In this Responsive Web Design Certification, y...   \n",
       "2  While HTML and CSS control the content and sty...   \n",
       "3  Learn about relational and non-relational data...   \n",
       "4  This Python 3 tutorial course aims to teach ev...   \n",
       "\n",
       "                                    Long Description  Difficulty  Duration  \\\n",
       "0  Syllabus:  Lecture 0 - Scratch Lecture 1 - C L...           0         1   \n",
       "1  In this Responsive Web Design Certification, y...           0         2   \n",
       "2  While HTML and CSS control the content and sty...           0         2   \n",
       "3  Learn about relational and non-relational data...           0         1   \n",
       "4  This Python 3 tutorial course aims to teach ev...           0         1   \n",
       "\n",
       "   Free Option  Number of Enrolled  Rating  Paid Option Language  \\\n",
       "0            1                   0     4.8            0  English   \n",
       "1            1                   0     4.6            0  English   \n",
       "2            1                   0     4.8            0  English   \n",
       "3            1                   0     4.5            0  English   \n",
       "4            1                   0     4.7            0  English   \n",
       "\n",
       "  Subtitle Language      Platform      Provider  \\\n",
       "0           English  freeCodeCamp  freeCodeCamp   \n",
       "1           English  freeCodeCamp  freeCodeCamp   \n",
       "2           English  freeCodeCamp  freeCodeCamp   \n",
       "3           English  freeCodeCamp  freeCodeCamp   \n",
       "4           English  freeCodeCamp  freeCodeCamp   \n",
       "\n",
       "                                           Image URL  \n",
       "0  https://d3f1iyfxxz8i1e.cloudfront.net/courses/...  \n",
       "1  https://d3f1iyfxxz8i1e.cloudfront.net/courses/...  \n",
       "2  https://d3f1iyfxxz8i1e.cloudfront.net/courses/...  \n",
       "3  https://d3f1iyfxxz8i1e.cloudfront.net/courses/...  \n",
       "4  https://d3f1iyfxxz8i1e.cloudfront.net/courses/...  "
      ]
     },
     "execution_count": 40,
     "metadata": {},
     "output_type": "execute_result"
    }
   ],
   "source": [
    "df1.head()"
   ]
  },
  {
   "cell_type": "code",
   "execution_count": 41,
   "id": "0f86ee35",
   "metadata": {},
   "outputs": [
    {
     "data": {
      "text/plain": [
       "517"
      ]
     },
     "execution_count": 41,
     "metadata": {},
     "output_type": "execute_result"
    }
   ],
   "source": [
    "\n",
    "len(df1['Course Name'].unique())"
   ]
  },
  {
   "cell_type": "code",
   "execution_count": 42,
   "id": "7bb54ca8",
   "metadata": {},
   "outputs": [
    {
     "data": {
      "text/plain": [
       "(517, 16)"
      ]
     },
     "execution_count": 42,
     "metadata": {},
     "output_type": "execute_result"
    }
   ],
   "source": [
    "df1.shape"
   ]
  },
  {
   "cell_type": "code",
   "execution_count": 43,
   "id": "99980980",
   "metadata": {},
   "outputs": [],
   "source": [
    "df1.to_csv('freecodeCamp_preprocess_done.csv', index=False, encoding='utf_8_sig')"
   ]
  },
  {
   "cell_type": "code",
   "execution_count": null,
   "id": "f2aaca18",
   "metadata": {},
   "outputs": [],
   "source": []
  }
 ],
 "metadata": {
  "kernelspec": {
   "display_name": "Python 3 (ipykernel)",
   "language": "python",
   "name": "python3"
  },
  "language_info": {
   "codemirror_mode": {
    "name": "ipython",
    "version": 3
   },
   "file_extension": ".py",
   "mimetype": "text/x-python",
   "name": "python",
   "nbconvert_exporter": "python",
   "pygments_lexer": "ipython3",
   "version": "3.9.7"
  }
 },
 "nbformat": 4,
 "nbformat_minor": 5
}
