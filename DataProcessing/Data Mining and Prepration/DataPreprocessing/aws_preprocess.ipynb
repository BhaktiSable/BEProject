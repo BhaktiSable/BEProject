{
 "cells": [
  {
   "cell_type": "code",
   "execution_count": 1,
   "id": "c4ffb082",
   "metadata": {},
   "outputs": [],
   "source": [
    "\n",
    "import re\n",
    "import pandas as pd\n",
    "import numpy as np"
   ]
  },
  {
   "cell_type": "code",
   "execution_count": 2,
   "id": "5021595f",
   "metadata": {},
   "outputs": [],
   "source": [
    "aws=pd.read_csv(r'C:\\Users\\nehab\\Desktop\\Python\\final datasets\\AWS.csv')"
   ]
  },
  {
   "cell_type": "code",
   "execution_count": 3,
   "id": "541700bc",
   "metadata": {},
   "outputs": [
    {
     "data": {
      "text/html": [
       "<div>\n",
       "<style scoped>\n",
       "    .dataframe tbody tr th:only-of-type {\n",
       "        vertical-align: middle;\n",
       "    }\n",
       "\n",
       "    .dataframe tbody tr th {\n",
       "        vertical-align: top;\n",
       "    }\n",
       "\n",
       "    .dataframe thead th {\n",
       "        text-align: right;\n",
       "    }\n",
       "</style>\n",
       "<table border=\"1\" class=\"dataframe\">\n",
       "  <thead>\n",
       "    <tr style=\"text-align: right;\">\n",
       "      <th></th>\n",
       "      <th>Course Title</th>\n",
       "      <th>Course URL</th>\n",
       "      <th>Duration</th>\n",
       "      <th>Rating</th>\n",
       "      <th>Cost</th>\n",
       "      <th>Level</th>\n",
       "      <th>Description</th>\n",
       "      <th>Platform</th>\n",
       "    </tr>\n",
       "  </thead>\n",
       "  <tbody>\n",
       "    <tr>\n",
       "      <th>0</th>\n",
       "      <td>Getting Started with AWS Mainframe Modernizati...</td>\n",
       "      <td>https://explore.skillbuilder.aws/learn/course/...</td>\n",
       "      <td>1h 00m</td>\n",
       "      <td>5.0</td>\n",
       "      <td>Free</td>\n",
       "      <td>Fundamental</td>\n",
       "      <td>NaN</td>\n",
       "      <td>AWS</td>\n",
       "    </tr>\n",
       "    <tr>\n",
       "      <th>1</th>\n",
       "      <td>Cloud for CEOs</td>\n",
       "      <td>https://explore.skillbuilder.aws/learn/course/...</td>\n",
       "      <td>10m 00s</td>\n",
       "      <td>5.0</td>\n",
       "      <td>Free</td>\n",
       "      <td>Fundamental</td>\n",
       "      <td>This course provides CEOs and presidents a hig...</td>\n",
       "      <td>AWS</td>\n",
       "    </tr>\n",
       "    <tr>\n",
       "      <th>2</th>\n",
       "      <td>Getting Started with AWS Mainframe Modernizati...</td>\n",
       "      <td>https://explore.skillbuilder.aws/learn/course/...</td>\n",
       "      <td>1h 00m</td>\n",
       "      <td>5.0</td>\n",
       "      <td>Free</td>\n",
       "      <td>Fundamental</td>\n",
       "      <td>The AWS Mainframe Modernization service helps ...</td>\n",
       "      <td>AWS</td>\n",
       "    </tr>\n",
       "    <tr>\n",
       "      <th>3</th>\n",
       "      <td>Introduction to Robotics on AWS</td>\n",
       "      <td>https://explore.skillbuilder.aws/learn/course/...</td>\n",
       "      <td>30m 00s</td>\n",
       "      <td>5.0</td>\n",
       "      <td>Free</td>\n",
       "      <td>Fundamental</td>\n",
       "      <td>The robotics industry is growing at a rapid ra...</td>\n",
       "      <td>AWS</td>\n",
       "    </tr>\n",
       "    <tr>\n",
       "      <th>4</th>\n",
       "      <td>Getting Started with Bottlerocket</td>\n",
       "      <td>https://explore.skillbuilder.aws/learn/course/...</td>\n",
       "      <td>30m 00s</td>\n",
       "      <td>5.0</td>\n",
       "      <td>Free</td>\n",
       "      <td>Fundamental</td>\n",
       "      <td>Bottlerocket is a Linux-based, open-source ope...</td>\n",
       "      <td>AWS</td>\n",
       "    </tr>\n",
       "  </tbody>\n",
       "</table>\n",
       "</div>"
      ],
      "text/plain": [
       "                                        Course Title  \\\n",
       "0  Getting Started with AWS Mainframe Modernizati...   \n",
       "1                                     Cloud for CEOs   \n",
       "2  Getting Started with AWS Mainframe Modernizati...   \n",
       "3                    Introduction to Robotics on AWS   \n",
       "4                  Getting Started with Bottlerocket   \n",
       "\n",
       "                                          Course URL Duration  Rating  Cost  \\\n",
       "0  https://explore.skillbuilder.aws/learn/course/...   1h 00m     5.0  Free   \n",
       "1  https://explore.skillbuilder.aws/learn/course/...  10m 00s     5.0  Free   \n",
       "2  https://explore.skillbuilder.aws/learn/course/...   1h 00m     5.0  Free   \n",
       "3  https://explore.skillbuilder.aws/learn/course/...  30m 00s     5.0  Free   \n",
       "4  https://explore.skillbuilder.aws/learn/course/...  30m 00s     5.0  Free   \n",
       "\n",
       "         Level                                        Description Platform  \n",
       "0  Fundamental                                                NaN      AWS  \n",
       "1  Fundamental  This course provides CEOs and presidents a hig...      AWS  \n",
       "2  Fundamental  The AWS Mainframe Modernization service helps ...      AWS  \n",
       "3  Fundamental  The robotics industry is growing at a rapid ra...      AWS  \n",
       "4  Fundamental  Bottlerocket is a Linux-based, open-source ope...      AWS  "
      ]
     },
     "execution_count": 3,
     "metadata": {},
     "output_type": "execute_result"
    }
   ],
   "source": [
    "aws.head()"
   ]
  },
  {
   "cell_type": "code",
   "execution_count": 4,
   "id": "ae090fa8",
   "metadata": {},
   "outputs": [
    {
     "data": {
      "text/plain": [
       "(548, 8)"
      ]
     },
     "execution_count": 4,
     "metadata": {},
     "output_type": "execute_result"
    }
   ],
   "source": [
    "aws.shape"
   ]
  },
  {
   "cell_type": "code",
   "execution_count": 5,
   "id": "f49bd1c9",
   "metadata": {},
   "outputs": [
    {
     "data": {
      "text/plain": [
       "Index(['Course Title', 'Course URL', 'Duration', 'Rating', 'Cost', 'Level',\n",
       "       'Description', 'Platform'],\n",
       "      dtype='object')"
      ]
     },
     "execution_count": 5,
     "metadata": {},
     "output_type": "execute_result"
    }
   ],
   "source": [
    "aws.columns"
   ]
  },
  {
   "cell_type": "code",
   "execution_count": 6,
   "id": "b0f88548",
   "metadata": {},
   "outputs": [
    {
     "name": "stdout",
     "output_type": "stream",
     "text": [
      "<class 'pandas.core.frame.DataFrame'>\n",
      "RangeIndex: 548 entries, 0 to 547\n",
      "Data columns (total 8 columns):\n",
      " #   Column        Non-Null Count  Dtype  \n",
      "---  ------        --------------  -----  \n",
      " 0   Course Title  548 non-null    object \n",
      " 1   Course URL    548 non-null    object \n",
      " 2   Duration      548 non-null    object \n",
      " 3   Rating        545 non-null    float64\n",
      " 4   Cost          548 non-null    object \n",
      " 5   Level         548 non-null    object \n",
      " 6   Description   462 non-null    object \n",
      " 7   Platform      548 non-null    object \n",
      "dtypes: float64(1), object(7)\n",
      "memory usage: 34.4+ KB\n"
     ]
    }
   ],
   "source": [
    "aws.info()"
   ]
  },
  {
   "cell_type": "markdown",
   "id": "e7325e7e",
   "metadata": {},
   "source": [
    "### drop duplicates\n"
   ]
  },
  {
   "cell_type": "code",
   "execution_count": 7,
   "id": "4488a8ea",
   "metadata": {},
   "outputs": [],
   "source": [
    "aws.drop_duplicates(subset=\"Course URL\",\n",
    "                     keep=False, inplace=True)"
   ]
  },
  {
   "cell_type": "code",
   "execution_count": 8,
   "id": "1dd5155a",
   "metadata": {},
   "outputs": [
    {
     "data": {
      "text/plain": [
       "(548, 8)"
      ]
     },
     "execution_count": 8,
     "metadata": {},
     "output_type": "execute_result"
    }
   ],
   "source": [
    "aws.shape"
   ]
  },
  {
   "cell_type": "markdown",
   "id": "135c0f06",
   "metadata": {},
   "source": [
    "### get title, url "
   ]
  },
  {
   "cell_type": "code",
   "execution_count": 9,
   "id": "e8b8ceec",
   "metadata": {},
   "outputs": [],
   "source": [
    "data_url = aws['Course URL']\n",
    "data_name = aws['Course Title']"
   ]
  },
  {
   "cell_type": "markdown",
   "id": "f2e4bb44",
   "metadata": {},
   "source": [
    "### Preprocess cost "
   ]
  },
  {
   "cell_type": "code",
   "execution_count": 10,
   "id": "35042e12",
   "metadata": {},
   "outputs": [
    {
     "data": {
      "text/plain": [
       "0"
      ]
     },
     "execution_count": 10,
     "metadata": {},
     "output_type": "execute_result"
    }
   ],
   "source": [
    "aws.Cost.isna().sum()"
   ]
  },
  {
   "cell_type": "code",
   "execution_count": 11,
   "id": "914d35e0",
   "metadata": {},
   "outputs": [
    {
     "data": {
      "text/plain": [
       "array(['Free', 'Requires Subscription'], dtype=object)"
      ]
     },
     "execution_count": 11,
     "metadata": {},
     "output_type": "execute_result"
    }
   ],
   "source": [
    "aws.Cost.unique()"
   ]
  },
  {
   "cell_type": "code",
   "execution_count": 12,
   "id": "896cc26a",
   "metadata": {},
   "outputs": [],
   "source": [
    "# Check if free option is available\n",
    "# 1 : Free , 0: not free\n",
    "data_costcat =aws['Cost'].apply(lambda x: 1 if x == 'Free' else 0)"
   ]
  },
  {
   "cell_type": "code",
   "execution_count": 13,
   "id": "6d94b841",
   "metadata": {},
   "outputs": [
    {
     "data": {
      "text/plain": [
       "0"
      ]
     },
     "execution_count": 13,
     "metadata": {},
     "output_type": "execute_result"
    }
   ],
   "source": [
    "aws.Cost.isna().sum()"
   ]
  },
  {
   "cell_type": "code",
   "execution_count": 14,
   "id": "de54f3e7",
   "metadata": {},
   "outputs": [],
   "source": [
    "## alternate cost option \n",
    "data_alt_cost =aws['Cost'].apply(lambda x: 'Requires Subscription : $29.00 / month' if x == 0 else 0)"
   ]
  },
  {
   "cell_type": "code",
   "execution_count": 15,
   "id": "c7b712c5",
   "metadata": {},
   "outputs": [
    {
     "data": {
      "text/plain": [
       "548"
      ]
     },
     "execution_count": 15,
     "metadata": {},
     "output_type": "execute_result"
    }
   ],
   "source": [
    "len(data_alt_cost)"
   ]
  },
  {
   "cell_type": "markdown",
   "id": "57881d5a",
   "metadata": {},
   "source": [
    "### Preprocess duration"
   ]
  },
  {
   "cell_type": "code",
   "execution_count": 16,
   "id": "d9b7f3f7",
   "metadata": {},
   "outputs": [
    {
     "data": {
      "text/plain": [
       "0"
      ]
     },
     "execution_count": 16,
     "metadata": {},
     "output_type": "execute_result"
    }
   ],
   "source": [
    "aws['Duration'].isna().sum()"
   ]
  },
  {
   "cell_type": "code",
   "execution_count": 17,
   "id": "9b3a8b67",
   "metadata": {},
   "outputs": [
    {
     "name": "stdout",
     "output_type": "stream",
     "text": [
      "1.0\n",
      "0.17\n",
      "1.0\n",
      "0.5\n",
      "0.5\n",
      "0.17\n",
      "0.17\n",
      "0.17\n",
      "1.0\n",
      "1.0\n",
      "1.5\n",
      "1.33\n",
      "1.0\n",
      "1.0\n",
      "1.0\n",
      "1.0\n",
      "1.0\n",
      "1.0\n",
      "0.33\n",
      "2.0\n",
      "1.0\n",
      "0.5\n",
      "1.0\n",
      "1.0\n",
      "0.33\n",
      "1.0\n",
      "0.5\n",
      "0.5\n",
      "0.5\n",
      "1.0\n",
      "1.0\n",
      "1.0\n",
      "1.0\n",
      "1.0\n",
      "0.5\n",
      "0.5\n",
      "3.0\n",
      "1.0\n",
      "0.5\n",
      "3.0\n",
      "1.0\n",
      "0.5\n",
      "1.0\n",
      "1.0\n",
      "1.5\n",
      "2.0\n",
      "1.5\n",
      "0.83\n",
      "2.0\n",
      "1.5\n",
      "1.0\n",
      "1.5\n",
      "1.0\n",
      "0.75\n",
      "1.0\n",
      "1.25\n",
      "4.0\n",
      "0.58\n",
      "0.5\n",
      "0.5\n",
      "0.33\n",
      "17.0\n",
      "1.0\n",
      "1.0\n",
      "16.33\n",
      "0.5\n",
      "2.0\n",
      "2.0\n",
      "0.17\n",
      "1.0\n",
      "0.58\n",
      "1.0\n",
      "0.5\n",
      "3.25\n",
      "0.12\n",
      "0.12\n",
      "0.03\n",
      "1.0\n",
      "0.33\n",
      "1.5\n",
      "0.5\n",
      "1.0\n",
      "3.0\n",
      "0.17\n",
      "0.58\n",
      "0.42\n",
      "0.5\n",
      "1.08\n",
      "1.08\n",
      "4.0\n",
      "1.25\n",
      "2.0\n",
      "0.23\n",
      "0.33\n",
      "0.75\n",
      "0.5\n",
      "1.08\n",
      "0.13\n",
      "1.0\n",
      "1.33\n",
      "0.75\n",
      "1.17\n",
      "0.25\n",
      "0.33\n",
      "1.25\n",
      "1.08\n",
      "1.08\n",
      "0.17\n",
      "1.5\n",
      "0.5\n",
      "0.5\n",
      "1.0\n",
      "8.0\n",
      "1.08\n",
      "0.33\n",
      "0.25\n",
      "2.5\n",
      "0.5\n",
      "0.5\n",
      "0.5\n",
      "0.5\n",
      "0.5\n",
      "0.75\n",
      "0.5\n",
      "8.0\n",
      "0.5\n",
      "0.5\n",
      "1.0\n",
      "1.0\n",
      "0.33\n",
      "0.25\n",
      "0.5\n",
      "12.0\n",
      "5.0\n",
      "4.5\n",
      "1.5\n",
      "0.5\n",
      "0.25\n",
      "1.0\n",
      "0.33\n",
      "1.58\n",
      "1.0\n",
      "0.5\n",
      "1.5\n",
      "3.0\n",
      "0.25\n",
      "0.92\n",
      "0.67\n",
      "0.17\n",
      "0.33\n",
      "0.5\n",
      "1.5\n",
      "0.33\n",
      "0.17\n",
      "0.25\n",
      "0.33\n",
      "1.0\n",
      "0.13\n",
      "0.33\n",
      "0.08\n",
      "2.0\n",
      "0.33\n",
      "0.75\n",
      "0.25\n",
      "0.08\n",
      "10.0\n",
      "0.33\n",
      "0.08\n",
      "0.08\n",
      "4.5\n",
      "0.33\n",
      "1.0\n",
      "1.17\n",
      "0.33\n",
      "1.0\n",
      "1.17\n",
      "14.0\n",
      "0.17\n",
      "0.5\n",
      "0.08\n",
      "0.33\n",
      "0.33\n",
      "0.33\n",
      "4.5\n",
      "0.33\n",
      "1.17\n",
      "0.17\n",
      "1.0\n",
      "0.17\n",
      "1.17\n",
      "0.33\n",
      "0.25\n",
      "4.33\n",
      "0.08\n",
      "0.08\n",
      "0.33\n",
      "10.0\n",
      "0.22\n",
      "0.17\n",
      "1.5\n",
      "0.17\n",
      "0.25\n",
      "1.17\n",
      "0.08\n",
      "0.17\n",
      "0.33\n",
      "0.18\n",
      "0.15\n",
      "0.17\n",
      "2.17\n",
      "1.17\n",
      "0.12\n",
      "1.17\n",
      "0.17\n",
      "0.17\n",
      "0.22\n",
      "0.08\n",
      "0.25\n",
      "1.17\n",
      "0.17\n",
      "0.17\n",
      "0.17\n",
      "1.17\n",
      "0.17\n",
      "0.17\n",
      "0.08\n",
      "1.17\n",
      "0.17\n",
      "0.17\n",
      "0.17\n",
      "0.17\n",
      "1.0\n",
      "0.1\n",
      "0.17\n",
      "0.17\n",
      "0.17\n",
      "0.67\n",
      "0.17\n",
      "0.17\n",
      "0.67\n",
      "0.33\n",
      "0.28\n",
      "0.17\n",
      "0.17\n",
      "0.17\n",
      "0.67\n",
      "0.17\n",
      "1.17\n",
      "0.17\n",
      "1.0\n",
      "1.17\n",
      "0.17\n",
      "0.25\n",
      "0.75\n",
      "1.17\n",
      "0.33\n",
      "0.25\n",
      "0.17\n",
      "0.17\n",
      "0.25\n",
      "0.18\n",
      "0.5\n",
      "0.08\n",
      "0.5\n",
      "0.17\n",
      "1.33\n",
      "0.3\n",
      "0.25\n",
      "6.0\n",
      "1.17\n",
      "0.12\n",
      "0.1\n",
      "0.28\n",
      "0.17\n",
      "0.08\n",
      "0.12\n",
      "0.5\n",
      "2.0\n",
      "0.5\n",
      "3.0\n",
      "2.0\n",
      "1.5\n",
      "0.25\n",
      "0.25\n",
      "0.17\n",
      "0.25\n",
      "0.17\n",
      "0.12\n",
      "0.17\n",
      "1.17\n",
      "0.12\n",
      "0.5\n",
      "2.0\n",
      "0.75\n",
      "0.33\n",
      "4.0\n",
      "0.17\n",
      "2.0\n",
      "0.25\n",
      "0.15\n",
      "0.5\n",
      "3.5\n",
      "1.5\n",
      "4.0\n",
      "0.42\n",
      "0.08\n",
      "0.25\n",
      "0.17\n",
      "1.5\n",
      "2.0\n",
      "1.0\n",
      "3.0\n",
      "2.0\n",
      "1.0\n",
      "0.75\n",
      "1.25\n",
      "2.0\n",
      "1.0\n",
      "0.75\n",
      "2.0\n",
      "5.0\n",
      "1.0\n",
      "1.0\n",
      "1.0\n",
      "1.5\n",
      "2.0\n",
      "2.0\n",
      "1.0\n",
      "1.0\n",
      "0.75\n",
      "2.25\n",
      "1.0\n",
      "1.0\n",
      "0.5\n",
      "1.0\n",
      "2.5\n",
      "1.0\n",
      "1.0\n",
      "1.0\n",
      "1.5\n",
      "2.0\n",
      "2.0\n",
      "1.5\n",
      "1.5\n",
      "0.75\n",
      "0.75\n",
      "1.0\n",
      "3.92\n",
      "1.0\n",
      "0.75\n",
      "1.17\n",
      "2.0\n",
      "2.0\n",
      "0.75\n",
      "1.5\n",
      "4.0\n",
      "1.58\n",
      "1.5\n",
      "0.5\n",
      "0.5\n",
      "0.75\n",
      "1.25\n",
      "3.0\n",
      "0.5\n",
      "0.5\n",
      "0.75\n",
      "1.5\n",
      "1.5\n",
      "0.92\n",
      "0.97\n",
      "1.17\n",
      "0.5\n",
      "0.5\n",
      "2.0\n",
      "1.0\n",
      "8.0\n",
      "0.5\n",
      "7.0\n",
      "1.5\n",
      "1.75\n",
      "2.5\n",
      "0.25\n",
      "26.0\n",
      "1.0\n",
      "24.0\n",
      "3.0\n",
      "1.5\n",
      "1.5\n",
      "16.83\n",
      "1.5\n",
      "0.5\n",
      "2.67\n",
      "10.0\n",
      "0.75\n",
      "1.33\n",
      "0.67\n",
      "0.17\n",
      "0.75\n",
      "0.33\n",
      "0.17\n",
      "0.5\n",
      "0.17\n",
      "1.0\n",
      "1.0\n",
      "1.75\n",
      "1.0\n",
      "2.5\n",
      "3.0\n",
      "0.5\n",
      "1.5\n",
      "3.0\n",
      "0.25\n",
      "3.0\n",
      "1.5\n",
      "0.75\n",
      "1.5\n",
      "0.5\n",
      "10.0\n",
      "0.5\n",
      "1.5\n",
      "1.0\n",
      "2.0\n",
      "0.75\n",
      "4.5\n",
      "1.25\n",
      "2.0\n",
      "0.75\n",
      "9.5\n",
      "0.17\n",
      "0.33\n",
      "0.33\n",
      "0.25\n",
      "0.17\n",
      "0.17\n",
      "0.75\n",
      "1.0\n",
      "2.0\n",
      "2.0\n",
      "0.83\n",
      "2.0\n",
      "8.0\n",
      "0.67\n",
      "0.5\n",
      "8.0\n",
      "0.75\n",
      "3.0\n",
      "10.0\n",
      "0.33\n",
      "0.33\n",
      "3.0\n",
      "1.75\n",
      "0.5\n",
      "0.5\n",
      "9.5\n",
      "1.5\n",
      "1.0\n",
      "1.0\n",
      "1.0\n",
      "0.83\n",
      "1.5\n",
      "1.0\n",
      "1.0\n",
      "0.5\n",
      "3.5\n",
      "1.17\n",
      "1.0\n",
      "0.25\n",
      "1.08\n",
      "2.0\n",
      "0.5\n",
      "1.67\n",
      "1.0\n",
      "4.5\n",
      "1.0\n",
      "1.17\n",
      "1.33\n",
      "0.83\n",
      "1.25\n",
      "2.0\n",
      "1.33\n",
      "3.5\n",
      "2.0\n",
      "2.08\n",
      "0.5\n",
      "4.0\n",
      "2.0\n",
      "1.0\n",
      "4.0\n",
      "1.25\n",
      "1.25\n",
      "1.08\n",
      "1.25\n",
      "0.92\n",
      "1.33\n",
      "0.92\n",
      "1.0\n",
      "1.5\n",
      "1.5\n",
      "2.5\n",
      "0.5\n",
      "1.0\n",
      "1.0\n",
      "2.33\n",
      "1.5\n",
      "1.5\n",
      "0.83\n",
      "2.5\n",
      "1.0\n",
      "3.5\n",
      "1.5\n",
      "1.0\n",
      "1.67\n",
      "1.42\n",
      "0.67\n",
      "0.75\n",
      "3.33\n",
      "1.5\n",
      "1.0\n",
      "0.67\n",
      "2.0\n",
      "0.75\n",
      "1.0\n",
      "0.75\n",
      "1.0\n",
      "3.0\n",
      "5.0\n",
      "3.0\n",
      "1.0\n",
      "1.0\n",
      "0.5\n",
      "1.5\n",
      "0.58\n",
      "0.5\n",
      "1.5\n",
      "0.58\n",
      "1.25\n",
      "1.75\n",
      "4.0\n",
      "0.5\n",
      "8.0\n",
      "0.67\n",
      "1.5\n",
      "2.0\n",
      "7.0\n",
      "0.5\n",
      "4.0\n",
      "4.0\n",
      "0.42\n"
     ]
    },
    {
     "name": "stderr",
     "output_type": "stream",
     "text": [
      "C:\\Users\\nehab\\AppData\\Local\\Temp/ipykernel_24444/2659549322.py:16: SettingWithCopyWarning: \n",
      "A value is trying to be set on a copy of a slice from a DataFrame\n",
      "\n",
      "See the caveats in the documentation: https://pandas.pydata.org/pandas-docs/stable/user_guide/indexing.html#returning-a-view-versus-a-copy\n",
      "  aws['Duration'][i]=hr\n"
     ]
    }
   ],
   "source": [
    "for i in range(len(aws['Duration'])):\n",
    "    a=aws['Duration'][i]\n",
    "    a=a.split(' ')\n",
    "    hr=0\n",
    "    if 'h' in aws['Duration'][i]:\n",
    "        b=int(a[0].replace('h',''))\n",
    "        hr=b\n",
    "        if 'm' in aws['Duration'][i]:\n",
    "            c=int(a[1].replace('m',''))\n",
    "            hr=hr+(c/60)\n",
    "    else:\n",
    "        c=int(a[0].replace('m',''))\n",
    "        hr=c/60\n",
    "    hr=round(hr,2)\n",
    "    print(hr)\n",
    "    aws['Duration'][i]=hr"
   ]
  },
  {
   "cell_type": "code",
   "execution_count": 18,
   "id": "e1fad54b",
   "metadata": {},
   "outputs": [],
   "source": [
    "# Convert course duration in hours to categorical\n",
    "# 0 : short , 1 : medium , 2 : long\n",
    "def conv_dur(dur):\n",
    "  if pd.isna(dur):\n",
    "    cat_dur = np.nan\n",
    "  elif (dur > 0) and (dur <= 10):\n",
    "    cat_dur = 0\n",
    "  elif (dur > 10) and (dur <= 50):\n",
    "    cat_dur = 1\n",
    "  else:\n",
    "    cat_dur = 2\n",
    "  return cat_dur"
   ]
  },
  {
   "cell_type": "code",
   "execution_count": 19,
   "id": "4a300422",
   "metadata": {},
   "outputs": [],
   "source": [
    "data_dur=aws['Duration'].apply(lambda x: conv_dur(x))"
   ]
  },
  {
   "cell_type": "code",
   "execution_count": 20,
   "id": "d2d43687",
   "metadata": {},
   "outputs": [
    {
     "data": {
      "text/plain": [
       "548"
      ]
     },
     "execution_count": 20,
     "metadata": {},
     "output_type": "execute_result"
    }
   ],
   "source": [
    "len(data_dur)"
   ]
  },
  {
   "cell_type": "markdown",
   "id": "8267d815",
   "metadata": {},
   "source": [
    "### preprocess ratings"
   ]
  },
  {
   "cell_type": "code",
   "execution_count": 21,
   "id": "5f664db1",
   "metadata": {},
   "outputs": [
    {
     "data": {
      "text/plain": [
       "3"
      ]
     },
     "execution_count": 21,
     "metadata": {},
     "output_type": "execute_result"
    }
   ],
   "source": [
    "aws.Rating.isna().sum()"
   ]
  },
  {
   "cell_type": "code",
   "execution_count": 22,
   "id": "139cc7c9",
   "metadata": {},
   "outputs": [],
   "source": [
    "meanval = np.mean(aws.Rating)\n",
    "aws.Rating.fillna(meanval,inplace = True)"
   ]
  },
  {
   "cell_type": "code",
   "execution_count": 23,
   "id": "21154f76",
   "metadata": {},
   "outputs": [
    {
     "data": {
      "text/plain": [
       "0"
      ]
     },
     "execution_count": 23,
     "metadata": {},
     "output_type": "execute_result"
    }
   ],
   "source": [
    "aws.Rating.isna().sum()"
   ]
  },
  {
   "cell_type": "code",
   "execution_count": 24,
   "id": "c85beb46",
   "metadata": {},
   "outputs": [],
   "source": [
    "ratings=aws.Rating"
   ]
  },
  {
   "cell_type": "markdown",
   "id": "917fa636",
   "metadata": {},
   "source": [
    "### Preprocess difficulty"
   ]
  },
  {
   "cell_type": "code",
   "execution_count": 25,
   "id": "8a5df3db",
   "metadata": {},
   "outputs": [
    {
     "data": {
      "text/plain": [
       "0"
      ]
     },
     "execution_count": 25,
     "metadata": {},
     "output_type": "execute_result"
    }
   ],
   "source": [
    "aws.Level.isna().sum()"
   ]
  },
  {
   "cell_type": "code",
   "execution_count": 26,
   "id": "88e42f3d",
   "metadata": {},
   "outputs": [
    {
     "data": {
      "text/plain": [
       "array(['Fundamental', 'Intermediate', 'Advanced'], dtype=object)"
      ]
     },
     "execution_count": 26,
     "metadata": {},
     "output_type": "execute_result"
    }
   ],
   "source": [
    "aws.Level.unique()"
   ]
  },
  {
   "cell_type": "code",
   "execution_count": 27,
   "id": "cc9520e0",
   "metadata": {},
   "outputs": [],
   "source": [
    "def conv_diff(strs):\n",
    "  if strs == 'Fundamental':\n",
    "    diff = 0\n",
    "  elif strs == 'Intermediate':\n",
    "    diff = 1\n",
    "  else:\n",
    "    diff = 2\n",
    "  return diff\n",
    "\n",
    "data_diff = aws['Level'].apply(lambda x: conv_diff(x))"
   ]
  },
  {
   "cell_type": "code",
   "execution_count": 28,
   "id": "37104e85",
   "metadata": {},
   "outputs": [
    {
     "data": {
      "text/plain": [
       "548"
      ]
     },
     "execution_count": 28,
     "metadata": {},
     "output_type": "execute_result"
    }
   ],
   "source": [
    "len(data_diff)"
   ]
  },
  {
   "cell_type": "code",
   "execution_count": 29,
   "id": "8c1557de",
   "metadata": {},
   "outputs": [],
   "source": [
    "# get categories\n",
    "data_cat=['Computer Science','Cloud','AWS','Cloud Computing']"
   ]
  },
  {
   "cell_type": "markdown",
   "id": "f6ed17ff",
   "metadata": {},
   "source": [
    "### Preprocess description"
   ]
  },
  {
   "cell_type": "code",
   "execution_count": 30,
   "id": "476e19b0",
   "metadata": {},
   "outputs": [],
   "source": [
    "\n",
    "# Extract Course Short,long Description\n",
    "sdesc = aws['Description'].apply(lambda x: '' if pd.isna(x) else x)\n",
    "ldesc=aws['Description'].apply(lambda x: '' if pd.isna(x) else x)"
   ]
  },
  {
   "cell_type": "markdown",
   "id": "d94fbd4a",
   "metadata": {},
   "source": [
    "## combine data"
   ]
  },
  {
   "cell_type": "code",
   "execution_count": 31,
   "id": "ed270c88",
   "metadata": {},
   "outputs": [
    {
     "data": {
      "text/html": [
       "<div>\n",
       "<style scoped>\n",
       "    .dataframe tbody tr th:only-of-type {\n",
       "        vertical-align: middle;\n",
       "    }\n",
       "\n",
       "    .dataframe tbody tr th {\n",
       "        vertical-align: top;\n",
       "    }\n",
       "\n",
       "    .dataframe thead th {\n",
       "        text-align: right;\n",
       "    }\n",
       "</style>\n",
       "<table border=\"1\" class=\"dataframe\">\n",
       "  <thead>\n",
       "    <tr style=\"text-align: right;\">\n",
       "      <th></th>\n",
       "      <th>Course Name</th>\n",
       "      <th>URL</th>\n",
       "      <th>Categories</th>\n",
       "      <th>Short Description</th>\n",
       "      <th>Long Description</th>\n",
       "      <th>Difficulty</th>\n",
       "      <th>Duration</th>\n",
       "      <th>Free Option</th>\n",
       "      <th>Number of Enrolled</th>\n",
       "      <th>Rating</th>\n",
       "      <th>Paid Option</th>\n",
       "      <th>Language</th>\n",
       "      <th>Subtitle Language</th>\n",
       "      <th>Platform</th>\n",
       "      <th>Provider</th>\n",
       "      <th>Image URL</th>\n",
       "    </tr>\n",
       "  </thead>\n",
       "  <tbody>\n",
       "  </tbody>\n",
       "</table>\n",
       "</div>"
      ],
      "text/plain": [
       "Empty DataFrame\n",
       "Columns: [Course Name, URL, Categories, Short Description, Long Description, Difficulty, Duration, Free Option, Number of Enrolled, Rating, Paid Option, Language, Subtitle Language, Platform, Provider, Image URL]\n",
       "Index: []"
      ]
     },
     "execution_count": 31,
     "metadata": {},
     "output_type": "execute_result"
    }
   ],
   "source": [
    "df = pd.DataFrame(columns = ['Course Name', 'URL', 'Categories', 'Short Description', 'Long Description', 'Difficulty', 'Duration', 'Free Option', 'Number of Enrolled', 'Rating', 'Paid Option', 'Language', 'Subtitle Language', 'Platform', 'Provider', 'Image URL'])\n",
    "df"
   ]
  },
  {
   "cell_type": "code",
   "execution_count": 32,
   "id": "8e5083a8",
   "metadata": {},
   "outputs": [],
   "source": [
    "df['Course Name']=data_name\n",
    "df['Categories']= 'Computer Science , Cloud , AWS ,Cloud Computing'\n",
    "df['URL']=data_url\n",
    "df['Provider']='AWS Skill Builder'\n",
    "df['Short Description']=sdesc\n",
    "df['Long Description']=ldesc\n",
    "df['Difficulty']= data_diff\n",
    "df['Duration']=data_dur\n",
    "df['Rating']=ratings\n",
    "df['Number of Enrolled']=0\n",
    "df['Platform']='AWS'\n",
    "df['Free Option']=data_costcat\n",
    "df['Paid Option']=data_alt_cost\n",
    "df['Language']='English'\n",
    "df['Subtitle Language']='English'\n",
    "df['Image URL']='https://ccweb.imgix.net/https%3A%2F%2Fwww.classcentral.com%2Fimages%2Flogos%2Fproviders%2Faws-skill-builder-hz.png?auto=format&ixlib=php-3.3.1&s=93a153eaf2cf7abbc130afaa0cc34197'"
   ]
  },
  {
   "cell_type": "code",
   "execution_count": 33,
   "id": "05c0055b",
   "metadata": {},
   "outputs": [
    {
     "data": {
      "text/html": [
       "<div>\n",
       "<style scoped>\n",
       "    .dataframe tbody tr th:only-of-type {\n",
       "        vertical-align: middle;\n",
       "    }\n",
       "\n",
       "    .dataframe tbody tr th {\n",
       "        vertical-align: top;\n",
       "    }\n",
       "\n",
       "    .dataframe thead th {\n",
       "        text-align: right;\n",
       "    }\n",
       "</style>\n",
       "<table border=\"1\" class=\"dataframe\">\n",
       "  <thead>\n",
       "    <tr style=\"text-align: right;\">\n",
       "      <th></th>\n",
       "      <th>Course Name</th>\n",
       "      <th>URL</th>\n",
       "      <th>Categories</th>\n",
       "      <th>Short Description</th>\n",
       "      <th>Long Description</th>\n",
       "      <th>Difficulty</th>\n",
       "      <th>Duration</th>\n",
       "      <th>Free Option</th>\n",
       "      <th>Number of Enrolled</th>\n",
       "      <th>Rating</th>\n",
       "      <th>Paid Option</th>\n",
       "      <th>Language</th>\n",
       "      <th>Subtitle Language</th>\n",
       "      <th>Platform</th>\n",
       "      <th>Provider</th>\n",
       "      <th>Image URL</th>\n",
       "    </tr>\n",
       "  </thead>\n",
       "  <tbody>\n",
       "    <tr>\n",
       "      <th>0</th>\n",
       "      <td>Getting Started with AWS Mainframe Modernizati...</td>\n",
       "      <td>https://explore.skillbuilder.aws/learn/course/...</td>\n",
       "      <td>Computer Science , Cloud , AWS ,Cloud Computing</td>\n",
       "      <td></td>\n",
       "      <td></td>\n",
       "      <td>0</td>\n",
       "      <td>0</td>\n",
       "      <td>1</td>\n",
       "      <td>0</td>\n",
       "      <td>5.0</td>\n",
       "      <td>0</td>\n",
       "      <td>English</td>\n",
       "      <td>English</td>\n",
       "      <td>AWS</td>\n",
       "      <td>AWS Skill Builder</td>\n",
       "      <td>https://ccweb.imgix.net/https%3A%2F%2Fwww.clas...</td>\n",
       "    </tr>\n",
       "    <tr>\n",
       "      <th>1</th>\n",
       "      <td>Cloud for CEOs</td>\n",
       "      <td>https://explore.skillbuilder.aws/learn/course/...</td>\n",
       "      <td>Computer Science , Cloud , AWS ,Cloud Computing</td>\n",
       "      <td>This course provides CEOs and presidents a hig...</td>\n",
       "      <td>This course provides CEOs and presidents a hig...</td>\n",
       "      <td>0</td>\n",
       "      <td>0</td>\n",
       "      <td>1</td>\n",
       "      <td>0</td>\n",
       "      <td>5.0</td>\n",
       "      <td>0</td>\n",
       "      <td>English</td>\n",
       "      <td>English</td>\n",
       "      <td>AWS</td>\n",
       "      <td>AWS Skill Builder</td>\n",
       "      <td>https://ccweb.imgix.net/https%3A%2F%2Fwww.clas...</td>\n",
       "    </tr>\n",
       "    <tr>\n",
       "      <th>2</th>\n",
       "      <td>Getting Started with AWS Mainframe Modernizati...</td>\n",
       "      <td>https://explore.skillbuilder.aws/learn/course/...</td>\n",
       "      <td>Computer Science , Cloud , AWS ,Cloud Computing</td>\n",
       "      <td>The AWS Mainframe Modernization service helps ...</td>\n",
       "      <td>The AWS Mainframe Modernization service helps ...</td>\n",
       "      <td>0</td>\n",
       "      <td>0</td>\n",
       "      <td>1</td>\n",
       "      <td>0</td>\n",
       "      <td>5.0</td>\n",
       "      <td>0</td>\n",
       "      <td>English</td>\n",
       "      <td>English</td>\n",
       "      <td>AWS</td>\n",
       "      <td>AWS Skill Builder</td>\n",
       "      <td>https://ccweb.imgix.net/https%3A%2F%2Fwww.clas...</td>\n",
       "    </tr>\n",
       "    <tr>\n",
       "      <th>3</th>\n",
       "      <td>Introduction to Robotics on AWS</td>\n",
       "      <td>https://explore.skillbuilder.aws/learn/course/...</td>\n",
       "      <td>Computer Science , Cloud , AWS ,Cloud Computing</td>\n",
       "      <td>The robotics industry is growing at a rapid ra...</td>\n",
       "      <td>The robotics industry is growing at a rapid ra...</td>\n",
       "      <td>0</td>\n",
       "      <td>0</td>\n",
       "      <td>1</td>\n",
       "      <td>0</td>\n",
       "      <td>5.0</td>\n",
       "      <td>0</td>\n",
       "      <td>English</td>\n",
       "      <td>English</td>\n",
       "      <td>AWS</td>\n",
       "      <td>AWS Skill Builder</td>\n",
       "      <td>https://ccweb.imgix.net/https%3A%2F%2Fwww.clas...</td>\n",
       "    </tr>\n",
       "    <tr>\n",
       "      <th>4</th>\n",
       "      <td>Getting Started with Bottlerocket</td>\n",
       "      <td>https://explore.skillbuilder.aws/learn/course/...</td>\n",
       "      <td>Computer Science , Cloud , AWS ,Cloud Computing</td>\n",
       "      <td>Bottlerocket is a Linux-based, open-source ope...</td>\n",
       "      <td>Bottlerocket is a Linux-based, open-source ope...</td>\n",
       "      <td>0</td>\n",
       "      <td>0</td>\n",
       "      <td>1</td>\n",
       "      <td>0</td>\n",
       "      <td>5.0</td>\n",
       "      <td>0</td>\n",
       "      <td>English</td>\n",
       "      <td>English</td>\n",
       "      <td>AWS</td>\n",
       "      <td>AWS Skill Builder</td>\n",
       "      <td>https://ccweb.imgix.net/https%3A%2F%2Fwww.clas...</td>\n",
       "    </tr>\n",
       "    <tr>\n",
       "      <th>5</th>\n",
       "      <td>AWS Free Tier: Introduction to Managing Services</td>\n",
       "      <td>https://explore.skillbuilder.aws/learn/course/...</td>\n",
       "      <td>Computer Science , Cloud , AWS ,Cloud Computing</td>\n",
       "      <td>By the end of this course, you will be able to...</td>\n",
       "      <td>By the end of this course, you will be able to...</td>\n",
       "      <td>0</td>\n",
       "      <td>0</td>\n",
       "      <td>1</td>\n",
       "      <td>0</td>\n",
       "      <td>5.0</td>\n",
       "      <td>0</td>\n",
       "      <td>English</td>\n",
       "      <td>English</td>\n",
       "      <td>AWS</td>\n",
       "      <td>AWS Skill Builder</td>\n",
       "      <td>https://ccweb.imgix.net/https%3A%2F%2Fwww.clas...</td>\n",
       "    </tr>\n",
       "    <tr>\n",
       "      <th>6</th>\n",
       "      <td>AWS Free Tier: Introduction to Offerings</td>\n",
       "      <td>https://explore.skillbuilder.aws/learn/course/...</td>\n",
       "      <td>Computer Science , Cloud , AWS ,Cloud Computing</td>\n",
       "      <td>With AWS Free Tier, customers can explore and ...</td>\n",
       "      <td>With AWS Free Tier, customers can explore and ...</td>\n",
       "      <td>0</td>\n",
       "      <td>0</td>\n",
       "      <td>1</td>\n",
       "      <td>0</td>\n",
       "      <td>5.0</td>\n",
       "      <td>0</td>\n",
       "      <td>English</td>\n",
       "      <td>English</td>\n",
       "      <td>AWS</td>\n",
       "      <td>AWS Skill Builder</td>\n",
       "      <td>https://ccweb.imgix.net/https%3A%2F%2Fwww.clas...</td>\n",
       "    </tr>\n",
       "    <tr>\n",
       "      <th>7</th>\n",
       "      <td>AWS Free Tier: Introduction to Monitoring Serv...</td>\n",
       "      <td>https://explore.skillbuilder.aws/learn/course/...</td>\n",
       "      <td>Computer Science , Cloud , AWS ,Cloud Computing</td>\n",
       "      <td>This course introduces tools to monitor your A...</td>\n",
       "      <td>This course introduces tools to monitor your A...</td>\n",
       "      <td>0</td>\n",
       "      <td>0</td>\n",
       "      <td>1</td>\n",
       "      <td>0</td>\n",
       "      <td>4.0</td>\n",
       "      <td>0</td>\n",
       "      <td>English</td>\n",
       "      <td>English</td>\n",
       "      <td>AWS</td>\n",
       "      <td>AWS Skill Builder</td>\n",
       "      <td>https://ccweb.imgix.net/https%3A%2F%2Fwww.clas...</td>\n",
       "    </tr>\n",
       "    <tr>\n",
       "      <th>8</th>\n",
       "      <td>Getting Started with AWS Cloud Essentials</td>\n",
       "      <td>https://explore.skillbuilder.aws/learn/course/...</td>\n",
       "      <td>Computer Science , Cloud , AWS ,Cloud Computing</td>\n",
       "      <td></td>\n",
       "      <td></td>\n",
       "      <td>0</td>\n",
       "      <td>0</td>\n",
       "      <td>1</td>\n",
       "      <td>0</td>\n",
       "      <td>5.0</td>\n",
       "      <td>0</td>\n",
       "      <td>English</td>\n",
       "      <td>English</td>\n",
       "      <td>AWS</td>\n",
       "      <td>AWS Skill Builder</td>\n",
       "      <td>https://ccweb.imgix.net/https%3A%2F%2Fwww.clas...</td>\n",
       "    </tr>\n",
       "    <tr>\n",
       "      <th>9</th>\n",
       "      <td>Getting Started with Amazon QuickSight</td>\n",
       "      <td>https://explore.skillbuilder.aws/learn/course/...</td>\n",
       "      <td>Computer Science , Cloud , AWS ,Cloud Computing</td>\n",
       "      <td>Amazon QuickSight is a cloud-scale business in...</td>\n",
       "      <td>Amazon QuickSight is a cloud-scale business in...</td>\n",
       "      <td>0</td>\n",
       "      <td>0</td>\n",
       "      <td>1</td>\n",
       "      <td>0</td>\n",
       "      <td>5.0</td>\n",
       "      <td>0</td>\n",
       "      <td>English</td>\n",
       "      <td>English</td>\n",
       "      <td>AWS</td>\n",
       "      <td>AWS Skill Builder</td>\n",
       "      <td>https://ccweb.imgix.net/https%3A%2F%2Fwww.clas...</td>\n",
       "    </tr>\n",
       "  </tbody>\n",
       "</table>\n",
       "</div>"
      ],
      "text/plain": [
       "                                         Course Name  \\\n",
       "0  Getting Started with AWS Mainframe Modernizati...   \n",
       "1                                     Cloud for CEOs   \n",
       "2  Getting Started with AWS Mainframe Modernizati...   \n",
       "3                    Introduction to Robotics on AWS   \n",
       "4                  Getting Started with Bottlerocket   \n",
       "5   AWS Free Tier: Introduction to Managing Services   \n",
       "6           AWS Free Tier: Introduction to Offerings   \n",
       "7  AWS Free Tier: Introduction to Monitoring Serv...   \n",
       "8          Getting Started with AWS Cloud Essentials   \n",
       "9             Getting Started with Amazon QuickSight   \n",
       "\n",
       "                                                 URL  \\\n",
       "0  https://explore.skillbuilder.aws/learn/course/...   \n",
       "1  https://explore.skillbuilder.aws/learn/course/...   \n",
       "2  https://explore.skillbuilder.aws/learn/course/...   \n",
       "3  https://explore.skillbuilder.aws/learn/course/...   \n",
       "4  https://explore.skillbuilder.aws/learn/course/...   \n",
       "5  https://explore.skillbuilder.aws/learn/course/...   \n",
       "6  https://explore.skillbuilder.aws/learn/course/...   \n",
       "7  https://explore.skillbuilder.aws/learn/course/...   \n",
       "8  https://explore.skillbuilder.aws/learn/course/...   \n",
       "9  https://explore.skillbuilder.aws/learn/course/...   \n",
       "\n",
       "                                        Categories  \\\n",
       "0  Computer Science , Cloud , AWS ,Cloud Computing   \n",
       "1  Computer Science , Cloud , AWS ,Cloud Computing   \n",
       "2  Computer Science , Cloud , AWS ,Cloud Computing   \n",
       "3  Computer Science , Cloud , AWS ,Cloud Computing   \n",
       "4  Computer Science , Cloud , AWS ,Cloud Computing   \n",
       "5  Computer Science , Cloud , AWS ,Cloud Computing   \n",
       "6  Computer Science , Cloud , AWS ,Cloud Computing   \n",
       "7  Computer Science , Cloud , AWS ,Cloud Computing   \n",
       "8  Computer Science , Cloud , AWS ,Cloud Computing   \n",
       "9  Computer Science , Cloud , AWS ,Cloud Computing   \n",
       "\n",
       "                                   Short Description  \\\n",
       "0                                                      \n",
       "1  This course provides CEOs and presidents a hig...   \n",
       "2  The AWS Mainframe Modernization service helps ...   \n",
       "3  The robotics industry is growing at a rapid ra...   \n",
       "4  Bottlerocket is a Linux-based, open-source ope...   \n",
       "5  By the end of this course, you will be able to...   \n",
       "6  With AWS Free Tier, customers can explore and ...   \n",
       "7  This course introduces tools to monitor your A...   \n",
       "8                                                      \n",
       "9  Amazon QuickSight is a cloud-scale business in...   \n",
       "\n",
       "                                    Long Description  Difficulty  Duration  \\\n",
       "0                                                              0         0   \n",
       "1  This course provides CEOs and presidents a hig...           0         0   \n",
       "2  The AWS Mainframe Modernization service helps ...           0         0   \n",
       "3  The robotics industry is growing at a rapid ra...           0         0   \n",
       "4  Bottlerocket is a Linux-based, open-source ope...           0         0   \n",
       "5  By the end of this course, you will be able to...           0         0   \n",
       "6  With AWS Free Tier, customers can explore and ...           0         0   \n",
       "7  This course introduces tools to monitor your A...           0         0   \n",
       "8                                                              0         0   \n",
       "9  Amazon QuickSight is a cloud-scale business in...           0         0   \n",
       "\n",
       "   Free Option  Number of Enrolled  Rating  Paid Option Language  \\\n",
       "0            1                   0     5.0            0  English   \n",
       "1            1                   0     5.0            0  English   \n",
       "2            1                   0     5.0            0  English   \n",
       "3            1                   0     5.0            0  English   \n",
       "4            1                   0     5.0            0  English   \n",
       "5            1                   0     5.0            0  English   \n",
       "6            1                   0     5.0            0  English   \n",
       "7            1                   0     4.0            0  English   \n",
       "8            1                   0     5.0            0  English   \n",
       "9            1                   0     5.0            0  English   \n",
       "\n",
       "  Subtitle Language Platform           Provider  \\\n",
       "0           English      AWS  AWS Skill Builder   \n",
       "1           English      AWS  AWS Skill Builder   \n",
       "2           English      AWS  AWS Skill Builder   \n",
       "3           English      AWS  AWS Skill Builder   \n",
       "4           English      AWS  AWS Skill Builder   \n",
       "5           English      AWS  AWS Skill Builder   \n",
       "6           English      AWS  AWS Skill Builder   \n",
       "7           English      AWS  AWS Skill Builder   \n",
       "8           English      AWS  AWS Skill Builder   \n",
       "9           English      AWS  AWS Skill Builder   \n",
       "\n",
       "                                           Image URL  \n",
       "0  https://ccweb.imgix.net/https%3A%2F%2Fwww.clas...  \n",
       "1  https://ccweb.imgix.net/https%3A%2F%2Fwww.clas...  \n",
       "2  https://ccweb.imgix.net/https%3A%2F%2Fwww.clas...  \n",
       "3  https://ccweb.imgix.net/https%3A%2F%2Fwww.clas...  \n",
       "4  https://ccweb.imgix.net/https%3A%2F%2Fwww.clas...  \n",
       "5  https://ccweb.imgix.net/https%3A%2F%2Fwww.clas...  \n",
       "6  https://ccweb.imgix.net/https%3A%2F%2Fwww.clas...  \n",
       "7  https://ccweb.imgix.net/https%3A%2F%2Fwww.clas...  \n",
       "8  https://ccweb.imgix.net/https%3A%2F%2Fwww.clas...  \n",
       "9  https://ccweb.imgix.net/https%3A%2F%2Fwww.clas...  "
      ]
     },
     "execution_count": 33,
     "metadata": {},
     "output_type": "execute_result"
    }
   ],
   "source": [
    "df.head(10)"
   ]
  },
  {
   "cell_type": "code",
   "execution_count": 34,
   "id": "d33c53d3",
   "metadata": {},
   "outputs": [
    {
     "data": {
      "text/plain": [
       "548"
      ]
     },
     "execution_count": 34,
     "metadata": {},
     "output_type": "execute_result"
    }
   ],
   "source": [
    "len(df['Course Name'].unique())"
   ]
  },
  {
   "cell_type": "code",
   "execution_count": 35,
   "id": "c14f2b0b",
   "metadata": {},
   "outputs": [],
   "source": [
    "df = df.drop_duplicates(subset=['Course Name'])"
   ]
  },
  {
   "cell_type": "code",
   "execution_count": 36,
   "id": "c223c9eb",
   "metadata": {},
   "outputs": [
    {
     "data": {
      "text/plain": [
       "(548, 16)"
      ]
     },
     "execution_count": 36,
     "metadata": {},
     "output_type": "execute_result"
    }
   ],
   "source": [
    "df.shape"
   ]
  },
  {
   "cell_type": "code",
   "execution_count": 37,
   "id": "5c383479",
   "metadata": {},
   "outputs": [
    {
     "name": "stdout",
     "output_type": "stream",
     "text": [
      "<class 'pandas.core.frame.DataFrame'>\n",
      "Int64Index: 548 entries, 0 to 547\n",
      "Data columns (total 16 columns):\n",
      " #   Column              Non-Null Count  Dtype  \n",
      "---  ------              --------------  -----  \n",
      " 0   Course Name         548 non-null    object \n",
      " 1   URL                 548 non-null    object \n",
      " 2   Categories          548 non-null    object \n",
      " 3   Short Description   548 non-null    object \n",
      " 4   Long Description    548 non-null    object \n",
      " 5   Difficulty          548 non-null    int64  \n",
      " 6   Duration            548 non-null    int64  \n",
      " 7   Free Option         548 non-null    int64  \n",
      " 8   Number of Enrolled  548 non-null    int64  \n",
      " 9   Rating              548 non-null    float64\n",
      " 10  Paid Option         548 non-null    int64  \n",
      " 11  Language            548 non-null    object \n",
      " 12  Subtitle Language   548 non-null    object \n",
      " 13  Platform            548 non-null    object \n",
      " 14  Provider            548 non-null    object \n",
      " 15  Image URL           548 non-null    object \n",
      "dtypes: float64(1), int64(5), object(10)\n",
      "memory usage: 72.8+ KB\n"
     ]
    }
   ],
   "source": [
    "df.info()"
   ]
  },
  {
   "cell_type": "code",
   "execution_count": 38,
   "id": "612dc59e",
   "metadata": {},
   "outputs": [],
   "source": [
    "df.to_csv('AWS_preprocess_done.csv', index=False, encoding='utf_8_sig')"
   ]
  },
  {
   "cell_type": "code",
   "execution_count": null,
   "id": "1950e797",
   "metadata": {},
   "outputs": [],
   "source": []
  }
 ],
 "metadata": {
  "kernelspec": {
   "display_name": "Python 3 (ipykernel)",
   "language": "python",
   "name": "python3"
  },
  "language_info": {
   "codemirror_mode": {
    "name": "ipython",
    "version": 3
   },
   "file_extension": ".py",
   "mimetype": "text/x-python",
   "name": "python",
   "nbconvert_exporter": "python",
   "pygments_lexer": "ipython3",
   "version": "3.9.13"
  }
 },
 "nbformat": 4,
 "nbformat_minor": 5
}
