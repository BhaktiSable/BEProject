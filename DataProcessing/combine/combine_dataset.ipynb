{
 "cells": [
  {
   "cell_type": "markdown",
   "id": "bd78ef8f",
   "metadata": {},
   "source": [
    "### Combine all dataset \n"
   ]
  },
  {
   "cell_type": "code",
   "execution_count": null,
   "id": "121f196a",
   "metadata": {},
   "outputs": [],
   "source": [
    "# Load All Necessary Packages\n",
    "\n",
    "import os\n",
    "\n",
    "import pandas as pd\n",
    "import numpy as np\n",
    "\n",
    "\n",
    "seed = 18\n",
    "\n",
    "print('Versions of key libraries')\n",
    "print('-------------------------')\n",
    "print('pandas:  ', pd.__version__)\n",
    "print('numpy:   ', np.__version__)"
   ]
  },
  {
   "cell_type": "markdown",
   "id": "b7f1f00d",
   "metadata": {},
   "source": [
    "## Load all datasets\n"
   ]
  },
  {
   "cell_type": "code",
   "execution_count": null,
   "id": "b9d0410c",
   "metadata": {},
   "outputs": [],
   "source": [
    "aws=pd.read_csv('AWS_preprocess_done.csv')\n",
    "coursera=pd.read_csv('Coursera_edited1.csv')\n",
    "dataCamp=pd.read_csv('DataCamp_Data_preprocess_done.csv')\n",
    "edureka=pd.read_csv('Edureka_Data_preprocess_done.csv')\n",
    "edx=pd.read_csv('Edx_Data_preprocess_done.csv')\n",
    "freecodeCamp=pd.read_csv('freecodeCamp_preprocess_done.csv')\n",
    "futurelearn=pd.read_csv('FutureLearn_Data_preprocess_done.csv')\n",
    "independent=pd.read_csv('Independent_Data_preprocess_done.csv')\n",
    "linkedin=pd.read_csv('LinkedIn_preprocess_done.csv')\n",
    "microsoft=pd.read_csv('Microsoft_Data_preprocess_done.csv')\n",
    "pluralsight=pd.read_csv('Pluralsight_Data_preprocess_done.csv')\n",
    "udacity=pd.read_csv('Udacity_preprocess_done.csv')\n",
    "udemy=pd.read_csv('udemy_edited1.csv')"
   ]
  },
  {
   "attachments": {},
   "cell_type": "markdown",
   "id": "0d137981",
   "metadata": {},
   "source": [
    "## Platform sequence\n",
    "AWS = 0\n",
    "\n",
    "dataCamp=1\n",
    "\n",
    "edureka=2\n",
    "\n",
    "edx=3\n",
    "\n",
    "freecodeCamp=4\n",
    "\n",
    "futureLearn=5\n",
    "\n",
    "independent=6\n",
    "\n",
    "linkedin=7\n",
    "\n",
    "microsoft=8\n",
    "\n",
    "pluralsight=9\n",
    "\n",
    "udacity=10\n",
    "\n",
    "udemy =11\n",
    "\n",
    "cousera=12"
   ]
  },
  {
   "cell_type": "code",
   "execution_count": null,
   "id": "a33a5a7a",
   "metadata": {},
   "outputs": [],
   "source": []
  },
  {
   "cell_type": "code",
   "execution_count": null,
   "id": "c394c972",
   "metadata": {},
   "outputs": [],
   "source": [
    "# shape of all dataset\n",
    "print('Aws : ',aws.shape)\n",
    "print('dataCamp : ',dataCamp.shape )\n",
    "print('edureka : ',edureka.shape)\n",
    "print('edx : ',edx.shape)\n",
    "print('freecodeCamp : ',freecodeCamp.shape)\n",
    "print('futurelearn : ',futurelearn.shape)\n",
    "print('independent : ',independent.shape)\n",
    "print('linkedin : ',linkedin.shape)\n",
    "print('microsoft : ',microsoft.shape)\n",
    "print('pluralsight : ',pluralsight.shape)\n",
    "print('udacity : ',udacity.shape)\n",
    "print('udemy : ',udemy.shape)\n",
    "print('coursera : ',coursera.shape)"
   ]
  },
  {
   "cell_type": "code",
   "execution_count": null,
   "id": "81ebb2e9",
   "metadata": {},
   "outputs": [],
   "source": []
  },
  {
   "cell_type": "code",
   "execution_count": null,
   "id": "6f7fd39c",
   "metadata": {},
   "outputs": [],
   "source": [
    "# AWS head, shape\n",
    "print(aws.shape)\n",
    "aws.head(3)"
   ]
  },
  {
   "cell_type": "code",
   "execution_count": null,
   "id": "11a1ab3c",
   "metadata": {},
   "outputs": [],
   "source": [
    "print(dataCamp.shape)\n",
    "dataCamp.head(3)"
   ]
  },
  {
   "cell_type": "code",
   "execution_count": null,
   "id": "6383e237",
   "metadata": {},
   "outputs": [],
   "source": [
    "edureka.head(3)"
   ]
  },
  {
   "cell_type": "code",
   "execution_count": null,
   "id": "e47f621b",
   "metadata": {},
   "outputs": [],
   "source": [
    "edx.head(3)"
   ]
  },
  {
   "cell_type": "code",
   "execution_count": null,
   "id": "73632199",
   "metadata": {},
   "outputs": [],
   "source": [
    "freecodeCamp.head(3)"
   ]
  },
  {
   "cell_type": "code",
   "execution_count": null,
   "id": "d3bbb5a6",
   "metadata": {},
   "outputs": [],
   "source": [
    "futurelearn.head(3)"
   ]
  },
  {
   "cell_type": "code",
   "execution_count": null,
   "id": "b3d5979f",
   "metadata": {},
   "outputs": [],
   "source": [
    "independent.head(3)"
   ]
  },
  {
   "cell_type": "code",
   "execution_count": null,
   "id": "a5f5439c",
   "metadata": {},
   "outputs": [],
   "source": [
    "linkedin.head(3)"
   ]
  },
  {
   "cell_type": "code",
   "execution_count": null,
   "id": "9718b103",
   "metadata": {},
   "outputs": [],
   "source": [
    "microsoft.head(3)"
   ]
  },
  {
   "cell_type": "code",
   "execution_count": null,
   "id": "590f9e4b",
   "metadata": {},
   "outputs": [],
   "source": [
    "pluralsight.head(3)"
   ]
  },
  {
   "cell_type": "code",
   "execution_count": null,
   "id": "506ff8fe",
   "metadata": {},
   "outputs": [],
   "source": [
    "udacity.head(3)"
   ]
  },
  {
   "cell_type": "code",
   "execution_count": null,
   "id": "49aa30bb",
   "metadata": {},
   "outputs": [],
   "source": [
    "udemy.head(3)\n"
   ]
  },
  {
   "cell_type": "code",
   "execution_count": null,
   "id": "26846963",
   "metadata": {},
   "outputs": [],
   "source": [
    "(coursera.head(3))"
   ]
  },
  {
   "attachments": {},
   "cell_type": "markdown",
   "id": "291ab591",
   "metadata": {},
   "source": [
    "## Align dataset"
   ]
  },
  {
   "cell_type": "code",
   "execution_count": null,
   "id": "9e0a19f6",
   "metadata": {},
   "outputs": [],
   "source": [
    "# Align Header\n",
    "header = ['title', 'url', 'categories',  'description_short', 'description_long', 'difficulty', 'duration', 'free_option', 'number_of_enroll', 'rating', 'paid_option', 'language', 'subtitle', 'platform', 'provider', 'image_url']\n"
   ]
  },
  {
   "cell_type": "code",
   "execution_count": null,
   "id": "ab340187",
   "metadata": {},
   "outputs": [],
   "source": [
    "aws['Short Description'] = aws['Short Description'].apply(lambda x: '' if pd.isna(x) else x)\n",
    "aws['Long Description'] = aws['Long Description'].apply(lambda x: '' if pd.isna(x) else x)\n",
    "\n",
    "aws['Platform']=0\n",
    "print(aws.isna().sum())\n",
    "aws.columns=header\n",
    "aws.head(2)\n"
   ]
  },
  {
   "cell_type": "code",
   "execution_count": null,
   "id": "1d3d5546",
   "metadata": {},
   "outputs": [],
   "source": [
    "print(dataCamp['Difficulty'].unique())\n",
    "dataCamp['Difficulty']=0\n",
    "dataCamp['Platform']=1\n",
    "\n",
    "print(dataCamp.isna().sum())\n",
    "dataCamp.columns=header\n",
    "dataCamp.head(2)"
   ]
  },
  {
   "cell_type": "code",
   "execution_count": null,
   "id": "a2fac6e9",
   "metadata": {},
   "outputs": [],
   "source": [
    "for i in range(len(edureka)):\n",
    "    if pd.isna(edureka['Long Description'][i]):\n",
    "        edureka['Long Description'][i] = edureka['Short Description'][i]\n",
    "\n",
    "edureka['Long Description'] = edureka['Long Description'].apply(lambda x: '' if pd.isna(x) else x)\n",
    "edureka['Platform']=2\n",
    "print(edureka.isna().sum())\n",
    "\n",
    "edureka.columns=header\n",
    "edureka.head(2)"
   ]
  },
  {
   "cell_type": "code",
   "execution_count": null,
   "id": "3cf991f3",
   "metadata": {},
   "outputs": [],
   "source": []
  },
  {
   "cell_type": "code",
   "execution_count": null,
   "id": "130bd335",
   "metadata": {},
   "outputs": [],
   "source": [
    "\n",
    "\n",
    "# Edx - Align Header\n",
    "# Extract Course Short Description\n",
    "edx['Short Description'] = edx['Short Description'].apply(lambda x: '' if pd.isna(x) else x)\n",
    "edx['Platform']=3\n",
    "edx.columns = header\n",
    "\n",
    "edx.isna().sum()\n"
   ]
  },
  {
   "cell_type": "code",
   "execution_count": null,
   "id": "cdfb9637",
   "metadata": {},
   "outputs": [],
   "source": [
    "edx.head()"
   ]
  },
  {
   "cell_type": "code",
   "execution_count": null,
   "id": "68ba7ed6",
   "metadata": {},
   "outputs": [],
   "source": [
    "print(freecodeCamp.isna().sum())\n",
    "freecodeCamp['Platform']=4\n",
    "freecodeCamp.columns=header\n",
    "freecodeCamp.head(2)"
   ]
  },
  {
   "cell_type": "code",
   "execution_count": null,
   "id": "1799905d",
   "metadata": {},
   "outputs": [],
   "source": [
    "print(futurelearn.isna().sum())\n",
    "futurelearn['Platform']=5\n",
    "futurelearn.columns=header\n",
    "futurelearn.head(2)"
   ]
  },
  {
   "cell_type": "code",
   "execution_count": null,
   "id": "b860d85f",
   "metadata": {},
   "outputs": [],
   "source": [
    "\n",
    "independent['Image URL']='https://icons.veryicon.com/png/o/education-technology/educational-icon/online-course.png'\n",
    "independent['Difficulty'].unique()\n",
    "independent['Difficulty']=0\n",
    "independent['Platform']=6\n",
    "independent.dropna(inplace=True)\n",
    "print(independent.isna().sum())\n",
    "\n",
    "independent.columns=header\n",
    "independent.head(2)"
   ]
  },
  {
   "cell_type": "code",
   "execution_count": null,
   "id": "f7ac142b",
   "metadata": {},
   "outputs": [],
   "source": [
    "print(linkedin.isna().sum())\n",
    "linkedin['Platform']=7\n",
    "linkedin.columns=header\n",
    "linkedin.head(2)"
   ]
  },
  {
   "cell_type": "code",
   "execution_count": null,
   "id": "2bae6437",
   "metadata": {},
   "outputs": [],
   "source": [
    "\n",
    "microsoft['Difficulty'].unique()\n",
    "microsoft['Difficulty']=0\n",
    "microsoft['Platform']=8\n",
    "\n",
    "print(microsoft.isna().sum())\n",
    "microsoft.columns=header\n",
    "microsoft.head(2)"
   ]
  },
  {
   "cell_type": "code",
   "execution_count": null,
   "id": "0ea5fa25",
   "metadata": {},
   "outputs": [],
   "source": [
    "\n",
    "pluralsight['Number of Enrolled'] = pluralsight['Number of Enrolled'].apply(lambda x: '0' if pd.isna(x) else x)\n",
    "pluralsight['Number of Enrolled'] = pluralsight['Number of Enrolled'].apply(lambda x: x.replace(',', ''))\n",
    "pluralsight['Number of Enrolled'] = pluralsight['Number of Enrolled'].apply(lambda x: int(x))\n",
    "pluralsight['Short Description'] = pluralsight['Short Description'].apply(lambda x: '' if pd.isna(x) else x)\n",
    "pluralsight['Long Description'] = pluralsight['Long Description'].apply(lambda x: '' if pd.isna(x) else x)\n",
    "pluralsight['Platform']=9\n",
    "print(pluralsight.isna().sum())\n",
    "\n",
    "pluralsight.columns=header\n",
    "pluralsight.head(2)"
   ]
  },
  {
   "cell_type": "code",
   "execution_count": null,
   "id": "df555cef",
   "metadata": {},
   "outputs": [],
   "source": [
    "udacity['Categories']=udacity['Categories'].apply(lambda x : 'Computer Science' if pd.isna(x) else x)\n",
    "\n",
    "udacity['Short Description'] = udacity['Short Description'].apply(lambda x: '' if pd.isna(x) else x)\n",
    "udacity['Long Description'] = udacity['Long Description'].apply(lambda x: '' if pd.isna(x) else x)\n",
    "udacity['Number of Enrolled']=udacity['Number of Enrolled'].astype('int64')\n",
    "udacity['Platform']=10\n",
    "print(udacity.isna().sum())\n",
    "udacity.columns=header\n",
    "udacity.head(2)"
   ]
  },
  {
   "cell_type": "code",
   "execution_count": null,
   "id": "d7c63d35",
   "metadata": {},
   "outputs": [],
   "source": [
    "\n",
    "discard=['Meditation,Sound Design','Learning a Foreign Language','Memory & Study Skills','Aerospace Engineering','Electrical Engineering','Meditation','Body Language','Influence','Engineering Instruction','Career Development','Personal Development','Industry','Personal Development,Career Development,Mechanical Engineering','Design','Design,Design Tools,Voice-Over','Sewing','Design,Other Design,Sewing','Design Tools,Acrylic Painting','Design,Design Tools','Design,Graphic Design & Illustration,Corel Painter','Fashion Design,Sewing','Design,Other Design,Structural Design','Design,Fashion Design,T-Shirt Design','Design,Interior Design,Color Theory','Design,Other Design,Screenwriting','Other Design,Figure Drawing','Design,Design Tools,InDesign Other Design','Colored Pencil Drawing','Architectural Design,Creo','Fashion Design','Architectural Design,Revit']\n",
    "udemy=udemy[~udemy.categories.str.contains('|'.join(discard))]\n",
    "print(len(udemy['categories'].unique()))\n",
    "print(udemy['categories'].value_counts())\n",
    "udemy.reset_index(inplace = True, drop = True)"
   ]
  },
  {
   "cell_type": "code",
   "execution_count": null,
   "id": "f8022dfb",
   "metadata": {},
   "outputs": [],
   "source": [
    "udemy.head()\n"
   ]
  },
  {
   "cell_type": "code",
   "execution_count": null,
   "id": "8a1fe3a4",
   "metadata": {},
   "outputs": [],
   "source": [
    "\n",
    "\n",
    "print(udemy.shape)\n",
    "print(udemy.isna().sum())\n",
    "udemy['description_long'] = udemy['description_long'].apply(lambda x: '' if pd.isna(x) else x)\n",
    "udemy['description_short'] = udemy['description_short'].apply(lambda x: '' if pd.isna(x) else x)\n",
    "for j in range(len(udemy)):\n",
    "    \n",
    "    if (udemy['description_long'][j])=='':\n",
    "\n",
    "        udemy['description_long'][j] = udemy['description_short'][i]\n",
    "\n",
    "udemy['platform']=11\n",
    "udemy.columns=header\n",
    "print(udemy.isna().sum())"
   ]
  },
  {
   "cell_type": "code",
   "execution_count": null,
   "id": "58d57a0e",
   "metadata": {},
   "outputs": [],
   "source": [
    "coursera.head(3)\n",
    "for i in range(len(coursera)):\n",
    "    if pd.isna(coursera['description_short'][i]):\n",
    "        coursera['description_short'][i] = coursera['description_long'][i]\n",
    "\n",
    "coursera['description_short'] = coursera['description_short'].apply(lambda x: '' if pd.isna(x) else x)\n",
    "coursera['paid_option'] = coursera['paid_option'].apply(lambda x: '' if pd.isna(x) else x)\n",
    "coursera['platform']=12\n",
    "print(coursera.isna().sum())\n",
    "\n",
    "\n",
    "coursera.columns=header\n",
    "coursera.head(2)"
   ]
  },
  {
   "cell_type": "code",
   "execution_count": null,
   "id": "f46d5425",
   "metadata": {},
   "outputs": [],
   "source": [
    "print(coursera['categories'].unique())\n",
    "discard=['Language Learning, Other Languages','Physical Science and Engineering, Environmental Science and Sustainability','Physical Science and Engineering, Mechanical Engineering','Language Learning, Learning English', 'Physical Science and Engineering, Electrical Engineering','Physical Science and Engineering, Chemistry']\n",
    "coursera=coursera[~coursera.categories.str.contains('|'.join(discard))]\n",
    "print(coursera['categories'].unique())"
   ]
  },
  {
   "cell_type": "code",
   "execution_count": null,
   "id": "fb792497",
   "metadata": {},
   "outputs": [],
   "source": [
    "print('Aws : \\n',aws.dtypes)\n",
    "print('\\ndataCamp : ',dataCamp.dtypes )\n",
    "print('\\nedureka : ',edureka.dtypes)\n",
    "print('\\nedx : ',edx.dtypes)\n",
    "print('\\nfreecodeCamp : ',freecodeCamp.dtypes)\n",
    "print('\\nfuturelearn : ',futurelearn.dtypes)\n",
    "print('\\nindependent : ',independent.dtypes)\n",
    "print('\\nlinkedin : ',linkedin.dtypes)\n",
    "print('\\nmicrosoft : ',microsoft.dtypes)\n",
    "print('\\npluralsight : ',pluralsight.dtypes)\n",
    "print('\\nudacity : ',udacity.dtypes)\n",
    "print('\\nudemy : ',udemy.dtypes)\n",
    "print('\\ncoursera : ',coursera.dtypes)"
   ]
  },
  {
   "cell_type": "code",
   "execution_count": null,
   "id": "2dda4699",
   "metadata": {},
   "outputs": [],
   "source": []
  },
  {
   "cell_type": "code",
   "execution_count": null,
   "id": "57d2d31d",
   "metadata": {},
   "outputs": [],
   "source": [
    "coursera2=pd.read_csv('Coursera_Data.csv',encoding='unicode_escape')"
   ]
  },
  {
   "cell_type": "code",
   "execution_count": null,
   "id": "2845dbbd",
   "metadata": {},
   "outputs": [],
   "source": [
    "coursera2.head(2)"
   ]
  },
  {
   "cell_type": "code",
   "execution_count": null,
   "id": "95efb03a",
   "metadata": {},
   "outputs": [],
   "source": [
    "coursera2.dropna(how='all' , inplace=True)"
   ]
  },
  {
   "cell_type": "code",
   "execution_count": null,
   "id": "9b3b6ade",
   "metadata": {},
   "outputs": [],
   "source": [
    "coursera2.isna().sum()\n"
   ]
  },
  {
   "cell_type": "code",
   "execution_count": null,
   "id": "f0dcc084",
   "metadata": {},
   "outputs": [],
   "source": [
    "def removewords(x):\n",
    "    if 'Skills you\\'ll gain:' in x :\n",
    "        x=x.replace(\"Skills you\\'ll gain:\",'')\n",
    "    return x"
   ]
  },
  {
   "cell_type": "code",
   "execution_count": null,
   "id": "70f31518",
   "metadata": {},
   "outputs": [],
   "source": [
    "coursera2['Categories']=coursera2['Categories'].apply(lambda x : 'Computer Science' if pd.isna(x) else (removewords(x)))\n",
    "coursera2['Provider']=coursera2['Provider'].apply(lambda x : 'Coursera' if pd.isna(x) else x)\n",
    "coursera2.dropna(subset=['Short Description'] , inplace=True)\n",
    "coursera2['Difficulty']=coursera2['Difficulty'].astype('int')\n",
    "coursera2['Duration']=coursera2['Duration'].astype('int')\n",
    "coursera2['Number of Enrolled']=coursera2['Number of Enrolled'].astype('int')\n",
    "coursera2['Free Option']=coursera2['Free Option'].astype('int')"
   ]
  },
  {
   "cell_type": "code",
   "execution_count": null,
   "id": "294fa40b",
   "metadata": {},
   "outputs": [],
   "source": [
    "coursera2.dtypes"
   ]
  },
  {
   "cell_type": "code",
   "execution_count": null,
   "id": "0909b2cc",
   "metadata": {},
   "outputs": [],
   "source": [
    "\n",
    "print(coursera2.isna().sum())\n",
    "coursera2['Platform']=12\n",
    "coursera2.columns=header\n",
    "coursera2.head(2)"
   ]
  },
  {
   "attachments": {},
   "cell_type": "markdown",
   "id": "490061c7",
   "metadata": {},
   "source": [
    "## Combine all datasets"
   ]
  },
  {
   "cell_type": "code",
   "execution_count": null,
   "id": "4897ba88",
   "metadata": {},
   "outputs": [],
   "source": [
    "dataset = pd.concat([aws,dataCamp,edureka,edx,freecodeCamp,futurelearn,independent,linkedin,microsoft,pluralsight,udacity,udemy,coursera,coursera2]).reset_index(drop=True)"
   ]
  },
  {
   "cell_type": "code",
   "execution_count": null,
   "id": "ffc22b21",
   "metadata": {},
   "outputs": [],
   "source": [
    "print(dataset.shape)\n",
    "dataset.head()"
   ]
  },
  {
   "cell_type": "code",
   "execution_count": null,
   "id": "9215ef5b",
   "metadata": {},
   "outputs": [],
   "source": [
    "dataset.isna().sum()\n",
    "\n",
    "\n"
   ]
  },
  {
   "cell_type": "code",
   "execution_count": null,
   "id": "793860a8",
   "metadata": {},
   "outputs": [],
   "source": [
    "duplicate = dataset[dataset.duplicated(['title','url'],keep=False)]\n",
    " \n",
    "print(\"Duplicate Rows :\")\n",
    " \n",
    "# Print the resultant Dataframe\n",
    "res=duplicate.sort_values(by = 'title')\n",
    "\n",
    "res.shape"
   ]
  },
  {
   "cell_type": "code",
   "execution_count": null,
   "id": "973c926d",
   "metadata": {},
   "outputs": [],
   "source": [
    "dataset.drop_duplicates(subset=['url'],keep='first',inplace=True)"
   ]
  },
  {
   "cell_type": "code",
   "execution_count": null,
   "id": "ffad2c1b",
   "metadata": {},
   "outputs": [],
   "source": [
    "duplicate = dataset[dataset.duplicated(['title','url'],keep=False)]\n",
    " \n",
    "print(\"Duplicate Rows :\")\n",
    " \n",
    "# Print the resultant Dataframe\n",
    "res=duplicate.sort_values(by = 'title')\n",
    "print(res.shape)"
   ]
  },
  {
   "cell_type": "code",
   "execution_count": null,
   "id": "cb999c89",
   "metadata": {},
   "outputs": [],
   "source": [
    "dataset.dtypes"
   ]
  },
  {
   "cell_type": "code",
   "execution_count": null,
   "id": "804aaa21",
   "metadata": {},
   "outputs": [],
   "source": [
    "print(dataset['rating'].value_counts())"
   ]
  },
  {
   "cell_type": "code",
   "execution_count": null,
   "id": "45965203",
   "metadata": {},
   "outputs": [],
   "source": [
    "# Calculate average rating for all courses\n",
    "avg_rating = dataset['rating'].mean()\n",
    "print(avg_rating)\n",
    "# Replace missing ratings with mean rating\n",
    "dataset['rating']=dataset['rating'].apply(lambda x : avg_rating if (x==0 or pd.isna(x))  else x )"
   ]
  },
  {
   "cell_type": "code",
   "execution_count": null,
   "id": "fc43d591",
   "metadata": {},
   "outputs": [],
   "source": [
    "\n",
    "print(dataset['rating'].value_counts())"
   ]
  },
  {
   "cell_type": "code",
   "execution_count": null,
   "id": "0f0e93e1",
   "metadata": {},
   "outputs": [],
   "source": [
    "# Calculate Popularity Index\n",
    "\n",
    "# Calculate average rating\n",
    "avg_rating = dataset['rating'][dataset['rating'] > 0].mean()\n",
    "\n",
    "# Calculate normalized number of ratings\n",
    "num_ratings = dataset['rating'].value_counts()\n",
    "max_num_ratings = num_ratings.max()\n",
    "norm_num_ratings = num_ratings / max_num_ratings\n",
    "\n",
    "# Calculate weighted average rating\n",
    "weighted_avg_rating = (dataset['rating'] * dataset['rating'].map(norm_num_ratings)).sum() / \\\n",
    "                      (dataset['rating'].map(norm_num_ratings)).sum()\n",
    "\n",
    "# Calculate popularity index\n",
    "pop_index = dataset['rating'].map(norm_num_ratings) * (dataset['rating'] / weighted_avg_rating)\n",
    "dataset['popularity_index'] = pop_index\n",
    "\n",
    "print(avg_rating)\n",
    "pop_index.shape"
   ]
  },
  {
   "cell_type": "code",
   "execution_count": null,
   "id": "b9772480",
   "metadata": {},
   "outputs": [],
   "source": [
    "dataset['popularity_index'].value_counts()"
   ]
  },
  {
   "cell_type": "code",
   "execution_count": null,
   "id": "3fb51890",
   "metadata": {},
   "outputs": [],
   "source": [
    "dataset.info()"
   ]
  },
  {
   "cell_type": "code",
   "execution_count": null,
   "id": "d55c8b9d",
   "metadata": {},
   "outputs": [],
   "source": [
    "dataset.to_csv('Combined__Data.csv', index=False, encoding='utf_8_sig')"
   ]
  },
  {
   "cell_type": "code",
   "execution_count": null,
   "id": "c9dfb2f0",
   "metadata": {},
   "outputs": [],
   "source": [
    "#!pip install spacy"
   ]
  },
  {
   "cell_type": "code",
   "execution_count": null,
   "id": "371e71bb",
   "metadata": {},
   "outputs": [],
   "source": [
    "import pandas as pd\n",
    "import spacy\n",
    "\n",
    "# Load the dataset into a Pandas dataframe\n",
    "#df = pd.read_csv('Combined__Data.csv')\n",
    "\n",
    "# Load the English language model for NLP\n",
    "nlp = spacy.load('en_core_web_sm')\n",
    "\n",
    "# Define a function to extract keywords from the course title, description, and categories\n",
    "def extract_keywords(text):\n",
    "    doc = nlp(text)\n",
    "    keywords = []\n",
    "    for token in doc:\n",
    "        if not token.is_stop and token.is_alpha and len(token.text) > 2 :\n",
    "            keywords.append(token.lemma_.lower())\n",
    "    return keywords\n",
    "\n",
    "\n"
   ]
  },
  {
   "cell_type": "code",
   "execution_count": null,
   "id": "2cab58f6",
   "metadata": {},
   "outputs": [],
   "source": [
    "# Add a new column called 'keywords' to the dataframe\n",
    "dataset['keywords'] = ''\n",
    "\n",
    "# Iterate over each row in the dataframe and extract keywords for each course\n",
    "for index, row in dataset.iterrows():\n",
    "    title = row['title']\n",
    "    #print(row)\n",
    "    description = row['description_short'] + ' ' + row['description_long']\n",
    "    categories = row['categories']\n",
    "    keywords = extract_keywords(title + ' ' + description + ' ' + categories)\n",
    "    dataset.at[index, 'keywords'] = ', '.join(keywords)\n",
    "\n",
    "# Save the updated dataset to a new CSV file\n",
    "dataset.to_csv('courses_with_keywords.csv', index=False,encoding='utf_8_sig')"
   ]
  },
  {
   "cell_type": "code",
   "execution_count": null,
   "id": "4113db9a",
   "metadata": {},
   "outputs": [],
   "source": [
    "dataset.head(5)"
   ]
  },
  {
   "cell_type": "code",
   "execution_count": null,
   "id": "f5ac0e79",
   "metadata": {},
   "outputs": [],
   "source": [
    "# # Define a dictionary of job roles and their associated keywords\n",
    "\n",
    "# job_roles = {\n",
    "#   \"Data Analyst\":  [\"Pandas\", \"NumPy\", \"SciPy\", \"Matplotlib\", \"Seaborn\", \"Power BI\", \"Tableau\",\"Hypothesis testing\", \"Regression analysis\", \"ANOVA\", \"Time series analysis\" ,\"Python\", \"R\", \"SQL\",\"Data analysis\",\"MySQL\", \"PostgreSQL\", \"MongoDB\", \"Oracle\", \"SQL Server\", \"Data visualization\", \"SQL\", \"Python\", \"R\", \"Statistics\", \"Excel\",\"Tableau\", \"Power BI\", \"QlikView\", \"Looker\", \"Google Analytics\", \"AWS\", \"Azure\",\"SQL\", \"Python\", \"R\", \"Data visualization\", \"Data cleaning\", \"Data manipulation\", \"Statistical analysis\", \"Excel\", \"Tableau\", \"Power BI\", \"Google Analytics\", \"Machine learning\", \"Critical thinking\", \"Problem solving\", \"Communication skills\"]\n",
    "#   ,\n",
    "#   \"Data Scientist\": [\"Machine learning\", \"Deep learning\", \"Statistical modeling\", \"Python\", \"R\", \"Data analysis\",\"TensorFlow\", \"Keras\", \"Scikit-learn\", \"PyTorch\", \"Hadoop\", \"Spark\", \"AWS\", \"Azure\",\"Python\", \"R\", \"SQL\", \"Machine learning\", \"Data visualization\", \"Statistical analysis\", \"Big data\", \"Data wrangling\", \"Deep learning\", \"NLP\", \"Reinforcement learning\", \"Model tuning\", \"Experimentation\", \"Problem solving\", \"Communication skills\"]\n",
    "#   ,\n",
    "#   \"Software Developer\": [\"Programming\", \"Problem solving\", \"Algorithms\", \"Data structures\", \"Testing\", \"Debugging\",\"Java\", \"Python\", \"C++\", \"JavaScript\", \"Node.js\", \"React\", \"Angular\", \"Docker\", \"Kubernetes\",\"Java\", \"Python\", \"JavaScript\", \"C++\", \"C#\", \"Ruby\", \"PHP\", \"SQL\", \"Git\", \"Agile\", \"Unit testing\", \"Debugging\", \"Problem solving\", \"Object-oriented programming (OOP)\", \"Web development\", \"Mobile app development\", \"Cloud computing\", \"API development\", \"DevOps\",\"Java\", \"Python\", \"C++\", \"C#\", \"Ruby\", \"JavaScript\", \"PHP\", \"Swift\", \"Kotlin\", \"Objective-C\", \"SQL\",\"MySQL\", \"PostgreSQL\", \"MongoDB\", \"Oracle\", \"SQL Server\",\"Spring\", \".NET\", \"Django\", \"Flask\", \"Ruby on Rails\", \"Unity\", \"Git\", \"Agile\",\"Linux\", \"Windows\", \"macOS\"]\n",
    "#   ,\n",
    "#   \"Full Stack Developer\":  [\"Node.js\", \"Express\", \"Python\", \"Ruby on Rails\", \"Django\", \"Flask\", \"ASP.NET\", \"PHP\", \"REST APIs\",\"HTML\", \"CSS\", \"JavaScript\", \"jQuery\", \"React\", \"Angular\", \"Vue.js\", \"Bootstrap\", \"Materialize\", \"Semantic UI\",\"MySQL\", \"PostgreSQL\", \"MongoDB\", \"Oracle\", \"SQL Server\",\"React Native\", \"Ionic\", \"Electron\", \"React Redux\", \"Vue.js Vuex\", \"Git\", \"Agile\",\"Front-end development\", \"Back-end development\", \"Database management\", \"API development\", \"Agile methodologies\",\"HTML\", \"CSS\", \"JavaScript\", \"Node.js\", \"Express.js\", \"React\", \"Angular\", \"MySQL\", \"PostgreSQL\", \"MongoDB\"]\n",
    "#   ,\n",
    "#    \"Web Developer\": [\"HTML\", \"CSS\", \"JavaScript\", \"jQuery\", \"Bootstrap\", \"React\", \"Angular\", \"Vue.js\", \"Node.js\", \"PHP\", \"Python\", \"SQL\", \"REST APIs\", \"Git\", \"Agile\", \"UI/UX design\", \"Responsive design\", \"SEO\", \"Web performance optimization\"],\n",
    "    \n",
    "#   \"Cloud Solutions Architect\": [\"Cloud computing\", \"Architecture design\", \"Networking\", \"Security\", \"Data migration\",\n",
    "#     \"AWS\", \"Azure\", \"Google Cloud Platform\", \"Docker\", \"Kubernetes\", \"Terraform\"]\n",
    "#   ,\n",
    "#   \"Cybersecurity Analyst\": [\"Security analysis\", \"Risk assessment\", \"Penetration testing\", \"Firewall management\", \"Intrusion detection\",\n",
    "#    \"SIEM\", \"IDS/IPS\", \"Firewalls\", \"Antivirus software\", \"Vulnerability scanners\", \"Metasploit\", \"Nmap\"],\n",
    "\n",
    "#    \"Network Administrator\": [\"TCP/IP\", \"DNS\", \"DHCP\", \"Firewalls\", \"VPN\", \"LAN\", \"WAN\", \"Cisco\", \"Juniper\", \"Routing protocols\", \"Linux\", \"Windows Server\", \"Active Directory\", \"Virtualization\", \"Security\", \"Problem solving\"],\n",
    "    \n",
    "#     \"Network Architect\": [\"TCP/IP\", \"DNS\", \"DHCP\", \"Firewalls\", \"VPN\", \"LAN\", \"WAN\", \"Cisco\", \"Juniper\", \"Routing protocols\", \"Linux\", \"Windows Server\", \"Active Directory\", \"Virtualization\", \"Security\", \"Network design\", \"Problem solving\"],\n",
    "    \n",
    "#     \"Database Administrator\": [\"SQL\", \"MySQL\", \"Oracle\", \"PostgreSQL\", \"MongoDB\", \"Database design\", \"Database security\", \"Database backup and recovery\", \"Database performance tuning\", \"Shell scripting\", \"Linux\", \"Windows Server\", \"Problem solving\"],\n",
    "    \n",
    "#     \"Systems Analyst\": [\"Systems analysis\", \"Software development life cycle (SDLC)\", \"Agile\", \"Waterfall\", \"Requirement gathering\", \"Process improvement\"]\n",
    "\n",
    "  \n",
    "# }\n",
    "\n",
    "\n",
    "# jjjp={\n",
    "#     \"Software Developer\": [\"Programming Languages\", \"Object-oriented programming (OOP)\", \"Debugging\", \"Agile methodology\", \"Software testing\", \"Version control systems\", \"Database management\", \"Web development frameworks\"],\n",
    "#     \"Web Developer\": [\"HTML/CSS\", \"JavaScript\", \"Web development frameworks\", \"Content Management Systems (CMS)\", \"Search Engine Optimization (SEO)\", \"Responsive web design\", \"User Experience (UX) design\", \"Web security\"],\n",
    "#     \"Data Analyst\": [\"SQL\", \"Data visualization\", \"Statistical analysis\", \"Data cleaning and preparation\", \"Excel\", \"Python/R programming\", \"Machine learning\", \"Database management\"],\n",
    "#     \"Data Scientist\": [\"Python/R programming\", \"Machine learning\", \"Data visualization\", \"Big data technologies\", \"Statistics\", \"Data cleaning and preparation\", \"SQL\", \"Deep learning\"],\n",
    "#     \"Network Administrator\": [\"Network security\", \"Virtualization technologies\", \"Network routing and switching\", \"Firewall management\", \"Wireless network technologies\", \"Network performance tuning\", \"Cloud technologies\", \"TCP/IP\"],\n",
    "#     \"Network Architect\": [\"Network security\", \"Virtualization technologies\", \"Network routing and switching\", \"Firewall management\", \"Wireless network technologies\", \"Network performance tuning\", \"Cloud technologies\", \"TCP/IP\"],\n",
    "#     \"Database Administrator\": [\"Database management systems (DBMS)\", \"Database security\", \"Database tuning and optimization\", \"SQL\", \"Backup and recovery\", \"Data modeling\", \"Database design\", \"Data warehousing\"],\n",
    "#     \"Systems Analyst\": [\"Business analysis\", \"Systems design and modeling\", \"Project management\", \"Quality assurance\", \"Systems testing\", \"Process improvement\", \"Agile methodology\", \"Technical writing\"],\n",
    "#     \"Cybersecurity Analyst\": [\"Network security\", \"Threat intelligence\", \"Vulnerability assessment\", \"Penetration testing\", \"Security operations center (SOC) operations\", \"Incident response\", \"Risk management\", \"Compliance frameworks\"],\n",
    "#     \"Machine Learning Engineer\": [\"Python programming\", \"Data preprocessing\", \"Machine learning algorithms\", \"Deep learning\", \"Natural Language Processing (NLP)\", \"Computer Vision\", \"Model deployment\", \"Cloud technologies\"],\n",
    "#     \"Artificial Intelligence (AI) Engineer\": [\"Machine learning algorithms\", \"Deep learning\", \"Natural Language Processing (NLP)\", \"Computer Vision\", \"Robotics\", \"Reinforcement learning\", \"Cloud technologies\", \"Python programming\"],\n",
    "#     \"Cloud Architect\": [\"AWS\",\"Microsoft Azure\",\"Google Cloud\",\"Cloud computing technologies\", \"Virtualization technologies\", \"Security and compliance\", \"Networking\", \"Storage technologies\", \"Backup and recovery\", \"Cloud migration\", \"DevOps\"],\n",
    "#     \"DevOps Engineer\": [\"Continuous integration/continuous deployment (CI/CD)\", \"Automation tools\", \"Containerization technologies\", \"Cloud computing\", \"Scripting languages\", \"Monitoring and logging tools\", \"Networking\", \"Security and compliance\"],\n",
    "#     \"Full Stack Developer\": [\"HTML/CSS\", \"JavaScript\", \"Web development frameworks\", \"Server-side programming languages\", \"Database management\", \"Version control systems\", \"Responsive web design\", \"RESTful API design\"],\n",
    "#     \"Game Developer\": [\"Game engines and frameworks\", \"Programming languages\", \"Game design principles\", \"3D modeling and animation\", \"Game physics\", \"Gameplay mechanics\", \"UI/UX design\", \"Project management\"],\n",
    "#     \"UI/UX Designer\": [\"Wireframing\", \"Prototyping\", \"Interaction design\", \"Visual design\", \"Typography\", \"Color theory\",\"User interface design\", \"User experience design\", \"Wireframing and prototyping tools\", \"Graphic design tools\", \"HTML/CSS\", \"JavaScript\", \"Usability testing\", \"Information architecture\"],\n",
    "#     \"IT Manager\": [\"Project management\", \"IT strategy development\", \"Budgeting and financial management\", \"IT governance and compliance\", \"Vendor management\", \"Risk management\"]\n",
    "# }\n",
    "\n",
    "# # Define a function to map keywords to job roles\n",
    "\n"
   ]
  },
  {
   "cell_type": "code",
   "execution_count": null,
   "id": "2d05005b",
   "metadata": {},
   "outputs": [],
   "source": [
    "# print(jjjp)"
   ]
  },
  {
   "cell_type": "code",
   "execution_count": null,
   "id": "9babea2f",
   "metadata": {},
   "outputs": [],
   "source": [
    "# def map_job_role(keywords):\n",
    "#     job_li=[]\n",
    "#     for job, keywords_list in job_roles.items():\n",
    "#         keywords_list=[x.lower() for x in keywords_list]\n",
    "#         for keyword in keywords.split(','):\n",
    "#             if keyword.strip().lower() in keywords_list:\n",
    "#                 if job not in job_li:\n",
    "#                     job_li.append(job)\n",
    "#     if len(job_li)>0:\n",
    "#         return job_li\n",
    "#     return 'Other'\n",
    "\n"
   ]
  },
  {
   "cell_type": "code",
   "execution_count": null,
   "id": "3d9226c4",
   "metadata": {},
   "outputs": [],
   "source": [
    "# df=dataset\n",
    "# # Apply the map_job_role function to the keywords column to create the job_role column\n",
    "\n",
    "# df['job_role'] = df['keywords'].apply(map_job_role)"
   ]
  },
  {
   "cell_type": "code",
   "execution_count": null,
   "id": "f31e9778",
   "metadata": {},
   "outputs": [],
   "source": [
    "# df.tail()\n"
   ]
  },
  {
   "cell_type": "code",
   "execution_count": null,
   "id": "62c0cfe7",
   "metadata": {},
   "outputs": [],
   "source": [
    "# df['job_role']"
   ]
  },
  {
   "cell_type": "code",
   "execution_count": null,
   "id": "94db452b",
   "metadata": {},
   "outputs": [],
   "source": [
    "# # Save the updated dataset to a new CSV file\n",
    "# df.to_csv('online_courses_with_job_roles.csv', index=False)"
   ]
  },
  {
   "cell_type": "code",
   "execution_count": null,
   "id": "df6d4e03",
   "metadata": {},
   "outputs": [],
   "source": [
    "dataset.head()"
   ]
  },
  {
   "cell_type": "code",
   "execution_count": null,
   "id": "c4f397da",
   "metadata": {},
   "outputs": [],
   "source": [
    "# dataset.drop(columns='job_role',inplace=True)"
   ]
  },
  {
   "cell_type": "code",
   "execution_count": null,
   "id": "bc1e3321",
   "metadata": {},
   "outputs": [],
   "source": []
  },
  {
   "cell_type": "code",
   "execution_count": null,
   "id": "3444187b",
   "metadata": {},
   "outputs": [],
   "source": [
    "dataset=pd.read_csv('courses_with_keywords.csv')"
   ]
  },
  {
   "cell_type": "code",
   "execution_count": null,
   "id": "8c21cc4f",
   "metadata": {},
   "outputs": [],
   "source": [
    "dataset.isna().sum()"
   ]
  },
  {
   "cell_type": "code",
   "execution_count": null,
   "id": "4c6b7778",
   "metadata": {},
   "outputs": [],
   "source": []
  },
  {
   "cell_type": "code",
   "execution_count": null,
   "id": "e803ce62",
   "metadata": {},
   "outputs": [],
   "source": []
  },
  {
   "cell_type": "code",
   "execution_count": null,
   "id": "8cf9b6dc",
   "metadata": {},
   "outputs": [],
   "source": [
    "dataset['description_short'] = dataset['description_short'].apply(lambda x: 'Description not availabel' if pd.isna(x) else x)\n",
    "dataset['description_long'] = dataset['description_long'].apply(lambda x: 'Description not availabel' if pd.isna(x) else x)\n",
    "dataset['paid_option'] =dataset['paid_option'].apply(lambda x: 'Refer link' if pd.isna(x) else x)"
   ]
  },
  {
   "cell_type": "code",
   "execution_count": null,
   "id": "54fc4de1",
   "metadata": {},
   "outputs": [],
   "source": [
    "dataset.isna().sum()"
   ]
  },
  {
   "cell_type": "code",
   "execution_count": null,
   "id": "f0ba3415",
   "metadata": {},
   "outputs": [],
   "source": [
    "dataset.to_csv('course_final_with_keyword.csv', index=False,encoding='utf_8_sig')"
   ]
  },
  {
   "cell_type": "code",
   "execution_count": null,
   "id": "ffcfedb3",
   "metadata": {},
   "outputs": [],
   "source": [
    "## Build Knowledge Base\n",
    "pkl_file = 'course_data.pickle'\n",
    "dataset.to_pickle(pkl_file)"
   ]
  },
  {
   "cell_type": "code",
   "execution_count": null,
   "id": "74b08883",
   "metadata": {},
   "outputs": [],
   "source": []
  }
 ],
 "metadata": {
  "kernelspec": {
   "display_name": "base",
   "language": "python",
   "name": "python3"
  },
  "language_info": {
   "codemirror_mode": {
    "name": "ipython",
    "version": 3
   },
   "file_extension": ".py",
   "mimetype": "text/x-python",
   "name": "python",
   "nbconvert_exporter": "python",
   "pygments_lexer": "ipython3",
   "version": "3.9.13"
  },
  "vscode": {
   "interpreter": {
    "hash": "e1044b3ea0c4e61facd835ed63755375cec5f39f8227be43571ad6d5fb40a03b"
   }
  }
 },
 "nbformat": 4,
 "nbformat_minor": 5
}
