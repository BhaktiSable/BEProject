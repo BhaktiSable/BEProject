{
 "cells": [
  {
   "cell_type": "code",
   "execution_count": 57,
   "metadata": {},
   "outputs": [],
   "source": [
    "import pandas as pd \n",
    "import numpy as np"
   ]
  },
  {
   "cell_type": "code",
   "execution_count": 58,
   "metadata": {},
   "outputs": [],
   "source": [
    "edx=pd.read_csv('C:/Users/nehab/Desktop/Python/Webscraping/Edx_Courses_Data_New_Final11.csv')"
   ]
  },
  {
   "cell_type": "code",
   "execution_count": 59,
   "metadata": {},
   "outputs": [
    {
     "data": {
      "text/plain": [
       "(1189, 15)"
      ]
     },
     "execution_count": 59,
     "metadata": {},
     "output_type": "execute_result"
    }
   ],
   "source": [
    "edx.shape"
   ]
  },
  {
   "cell_type": "code",
   "execution_count": 60,
   "metadata": {},
   "outputs": [
    {
     "name": "stdout",
     "output_type": "stream",
     "text": [
      "<class 'pandas.core.frame.DataFrame'>\n",
      "RangeIndex: 1189 entries, 0 to 1188\n",
      "Data columns (total 15 columns):\n",
      " #   Column               Non-Null Count  Dtype \n",
      "---  ------               --------------  ----- \n",
      " 0   Course Name          1189 non-null   object\n",
      " 1   Multi Categories     1189 non-null   object\n",
      " 2   Course URL           1189 non-null   object\n",
      " 3   Course Provider      240 non-null    object\n",
      " 4   Short Description    1092 non-null   object\n",
      " 5   Long Description     1188 non-null   object\n",
      " 6   Difficulty           1188 non-null   object\n",
      " 7   Duration             1185 non-null   object\n",
      " 8   Commitment           1183 non-null   object\n",
      " 9   Number of Enrolled   494 non-null    object\n",
      " 10  Cost                 1189 non-null   object\n",
      " 11  Alternative Options  1139 non-null   object\n",
      " 12  Language             1188 non-null   object\n",
      " 13  Video Language       1135 non-null   object\n",
      " 14  Prerequisites        1188 non-null   object\n",
      "dtypes: object(15)\n",
      "memory usage: 139.5+ KB\n"
     ]
    }
   ],
   "source": [
    "edx.info()"
   ]
  },
  {
   "cell_type": "code",
   "execution_count": 61,
   "metadata": {},
   "outputs": [
    {
     "data": {
      "text/plain": [
       "Index(['Course Name', 'Multi Categories', 'Course URL', 'Course Provider',\n",
       "       'Short Description', 'Long Description', 'Difficulty', 'Duration',\n",
       "       'Commitment', 'Number of Enrolled', 'Cost', 'Alternative Options',\n",
       "       'Language', 'Video Language', 'Prerequisites'],\n",
       "      dtype='object')"
      ]
     },
     "execution_count": 61,
     "metadata": {},
     "output_type": "execute_result"
    }
   ],
   "source": [
    "edx.columns"
   ]
  },
  {
   "cell_type": "code",
   "execution_count": 62,
   "metadata": {},
   "outputs": [
    {
     "data": {
      "text/html": [
       "<div>\n",
       "<style scoped>\n",
       "    .dataframe tbody tr th:only-of-type {\n",
       "        vertical-align: middle;\n",
       "    }\n",
       "\n",
       "    .dataframe tbody tr th {\n",
       "        vertical-align: top;\n",
       "    }\n",
       "\n",
       "    .dataframe thead th {\n",
       "        text-align: right;\n",
       "    }\n",
       "</style>\n",
       "<table border=\"1\" class=\"dataframe\">\n",
       "  <thead>\n",
       "    <tr style=\"text-align: right;\">\n",
       "      <th></th>\n",
       "      <th>Course Name</th>\n",
       "      <th>Multi Categories</th>\n",
       "      <th>Course URL</th>\n",
       "      <th>Course Provider</th>\n",
       "      <th>Short Description</th>\n",
       "      <th>Long Description</th>\n",
       "      <th>Difficulty</th>\n",
       "      <th>Duration</th>\n",
       "      <th>Commitment</th>\n",
       "      <th>Number of Enrolled</th>\n",
       "      <th>Cost</th>\n",
       "      <th>Alternative Options</th>\n",
       "      <th>Language</th>\n",
       "      <th>Video Language</th>\n",
       "      <th>Prerequisites</th>\n",
       "    </tr>\n",
       "  </thead>\n",
       "  <tbody>\n",
       "    <tr>\n",
       "      <th>0</th>\n",
       "      <td>4G Network Essentials</td>\n",
       "      <td>Engineering</td>\n",
       "      <td>https://www.edx.org/course/4g-network-essentials</td>\n",
       "      <td>NaN</td>\n",
       "      <td>Advance your telecom career by learning how 4G...</td>\n",
       "      <td>4G is the cutting-edge network technology that...</td>\n",
       "      <td>Intermediate</td>\n",
       "      <td>6 weeks</td>\n",
       "      <td>3–4 hours per week</td>\n",
       "      <td>NaN</td>\n",
       "      <td>Free</td>\n",
       "      <td>₹ 4,007</td>\n",
       "      <td>English</td>\n",
       "      <td>English</td>\n",
       "      <td>BSc degree (algebra, basic mathematics concep...</td>\n",
       "    </tr>\n",
       "    <tr>\n",
       "      <th>1</th>\n",
       "      <td>5G Deployment</td>\n",
       "      <td>Computer Science, Engineering</td>\n",
       "      <td>https://www.edx.org/course/5g-deployment</td>\n",
       "      <td>NaN</td>\n",
       "      <td>Learn about 5G deployment, 5G Radio Access Net...</td>\n",
       "      <td>In this course, you will learn about 5G deploy...</td>\n",
       "      <td>Introductory</td>\n",
       "      <td>6 weeks</td>\n",
       "      <td>4–6 hours per week</td>\n",
       "      <td>NaN</td>\n",
       "      <td>Free</td>\n",
       "      <td>₹ 16,273</td>\n",
       "      <td>English</td>\n",
       "      <td>English</td>\n",
       "      <td>There are no pre-requisites for this course.</td>\n",
       "    </tr>\n",
       "    <tr>\n",
       "      <th>2</th>\n",
       "      <td>5G Essentials</td>\n",
       "      <td>Computer Science, Engineering</td>\n",
       "      <td>https://www.edx.org/course/5g-essentials</td>\n",
       "      <td>Curtin University</td>\n",
       "      <td>Learn about 5G Networking, 5G architecture, an...</td>\n",
       "      <td>In this course, you will learn and explore abo...</td>\n",
       "      <td>Introductory</td>\n",
       "      <td>7 weeks</td>\n",
       "      <td>4–6 hours per week</td>\n",
       "      <td>NaN</td>\n",
       "      <td>Free</td>\n",
       "      <td>₹ 16,273</td>\n",
       "      <td>English</td>\n",
       "      <td>English</td>\n",
       "      <td>There are no prerequisites for this course.</td>\n",
       "    </tr>\n",
       "    <tr>\n",
       "      <th>3</th>\n",
       "      <td>AI Applications with Watson</td>\n",
       "      <td>Computer Science</td>\n",
       "      <td>https://www.edx.org/course/AI-applications-wit...</td>\n",
       "      <td>NaN</td>\n",
       "      <td>Turbocharge your chatbot's IQ and AI capabilit...</td>\n",
       "      <td>Please Note: Learners who successfully complet...</td>\n",
       "      <td>Intermediate</td>\n",
       "      <td>3 weeks</td>\n",
       "      <td>2–4 hours per week</td>\n",
       "      <td>13,695</td>\n",
       "      <td>Free</td>\n",
       "      <td>₹ 8,096</td>\n",
       "      <td>English</td>\n",
       "      <td>English</td>\n",
       "      <td>basic knowledge of object-oriented programming...</td>\n",
       "    </tr>\n",
       "    <tr>\n",
       "      <th>4</th>\n",
       "      <td>AI Chatbots without Programming</td>\n",
       "      <td>Computer Science</td>\n",
       "      <td>https://www.edx.org/course/AI-chatbots-without...</td>\n",
       "      <td>NaN</td>\n",
       "      <td>Chatbots are increasingly in demand among glob...</td>\n",
       "      <td>Please Note: Learners who successfully complet...</td>\n",
       "      <td>Introductory</td>\n",
       "      <td>2 weeks</td>\n",
       "      <td>2–4 hours per week</td>\n",
       "      <td>48,488</td>\n",
       "      <td>Free</td>\n",
       "      <td>₹ 8,096</td>\n",
       "      <td>English</td>\n",
       "      <td>English</td>\n",
       "      <td>None</td>\n",
       "    </tr>\n",
       "  </tbody>\n",
       "</table>\n",
       "</div>"
      ],
      "text/plain": [
       "                       Course Name               Multi Categories  \\\n",
       "0            4G Network Essentials                    Engineering   \n",
       "1                    5G Deployment  Computer Science, Engineering   \n",
       "2                    5G Essentials  Computer Science, Engineering   \n",
       "3      AI Applications with Watson               Computer Science   \n",
       "4  AI Chatbots without Programming               Computer Science   \n",
       "\n",
       "                                          Course URL    Course Provider  \\\n",
       "0   https://www.edx.org/course/4g-network-essentials                NaN   \n",
       "1           https://www.edx.org/course/5g-deployment                NaN   \n",
       "2           https://www.edx.org/course/5g-essentials  Curtin University   \n",
       "3  https://www.edx.org/course/AI-applications-wit...                NaN   \n",
       "4  https://www.edx.org/course/AI-chatbots-without...                NaN   \n",
       "\n",
       "                                   Short Description  \\\n",
       "0  Advance your telecom career by learning how 4G...   \n",
       "1  Learn about 5G deployment, 5G Radio Access Net...   \n",
       "2  Learn about 5G Networking, 5G architecture, an...   \n",
       "3  Turbocharge your chatbot's IQ and AI capabilit...   \n",
       "4  Chatbots are increasingly in demand among glob...   \n",
       "\n",
       "                                    Long Description    Difficulty Duration  \\\n",
       "0  4G is the cutting-edge network technology that...  Intermediate  6 weeks   \n",
       "1  In this course, you will learn about 5G deploy...  Introductory  6 weeks   \n",
       "2  In this course, you will learn and explore abo...  Introductory  7 weeks   \n",
       "3  Please Note: Learners who successfully complet...  Intermediate  3 weeks   \n",
       "4  Please Note: Learners who successfully complet...  Introductory  2 weeks   \n",
       "\n",
       "           Commitment Number of Enrolled  Cost Alternative Options Language  \\\n",
       "0  3–4 hours per week                NaN  Free             ₹ 4,007  English   \n",
       "1  4–6 hours per week                NaN  Free            ₹ 16,273  English   \n",
       "2  4–6 hours per week                NaN  Free            ₹ 16,273  English   \n",
       "3  2–4 hours per week             13,695  Free             ₹ 8,096  English   \n",
       "4  2–4 hours per week             48,488  Free             ₹ 8,096  English   \n",
       "\n",
       "  Video Language                                      Prerequisites  \n",
       "0        English   BSc degree (algebra, basic mathematics concep...  \n",
       "1        English       There are no pre-requisites for this course.  \n",
       "2        English        There are no prerequisites for this course.  \n",
       "3        English  basic knowledge of object-oriented programming...  \n",
       "4        English                                               None  "
      ]
     },
     "execution_count": 62,
     "metadata": {},
     "output_type": "execute_result"
    }
   ],
   "source": [
    "edx.head()"
   ]
  },
  {
   "cell_type": "markdown",
   "metadata": {},
   "source": [
    "### Preprocess difficulty column "
   ]
  },
  {
   "cell_type": "code",
   "execution_count": 63,
   "metadata": {},
   "outputs": [
    {
     "name": "stdout",
     "output_type": "stream",
     "text": [
      "All levels of difficulty:\n",
      "['Intermediate' 'Introductory' 'Advanced' nan]\n"
     ]
    }
   ],
   "source": [
    "print('All levels of difficulty:')\n",
    "print(edx['Difficulty'].unique())"
   ]
  },
  {
   "cell_type": "code",
   "execution_count": 64,
   "metadata": {},
   "outputs": [
    {
     "data": {
      "text/plain": [
       "1"
      ]
     },
     "execution_count": 64,
     "metadata": {},
     "output_type": "execute_result"
    }
   ],
   "source": [
    "edx['Difficulty'].isnull().sum()"
   ]
  },
  {
   "cell_type": "code",
   "execution_count": 65,
   "metadata": {},
   "outputs": [],
   "source": [
    "edx.dropna(subset=['Difficulty'],inplace=True)"
   ]
  },
  {
   "cell_type": "code",
   "execution_count": 66,
   "metadata": {},
   "outputs": [
    {
     "data": {
      "text/plain": [
       "0"
      ]
     },
     "execution_count": 66,
     "metadata": {},
     "output_type": "execute_result"
    }
   ],
   "source": [
    "edx['Difficulty'].isnull().sum()\n"
   ]
  },
  {
   "cell_type": "code",
   "execution_count": 67,
   "metadata": {},
   "outputs": [],
   "source": [
    "\n",
    "# Convert course difficulty from string to numbers in increasing difficulty order\n",
    "\n",
    "# 0: introductory , 1:Intermediate , 2: Advanced \n",
    "def conv_diff(diff_string):\n",
    "\n",
    "  if diff_string == 'Introductory':\n",
    "    diff = 0\n",
    "  elif diff_string == 'Intermediate':\n",
    "    diff = 1\n",
    "  else:\n",
    "    diff = 2\n",
    "  return diff"
   ]
  },
  {
   "cell_type": "code",
   "execution_count": 68,
   "metadata": {},
   "outputs": [
    {
     "name": "stdout",
     "output_type": "stream",
     "text": [
      "All levels of difficulty:\n",
      "['Intermediate' 'Introductory' 'Advanced']\n"
     ]
    }
   ],
   "source": [
    "# Extract Course Difficulty, one-hot encoded\n",
    "\n",
    "print('All levels of difficulty:')\n",
    "print(edx['Difficulty'].unique())\n",
    "\n",
    "data_difficulty = edx['Difficulty'].apply(lambda x: conv_diff(x))"
   ]
  },
  {
   "cell_type": "markdown",
   "metadata": {},
   "source": [
    "# Preprocess Duration "
   ]
  },
  {
   "cell_type": "code",
   "execution_count": 69,
   "metadata": {},
   "outputs": [
    {
     "name": "stdout",
     "output_type": "stream",
     "text": [
      "0\n"
     ]
    }
   ],
   "source": [
    "edx['Duration'].isnull().sum()\n",
    "edx.dropna(subset=['Duration'],inplace=True)\n",
    "print(edx['Duration'].isnull().sum())"
   ]
  },
  {
   "cell_type": "code",
   "execution_count": 70,
   "metadata": {},
   "outputs": [
    {
     "name": "stdout",
     "output_type": "stream",
     "text": [
      "0\n"
     ]
    }
   ],
   "source": [
    "edx['Commitment'].isnull().sum()\n",
    "edx.dropna(subset=['Commitment'],inplace=True)\n",
    "print(edx['Commitment'].isnull().sum())"
   ]
  },
  {
   "cell_type": "code",
   "execution_count": 71,
   "metadata": {},
   "outputs": [],
   "source": [
    "# Get course week duration given a string of 'Course Duration'\n",
    "\n",
    "def cal_cw(course_duration):\n",
    "  if pd.isna(course_duration):\n",
    "    cw = np.nan\n",
    "  else:\n",
    "    cw = course_duration.split(' ')[0]\n",
    "    cw = int(cw)\n",
    "  return cw\n"
   ]
  },
  {
   "cell_type": "code",
   "execution_count": 72,
   "metadata": {},
   "outputs": [],
   "source": [
    "# Get average hours per week given a string of 'Commitment'\n",
    "\n",
    "def cal_ahpw(commitment):\n",
    "  if pd.isna(commitment):\n",
    "    ahpw = np.nan\n",
    "  else:\n",
    "    list_hours = commitment.split(' ')[0].split('–')\n",
    "    list_hours = [int(x) for x in list_hours]\n",
    "    if len(list_hours) == 1:\n",
    "      ahpw = list_hours[0]\n",
    "    else:\n",
    "      ahpw = np.mean(list_hours)\n",
    "  return ahpw\n",
    "  "
   ]
  },
  {
   "cell_type": "code",
   "execution_count": 73,
   "metadata": {},
   "outputs": [],
   "source": [
    "# Convert course duration in hours to categorical\n",
    "# 0 : short , 1 : medium , 2 : long\n",
    "def conv_dur(dur):\n",
    "  if pd.isna(dur):\n",
    "    cat_dur = np.nan\n",
    "  elif (dur > 0) and (dur <= 10):\n",
    "    cat_dur = 0\n",
    "  elif (dur > 10) and (dur <= 50):\n",
    "    cat_dur = 1\n",
    "  else:\n",
    "    cat_dur = 2\n",
    "  return cat_dur"
   ]
  },
  {
   "cell_type": "code",
   "execution_count": 74,
   "metadata": {},
   "outputs": [],
   "source": [
    "# Filter for non empty value Course Duration\n",
    "week_non = np.array((edx['Duration'].isna() == False))\n"
   ]
  },
  {
   "cell_type": "code",
   "execution_count": 75,
   "metadata": {},
   "outputs": [],
   "source": [
    "# Filter for non empty value Commitment \n",
    "com_non= np.array((edx['Commitment'].isna() == False))\n"
   ]
  },
  {
   "cell_type": "code",
   "execution_count": 76,
   "metadata": {},
   "outputs": [
    {
     "data": {
      "text/plain": [
       "array([ True,  True,  True, ...,  True,  True,  True])"
      ]
     },
     "execution_count": 76,
     "metadata": {},
     "output_type": "execute_result"
    }
   ],
   "source": [
    "# Filter for non empty value for both Course Duration and Commitment\n",
    "dur_non = week_non * com_non\n",
    "dur_non"
   ]
  },
  {
   "cell_type": "code",
   "execution_count": 77,
   "metadata": {},
   "outputs": [
    {
     "data": {
      "text/plain": [
       "1183"
      ]
     },
     "execution_count": 77,
     "metadata": {},
     "output_type": "execute_result"
    }
   ],
   "source": [
    "dur_non.sum()"
   ]
  },
  {
   "cell_type": "code",
   "execution_count": 78,
   "metadata": {},
   "outputs": [
    {
     "data": {
      "text/plain": [
       "36.30050718512257"
      ]
     },
     "execution_count": 78,
     "metadata": {},
     "output_type": "execute_result"
    }
   ],
   "source": [
    "# Calculate global average course duration\n",
    "\n",
    "avg_dur = (np.array(edx['Duration'][dur_non].apply(lambda x: cal_cw(x))) * np.array(edx['Commitment'][dur_non].apply(lambda x: cal_ahpw(x)))).sum()  / dur_non.sum()\n",
    "avg_dur"
   ]
  },
  {
   "cell_type": "code",
   "execution_count": 79,
   "metadata": {},
   "outputs": [],
   "source": [
    "# Calculate course duration in hours\n",
    "# cw - course week duration\n",
    "# ahpw - average hours per week\n",
    "# ahpw = cw * ahpw\n",
    "\n",
    "def cal_dur(week_dur, commt):\n",
    "  cw = cal_cw(week_dur)\n",
    "  ahpw = cal_ahpw(commt)\n",
    "  if pd.isna(cw):\n",
    "    dur = np.nan\n",
    "  elif (not(pd.isna(cw)) and pd.isna(ahpw)):\n",
    "    dur = avg_dur # for courses with number of weeks but not average hours per week info\n",
    "  else: \n",
    "    dur = cw*ahpw\n",
    "  return conv_dur(dur)"
   ]
  },
  {
   "cell_type": "code",
   "execution_count": 80,
   "metadata": {},
   "outputs": [],
   "source": [
    "# Get Course Duration in unit of hours\n",
    "dur_hr = edx[['Duration',\t'Commitment']].apply(lambda x: cal_dur(x[0],x[1]), axis=1)"
   ]
  },
  {
   "cell_type": "markdown",
   "metadata": {},
   "source": [
    "###  Get Course Name, url , category "
   ]
  },
  {
   "cell_type": "code",
   "execution_count": 81,
   "metadata": {},
   "outputs": [],
   "source": [
    "data_name = edx['Course Name']\n",
    "data_url = edx['Course URL']\n",
    "data_cat = edx['Multi Categories']\n"
   ]
  },
  {
   "cell_type": "code",
   "execution_count": null,
   "metadata": {},
   "outputs": [],
   "source": []
  },
  {
   "cell_type": "markdown",
   "metadata": {},
   "source": [
    "### Get course description"
   ]
  },
  {
   "cell_type": "code",
   "execution_count": 82,
   "metadata": {},
   "outputs": [],
   "source": [
    "# Extract Course Short Description\n",
    "data_sdesc = edx['Short Description'].apply(lambda x: '' if pd.isna(x) else x)"
   ]
  },
  {
   "cell_type": "code",
   "execution_count": 83,
   "metadata": {},
   "outputs": [],
   "source": [
    "# Extract Course Long Description\n",
    "\n",
    "data_ldesc = edx['Long Description'].apply(lambda x: '' if pd.isna(x) else x)"
   ]
  },
  {
   "cell_type": "markdown",
   "metadata": {},
   "source": [
    "### get cost column\n",
    "\n"
   ]
  },
  {
   "cell_type": "code",
   "execution_count": 84,
   "metadata": {},
   "outputs": [
    {
     "data": {
      "text/plain": [
       "0"
      ]
     },
     "execution_count": 84,
     "metadata": {},
     "output_type": "execute_result"
    }
   ],
   "source": [
    "edx.Cost.isna().sum()"
   ]
  },
  {
   "cell_type": "code",
   "execution_count": 85,
   "metadata": {},
   "outputs": [],
   "source": [
    "# Check if free option is available\n",
    "# 1 : Free , 0: not free\n",
    "data_costcat =edx['Cost'].apply(lambda x: 1 if x == 'Free' else 0)"
   ]
  },
  {
   "cell_type": "code",
   "execution_count": 86,
   "metadata": {},
   "outputs": [
    {
     "data": {
      "text/plain": [
       "22"
      ]
     },
     "execution_count": 86,
     "metadata": {},
     "output_type": "execute_result"
    }
   ],
   "source": [
    "list1=edx[edx['Cost']!='Free']\n",
    "len(list1)"
   ]
  },
  {
   "cell_type": "code",
   "execution_count": 87,
   "metadata": {},
   "outputs": [],
   "source": [
    "# Get Cost for paid option\n",
    "\n",
    "data_paid = edx['Alternative Options'].apply(lambda x: 0 if pd.isna(x) else x)"
   ]
  },
  {
   "cell_type": "code",
   "execution_count": null,
   "metadata": {},
   "outputs": [],
   "source": []
  },
  {
   "cell_type": "markdown",
   "metadata": {},
   "source": [
    "### Rating "
   ]
  },
  {
   "cell_type": "code",
   "execution_count": 88,
   "metadata": {},
   "outputs": [
    {
     "data": {
      "text/plain": [
       "689"
      ]
     },
     "execution_count": 88,
     "metadata": {},
     "output_type": "execute_result"
    }
   ],
   "source": [
    "edx['Number of Enrolled'].isna().sum()"
   ]
  },
  {
   "cell_type": "code",
   "execution_count": 89,
   "metadata": {},
   "outputs": [],
   "source": [
    "\n",
    "data_enroll = edx['Number of Enrolled'].apply(lambda x: '0' if pd.isna(x) else x)\n",
    "data_enroll = data_enroll.apply(lambda x: x.replace(',', ''))\n",
    "data_enroll = data_enroll.apply(lambda x: int(x))"
   ]
  },
  {
   "cell_type": "code",
   "execution_count": 90,
   "metadata": {},
   "outputs": [
    {
     "data": {
      "text/plain": [
       "0           0\n",
       "1           0\n",
       "2           0\n",
       "3       13695\n",
       "4       48488\n",
       "        ...  \n",
       "1184        0\n",
       "1185        0\n",
       "1186        0\n",
       "1187        0\n",
       "1188        0\n",
       "Name: Number of Enrolled, Length: 1183, dtype: int64"
      ]
     },
     "execution_count": 90,
     "metadata": {},
     "output_type": "execute_result"
    }
   ],
   "source": [
    "data_enroll"
   ]
  },
  {
   "cell_type": "code",
   "execution_count": 91,
   "metadata": {},
   "outputs": [
    {
     "data": {
      "text/plain": [
       "array([0., 0., 0., ..., 0., 0., 0.])"
      ]
     },
     "execution_count": 91,
     "metadata": {},
     "output_type": "execute_result"
    }
   ],
   "source": [
    "data_rating = np.zeros(data_enroll.shape[0])\n",
    "data_rating"
   ]
  },
  {
   "cell_type": "code",
   "execution_count": 92,
   "metadata": {},
   "outputs": [],
   "source": [
    "# Get course list of subtitle language available\n",
    "\n",
    "data_sublang = edx['Video Language'].apply(lambda x: 'English' if pd.isna(x) else x)"
   ]
  },
  {
   "cell_type": "code",
   "execution_count": 93,
   "metadata": {},
   "outputs": [],
   "source": [
    "# Add Platform name\n",
    "# 0 - Edx\n",
    "\n",
    "data_plat = np.zeros(edx.shape[0])"
   ]
  },
  {
   "cell_type": "code",
   "execution_count": 94,
   "metadata": {},
   "outputs": [],
   "source": [
    "# Course Provider\n",
    "data_prov=edx['Course Provider'].apply(lambda x: 'edX' if pd.isna(x) else x)\n"
   ]
  },
  {
   "cell_type": "code",
   "execution_count": 95,
   "metadata": {},
   "outputs": [],
   "source": [
    "# get courde img url\n",
    "edx['Course Img']='https://www.edx.org/images/logos/edx-logo-elm.svg'\n",
    "data_img = edx['Course Img']"
   ]
  },
  {
   "cell_type": "code",
   "execution_count": 96,
   "metadata": {},
   "outputs": [],
   "source": [
    "data_lang = edx['Language']\n"
   ]
  },
  {
   "cell_type": "markdown",
   "metadata": {},
   "source": [
    "## Combine data\n",
    " "
   ]
  },
  {
   "cell_type": "code",
   "execution_count": 97,
   "metadata": {},
   "outputs": [
    {
     "name": "stderr",
     "output_type": "stream",
     "text": [
      "C:\\Users\\nehab\\AppData\\Local\\Temp/ipykernel_1548/581799847.py:4: VisibleDeprecationWarning: Creating an ndarray from ragged nested sequences (which is a list-or-tuple of lists-or-tuples-or ndarrays with different lengths or shapes) is deprecated. If you meant to do this, you must specify 'dtype=object' when creating the ndarray.\n",
      "  data_comb = np.array([data_name, data_url, data_cat, data_sdesc, data_ldesc, data_difficulty, dur_hr, data_costcat, data_enroll, data_rating, data_paid, data_lang, data_sublang, data_plat, data_prov, data_img])\n"
     ]
    }
   ],
   "source": [
    "# Combine Data\n",
    "\n",
    "data_header = ['Course Name', 'URL', 'Categories', 'Short Description', 'Long Description', 'Difficulty', 'Duration', 'Free Option', 'Number of Enrolled', 'Rating', 'Paid Option', 'Language', 'Subtitle Language', 'Platform', 'Provider', 'Image URL']\n",
    "data_comb = np.array([data_name, data_url, data_cat, data_sdesc, data_ldesc, data_difficulty, dur_hr, data_costcat, data_enroll, data_rating, data_paid, data_lang, data_sublang, data_plat, data_prov, data_img])"
   ]
  },
  {
   "cell_type": "code",
   "execution_count": 98,
   "metadata": {},
   "outputs": [
    {
     "data": {
      "text/html": [
       "<div>\n",
       "<style scoped>\n",
       "    .dataframe tbody tr th:only-of-type {\n",
       "        vertical-align: middle;\n",
       "    }\n",
       "\n",
       "    .dataframe tbody tr th {\n",
       "        vertical-align: top;\n",
       "    }\n",
       "\n",
       "    .dataframe thead th {\n",
       "        text-align: right;\n",
       "    }\n",
       "</style>\n",
       "<table border=\"1\" class=\"dataframe\">\n",
       "  <thead>\n",
       "    <tr style=\"text-align: right;\">\n",
       "      <th></th>\n",
       "      <th>Course Name</th>\n",
       "      <th>URL</th>\n",
       "      <th>Categories</th>\n",
       "      <th>Short Description</th>\n",
       "      <th>Long Description</th>\n",
       "      <th>Difficulty</th>\n",
       "      <th>Duration</th>\n",
       "      <th>Free Option</th>\n",
       "      <th>Number of Enrolled</th>\n",
       "      <th>Rating</th>\n",
       "      <th>Paid Option</th>\n",
       "      <th>Language</th>\n",
       "      <th>Subtitle Language</th>\n",
       "      <th>Platform</th>\n",
       "      <th>Provider</th>\n",
       "      <th>Image URL</th>\n",
       "    </tr>\n",
       "  </thead>\n",
       "  <tbody>\n",
       "  </tbody>\n",
       "</table>\n",
       "</div>"
      ],
      "text/plain": [
       "Empty DataFrame\n",
       "Columns: [Course Name, URL, Categories, Short Description, Long Description, Difficulty, Duration, Free Option, Number of Enrolled, Rating, Paid Option, Language, Subtitle Language, Platform, Provider, Image URL]\n",
       "Index: []"
      ]
     },
     "execution_count": 98,
     "metadata": {},
     "output_type": "execute_result"
    }
   ],
   "source": [
    "df = pd.DataFrame(columns=data_header)\n",
    "df.head()"
   ]
  },
  {
   "cell_type": "code",
   "execution_count": 99,
   "metadata": {},
   "outputs": [],
   "source": [
    "\n",
    "df['Course Name']=data_name\n",
    "df['Categories']= data_cat\n",
    "df['URL']=data_url\n",
    "df['Provider']=data_prov\n",
    "df['Short Description']=data_sdesc\n",
    "df['Long Description']=data_ldesc\n",
    "df['Difficulty']= data_difficulty\n",
    "df['Duration']=dur_hr\n",
    "df['Rating']=data_rating\n",
    "df['Number of Enrolled']=data_enroll\n",
    "df['Platform']=data_plat\n",
    "df['Free Option']=data_costcat\n",
    "df['Paid Option']=data_paid\n",
    "df['Language']=data_lang\n",
    "df['Subtitle Language']=data_sublang\n",
    "df['Image URL']=data_img\n",
    "\n"
   ]
  },
  {
   "cell_type": "code",
   "execution_count": 100,
   "metadata": {},
   "outputs": [
    {
     "data": {
      "text/html": [
       "<div>\n",
       "<style scoped>\n",
       "    .dataframe tbody tr th:only-of-type {\n",
       "        vertical-align: middle;\n",
       "    }\n",
       "\n",
       "    .dataframe tbody tr th {\n",
       "        vertical-align: top;\n",
       "    }\n",
       "\n",
       "    .dataframe thead th {\n",
       "        text-align: right;\n",
       "    }\n",
       "</style>\n",
       "<table border=\"1\" class=\"dataframe\">\n",
       "  <thead>\n",
       "    <tr style=\"text-align: right;\">\n",
       "      <th></th>\n",
       "      <th>Course Name</th>\n",
       "      <th>URL</th>\n",
       "      <th>Categories</th>\n",
       "      <th>Short Description</th>\n",
       "      <th>Long Description</th>\n",
       "      <th>Difficulty</th>\n",
       "      <th>Duration</th>\n",
       "      <th>Free Option</th>\n",
       "      <th>Number of Enrolled</th>\n",
       "      <th>Rating</th>\n",
       "      <th>Paid Option</th>\n",
       "      <th>Language</th>\n",
       "      <th>Subtitle Language</th>\n",
       "      <th>Platform</th>\n",
       "      <th>Provider</th>\n",
       "      <th>Image URL</th>\n",
       "    </tr>\n",
       "  </thead>\n",
       "  <tbody>\n",
       "    <tr>\n",
       "      <th>0</th>\n",
       "      <td>4G Network Essentials</td>\n",
       "      <td>https://www.edx.org/course/4g-network-essentials</td>\n",
       "      <td>Engineering</td>\n",
       "      <td>Advance your telecom career by learning how 4G...</td>\n",
       "      <td>4G is the cutting-edge network technology that...</td>\n",
       "      <td>1</td>\n",
       "      <td>1</td>\n",
       "      <td>1</td>\n",
       "      <td>0</td>\n",
       "      <td>0.0</td>\n",
       "      <td>₹ 4,007</td>\n",
       "      <td>English</td>\n",
       "      <td>English</td>\n",
       "      <td>0.0</td>\n",
       "      <td>edX</td>\n",
       "      <td>https://www.edx.org/images/logos/edx-logo-elm.svg</td>\n",
       "    </tr>\n",
       "    <tr>\n",
       "      <th>1</th>\n",
       "      <td>5G Deployment</td>\n",
       "      <td>https://www.edx.org/course/5g-deployment</td>\n",
       "      <td>Computer Science, Engineering</td>\n",
       "      <td>Learn about 5G deployment, 5G Radio Access Net...</td>\n",
       "      <td>In this course, you will learn about 5G deploy...</td>\n",
       "      <td>0</td>\n",
       "      <td>1</td>\n",
       "      <td>1</td>\n",
       "      <td>0</td>\n",
       "      <td>0.0</td>\n",
       "      <td>₹ 16,273</td>\n",
       "      <td>English</td>\n",
       "      <td>English</td>\n",
       "      <td>0.0</td>\n",
       "      <td>edX</td>\n",
       "      <td>https://www.edx.org/images/logos/edx-logo-elm.svg</td>\n",
       "    </tr>\n",
       "    <tr>\n",
       "      <th>2</th>\n",
       "      <td>5G Essentials</td>\n",
       "      <td>https://www.edx.org/course/5g-essentials</td>\n",
       "      <td>Computer Science, Engineering</td>\n",
       "      <td>Learn about 5G Networking, 5G architecture, an...</td>\n",
       "      <td>In this course, you will learn and explore abo...</td>\n",
       "      <td>0</td>\n",
       "      <td>1</td>\n",
       "      <td>1</td>\n",
       "      <td>0</td>\n",
       "      <td>0.0</td>\n",
       "      <td>₹ 16,273</td>\n",
       "      <td>English</td>\n",
       "      <td>English</td>\n",
       "      <td>0.0</td>\n",
       "      <td>Curtin University</td>\n",
       "      <td>https://www.edx.org/images/logos/edx-logo-elm.svg</td>\n",
       "    </tr>\n",
       "    <tr>\n",
       "      <th>3</th>\n",
       "      <td>AI Applications with Watson</td>\n",
       "      <td>https://www.edx.org/course/AI-applications-wit...</td>\n",
       "      <td>Computer Science</td>\n",
       "      <td>Turbocharge your chatbot's IQ and AI capabilit...</td>\n",
       "      <td>Please Note: Learners who successfully complet...</td>\n",
       "      <td>1</td>\n",
       "      <td>0</td>\n",
       "      <td>1</td>\n",
       "      <td>13695</td>\n",
       "      <td>0.0</td>\n",
       "      <td>₹ 8,096</td>\n",
       "      <td>English</td>\n",
       "      <td>English</td>\n",
       "      <td>0.0</td>\n",
       "      <td>edX</td>\n",
       "      <td>https://www.edx.org/images/logos/edx-logo-elm.svg</td>\n",
       "    </tr>\n",
       "    <tr>\n",
       "      <th>4</th>\n",
       "      <td>AI Chatbots without Programming</td>\n",
       "      <td>https://www.edx.org/course/AI-chatbots-without...</td>\n",
       "      <td>Computer Science</td>\n",
       "      <td>Chatbots are increasingly in demand among glob...</td>\n",
       "      <td>Please Note: Learners who successfully complet...</td>\n",
       "      <td>0</td>\n",
       "      <td>0</td>\n",
       "      <td>1</td>\n",
       "      <td>48488</td>\n",
       "      <td>0.0</td>\n",
       "      <td>₹ 8,096</td>\n",
       "      <td>English</td>\n",
       "      <td>English</td>\n",
       "      <td>0.0</td>\n",
       "      <td>edX</td>\n",
       "      <td>https://www.edx.org/images/logos/edx-logo-elm.svg</td>\n",
       "    </tr>\n",
       "  </tbody>\n",
       "</table>\n",
       "</div>"
      ],
      "text/plain": [
       "                       Course Name  \\\n",
       "0            4G Network Essentials   \n",
       "1                    5G Deployment   \n",
       "2                    5G Essentials   \n",
       "3      AI Applications with Watson   \n",
       "4  AI Chatbots without Programming   \n",
       "\n",
       "                                                 URL  \\\n",
       "0   https://www.edx.org/course/4g-network-essentials   \n",
       "1           https://www.edx.org/course/5g-deployment   \n",
       "2           https://www.edx.org/course/5g-essentials   \n",
       "3  https://www.edx.org/course/AI-applications-wit...   \n",
       "4  https://www.edx.org/course/AI-chatbots-without...   \n",
       "\n",
       "                      Categories  \\\n",
       "0                    Engineering   \n",
       "1  Computer Science, Engineering   \n",
       "2  Computer Science, Engineering   \n",
       "3               Computer Science   \n",
       "4               Computer Science   \n",
       "\n",
       "                                   Short Description  \\\n",
       "0  Advance your telecom career by learning how 4G...   \n",
       "1  Learn about 5G deployment, 5G Radio Access Net...   \n",
       "2  Learn about 5G Networking, 5G architecture, an...   \n",
       "3  Turbocharge your chatbot's IQ and AI capabilit...   \n",
       "4  Chatbots are increasingly in demand among glob...   \n",
       "\n",
       "                                    Long Description  Difficulty  Duration  \\\n",
       "0  4G is the cutting-edge network technology that...           1         1   \n",
       "1  In this course, you will learn about 5G deploy...           0         1   \n",
       "2  In this course, you will learn and explore abo...           0         1   \n",
       "3  Please Note: Learners who successfully complet...           1         0   \n",
       "4  Please Note: Learners who successfully complet...           0         0   \n",
       "\n",
       "   Free Option  Number of Enrolled  Rating Paid Option Language  \\\n",
       "0            1                   0     0.0     ₹ 4,007  English   \n",
       "1            1                   0     0.0    ₹ 16,273  English   \n",
       "2            1                   0     0.0    ₹ 16,273  English   \n",
       "3            1               13695     0.0     ₹ 8,096  English   \n",
       "4            1               48488     0.0     ₹ 8,096  English   \n",
       "\n",
       "  Subtitle Language  Platform           Provider  \\\n",
       "0           English       0.0                edX   \n",
       "1           English       0.0                edX   \n",
       "2           English       0.0  Curtin University   \n",
       "3           English       0.0                edX   \n",
       "4           English       0.0                edX   \n",
       "\n",
       "                                           Image URL  \n",
       "0  https://www.edx.org/images/logos/edx-logo-elm.svg  \n",
       "1  https://www.edx.org/images/logos/edx-logo-elm.svg  \n",
       "2  https://www.edx.org/images/logos/edx-logo-elm.svg  \n",
       "3  https://www.edx.org/images/logos/edx-logo-elm.svg  \n",
       "4  https://www.edx.org/images/logos/edx-logo-elm.svg  "
      ]
     },
     "execution_count": 100,
     "metadata": {},
     "output_type": "execute_result"
    }
   ],
   "source": [
    "df.head()"
   ]
  },
  {
   "cell_type": "code",
   "execution_count": 101,
   "metadata": {},
   "outputs": [
    {
     "data": {
      "text/plain": [
       "1183"
      ]
     },
     "execution_count": 101,
     "metadata": {},
     "output_type": "execute_result"
    }
   ],
   "source": [
    "len(df['Course Name'].unique())"
   ]
  },
  {
   "cell_type": "code",
   "execution_count": 102,
   "metadata": {},
   "outputs": [],
   "source": [
    "df = df.drop_duplicates(subset=['Course Name'])"
   ]
  },
  {
   "cell_type": "code",
   "execution_count": 103,
   "metadata": {},
   "outputs": [
    {
     "name": "stdout",
     "output_type": "stream",
     "text": [
      "<class 'pandas.core.frame.DataFrame'>\n",
      "Int64Index: 1183 entries, 0 to 1188\n",
      "Data columns (total 16 columns):\n",
      " #   Column              Non-Null Count  Dtype  \n",
      "---  ------              --------------  -----  \n",
      " 0   Course Name         1183 non-null   object \n",
      " 1   URL                 1183 non-null   object \n",
      " 2   Categories          1183 non-null   object \n",
      " 3   Short Description   1183 non-null   object \n",
      " 4   Long Description    1183 non-null   object \n",
      " 5   Difficulty          1183 non-null   int64  \n",
      " 6   Duration            1183 non-null   int64  \n",
      " 7   Free Option         1183 non-null   int64  \n",
      " 8   Number of Enrolled  1183 non-null   int64  \n",
      " 9   Rating              1183 non-null   float64\n",
      " 10  Paid Option         1183 non-null   object \n",
      " 11  Language            1183 non-null   object \n",
      " 12  Subtitle Language   1183 non-null   object \n",
      " 13  Platform            1183 non-null   float64\n",
      " 14  Provider            1183 non-null   object \n",
      " 15  Image URL           1183 non-null   object \n",
      "dtypes: float64(2), int64(4), object(10)\n",
      "memory usage: 157.1+ KB\n"
     ]
    }
   ],
   "source": [
    "df.info()"
   ]
  },
  {
   "cell_type": "code",
   "execution_count": 104,
   "metadata": {},
   "outputs": [
    {
     "data": {
      "text/plain": [
       "Course Name           0\n",
       "URL                   0\n",
       "Categories            0\n",
       "Short Description     0\n",
       "Long Description      0\n",
       "Difficulty            0\n",
       "Duration              0\n",
       "Free Option           0\n",
       "Number of Enrolled    0\n",
       "Rating                0\n",
       "Paid Option           0\n",
       "Language              0\n",
       "Subtitle Language     0\n",
       "Platform              0\n",
       "Provider              0\n",
       "Image URL             0\n",
       "dtype: int64"
      ]
     },
     "execution_count": 104,
     "metadata": {},
     "output_type": "execute_result"
    }
   ],
   "source": [
    "(df.isna()).sum()"
   ]
  },
  {
   "cell_type": "code",
   "execution_count": 105,
   "metadata": {},
   "outputs": [],
   "source": [
    "filename = 'Edx_Data_preprocess_done.csv'\n",
    "df.to_csv(filename, index=False, encoding='utf_8_sig')"
   ]
  }
 ],
 "metadata": {
  "kernelspec": {
   "display_name": "Python 3 (ipykernel)",
   "language": "python",
   "name": "python3"
  },
  "language_info": {
   "codemirror_mode": {
    "name": "ipython",
    "version": 3
   },
   "file_extension": ".py",
   "mimetype": "text/x-python",
   "name": "python",
   "nbconvert_exporter": "python",
   "pygments_lexer": "ipython3",
   "version": "3.9.7"
  }
 },
 "nbformat": 4,
 "nbformat_minor": 2
}
