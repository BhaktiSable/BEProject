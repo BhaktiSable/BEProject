{
 "cells": [
  {
   "cell_type": "code",
   "execution_count": 118,
   "metadata": {},
   "outputs": [],
   "source": [
    "\n",
    "import re\n",
    "import pandas as pd\n",
    "import numpy as np"
   ]
  },
  {
   "cell_type": "code",
   "execution_count": 119,
   "metadata": {},
   "outputs": [],
   "source": [
    "df=pd.read_csv(r'C:\\Users\\nehab\\Desktop\\Python\\final datasets\\LinkedIn_data____1.csv')"
   ]
  },
  {
   "cell_type": "code",
   "execution_count": 120,
   "metadata": {},
   "outputs": [
    {
     "data": {
      "text/html": [
       "<div>\n",
       "<style scoped>\n",
       "    .dataframe tbody tr th:only-of-type {\n",
       "        vertical-align: middle;\n",
       "    }\n",
       "\n",
       "    .dataframe tbody tr th {\n",
       "        vertical-align: top;\n",
       "    }\n",
       "\n",
       "    .dataframe thead th {\n",
       "        text-align: right;\n",
       "    }\n",
       "</style>\n",
       "<table border=\"1\" class=\"dataframe\">\n",
       "  <thead>\n",
       "    <tr style=\"text-align: right;\">\n",
       "      <th></th>\n",
       "      <th>urlc</th>\n",
       "      <th>img url</th>\n",
       "      <th>URL</th>\n",
       "      <th>Title</th>\n",
       "      <th>Ratings</th>\n",
       "      <th>Description</th>\n",
       "      <th>Duration</th>\n",
       "      <th>Time</th>\n",
       "      <th>Price</th>\n",
       "      <th>FinalUrl</th>\n",
       "      <th>newRatings</th>\n",
       "      <th>Level</th>\n",
       "      <th>Numenroll</th>\n",
       "      <th>RRRR</th>\n",
       "      <th>skill learn</th>\n",
       "    </tr>\n",
       "  </thead>\n",
       "  <tbody>\n",
       "    <tr>\n",
       "      <th>0</th>\n",
       "      <td>https://www.classcentral.com/course/linkedin-l...</td>\n",
       "      <td>https://d3f1iyfxxz8i1e.cloudfront.net/courses/...</td>\n",
       "      <td>https://www.classcentral.com/course/linkedin-l...</td>\n",
       "      <td>CompTIA Network+ (N10-007) Cert Prep: 1 Unders...</td>\n",
       "      <td>2601 ratings at LinkedIn Learning</td>\n",
       "      <td>Earn your CompTIA Network+ certification. Part...</td>\n",
       "      <td>Less than 1 hour of material</td>\n",
       "      <td>On-Demand</td>\n",
       "      <td>Free Trial Available</td>\n",
       "      <td>https://www.linkedin.com/learning/comptia-netw...</td>\n",
       "      <td>4.7</td>\n",
       "      <td>Intermediate</td>\n",
       "      <td>1,344 users</td>\n",
       "      <td>4.8</td>\n",
       "      <td>Network Administration,</td>\n",
       "    </tr>\n",
       "    <tr>\n",
       "      <th>1</th>\n",
       "      <td>https://www.classcentral.com/course/linkedin-l...</td>\n",
       "      <td>https://d3f1iyfxxz8i1e.cloudfront.net/courses/...</td>\n",
       "      <td>https://www.classcentral.com/course/linkedin-l...</td>\n",
       "      <td>CSS Essential Training</td>\n",
       "      <td>3699 ratings at LinkedIn Learning</td>\n",
       "      <td>Explore the concepts that form the foundation ...</td>\n",
       "      <td>4-5 hours worth of material</td>\n",
       "      <td>On-Demand</td>\n",
       "      <td>Free Trial Available</td>\n",
       "      <td>https://www.linkedin.com/learning/css-essentia...</td>\n",
       "      <td>4.7</td>\n",
       "      <td>Beginner</td>\n",
       "      <td>12,190 users</td>\n",
       "      <td>4.7</td>\n",
       "      <td>Cascading Style Sheets (CSS),</td>\n",
       "    </tr>\n",
       "    <tr>\n",
       "      <th>2</th>\n",
       "      <td>https://www.classcentral.com/course/linkedin-l...</td>\n",
       "      <td>https://d3f1iyfxxz8i1e.cloudfront.net/courses/...</td>\n",
       "      <td>https://www.classcentral.com/course/linkedin-l...</td>\n",
       "      <td>Succeeding in Web Development: Full Stack and ...</td>\n",
       "      <td>3767 ratings at LinkedIn Learning</td>\n",
       "      <td>Do you want to become a web developer? Learn a...</td>\n",
       "      <td>1-2 hours worth of material</td>\n",
       "      <td>On-Demand</td>\n",
       "      <td>Free Trial Available</td>\n",
       "      <td>https://www.linkedin.com/learning/succeeding-i...</td>\n",
       "      <td>4.7</td>\n",
       "      <td>Beginner</td>\n",
       "      <td>11,456 users</td>\n",
       "      <td>4.7</td>\n",
       "      <td>Front-End Development,Full-Stack Development,</td>\n",
       "    </tr>\n",
       "    <tr>\n",
       "      <th>3</th>\n",
       "      <td>https://www.classcentral.com/course/linkedin-l...</td>\n",
       "      <td>https://d3f1iyfxxz8i1e.cloudfront.net/courses/...</td>\n",
       "      <td>https://www.classcentral.com/course/linkedin-l...</td>\n",
       "      <td>JavaScript Essential Training</td>\n",
       "      <td>1 review</td>\n",
       "      <td>Get hands-on experience scripting in JavaScrip...</td>\n",
       "      <td>5 hours worth of material</td>\n",
       "      <td>On-Demand</td>\n",
       "      <td>Free Trial Available</td>\n",
       "      <td>https://www.linkedin.com/learning/javascript-e...</td>\n",
       "      <td>5.0</td>\n",
       "      <td>Beginner</td>\n",
       "      <td>14,737 users</td>\n",
       "      <td>4.8</td>\n",
       "      <td>JavaScript,</td>\n",
       "    </tr>\n",
       "    <tr>\n",
       "      <th>4</th>\n",
       "      <td>https://www.classcentral.com/course/linkedin-l...</td>\n",
       "      <td>https://d3f1iyfxxz8i1e.cloudfront.net/courses/...</td>\n",
       "      <td>https://www.classcentral.com/course/linkedin-l...</td>\n",
       "      <td>WordPress: Workflows</td>\n",
       "      <td>174 ratings at LinkedIn Learning</td>\n",
       "      <td>Be a more efficient WordPress developer. Disco...</td>\n",
       "      <td>1-2 hours worth of material</td>\n",
       "      <td>On-Demand</td>\n",
       "      <td>Free Trial Available</td>\n",
       "      <td>https://www.linkedin.com/learning/wordpress-wo...</td>\n",
       "      <td>4.5</td>\n",
       "      <td>Advanced</td>\n",
       "      <td>477 users</td>\n",
       "      <td>4.5</td>\n",
       "      <td>WordPress,</td>\n",
       "    </tr>\n",
       "  </tbody>\n",
       "</table>\n",
       "</div>"
      ],
      "text/plain": [
       "                                                urlc  \\\n",
       "0  https://www.classcentral.com/course/linkedin-l...   \n",
       "1  https://www.classcentral.com/course/linkedin-l...   \n",
       "2  https://www.classcentral.com/course/linkedin-l...   \n",
       "3  https://www.classcentral.com/course/linkedin-l...   \n",
       "4  https://www.classcentral.com/course/linkedin-l...   \n",
       "\n",
       "                                             img url  \\\n",
       "0  https://d3f1iyfxxz8i1e.cloudfront.net/courses/...   \n",
       "1  https://d3f1iyfxxz8i1e.cloudfront.net/courses/...   \n",
       "2  https://d3f1iyfxxz8i1e.cloudfront.net/courses/...   \n",
       "3  https://d3f1iyfxxz8i1e.cloudfront.net/courses/...   \n",
       "4  https://d3f1iyfxxz8i1e.cloudfront.net/courses/...   \n",
       "\n",
       "                                                 URL  \\\n",
       "0  https://www.classcentral.com/course/linkedin-l...   \n",
       "1  https://www.classcentral.com/course/linkedin-l...   \n",
       "2  https://www.classcentral.com/course/linkedin-l...   \n",
       "3  https://www.classcentral.com/course/linkedin-l...   \n",
       "4  https://www.classcentral.com/course/linkedin-l...   \n",
       "\n",
       "                                               Title  \\\n",
       "0  CompTIA Network+ (N10-007) Cert Prep: 1 Unders...   \n",
       "1                             CSS Essential Training   \n",
       "2  Succeeding in Web Development: Full Stack and ...   \n",
       "3                      JavaScript Essential Training   \n",
       "4                               WordPress: Workflows   \n",
       "\n",
       "                             Ratings  \\\n",
       "0  2601 ratings at LinkedIn Learning   \n",
       "1  3699 ratings at LinkedIn Learning   \n",
       "2  3767 ratings at LinkedIn Learning   \n",
       "3                           1 review   \n",
       "4   174 ratings at LinkedIn Learning   \n",
       "\n",
       "                                         Description  \\\n",
       "0  Earn your CompTIA Network+ certification. Part...   \n",
       "1  Explore the concepts that form the foundation ...   \n",
       "2  Do you want to become a web developer? Learn a...   \n",
       "3  Get hands-on experience scripting in JavaScrip...   \n",
       "4  Be a more efficient WordPress developer. Disco...   \n",
       "\n",
       "                       Duration       Time                 Price  \\\n",
       "0  Less than 1 hour of material  On-Demand  Free Trial Available   \n",
       "1   4-5 hours worth of material  On-Demand  Free Trial Available   \n",
       "2   1-2 hours worth of material  On-Demand  Free Trial Available   \n",
       "3     5 hours worth of material  On-Demand  Free Trial Available   \n",
       "4   1-2 hours worth of material  On-Demand  Free Trial Available   \n",
       "\n",
       "                                            FinalUrl  newRatings  \\\n",
       "0  https://www.linkedin.com/learning/comptia-netw...         4.7   \n",
       "1  https://www.linkedin.com/learning/css-essentia...         4.7   \n",
       "2  https://www.linkedin.com/learning/succeeding-i...         4.7   \n",
       "3  https://www.linkedin.com/learning/javascript-e...         5.0   \n",
       "4  https://www.linkedin.com/learning/wordpress-wo...         4.5   \n",
       "\n",
       "          Level     Numenroll  RRRR  \\\n",
       "0  Intermediate   1,344 users   4.8   \n",
       "1      Beginner  12,190 users   4.7   \n",
       "2      Beginner  11,456 users   4.7   \n",
       "3      Beginner  14,737 users   4.8   \n",
       "4      Advanced     477 users   4.5   \n",
       "\n",
       "                                     skill learn  \n",
       "0                        Network Administration,  \n",
       "1                  Cascading Style Sheets (CSS),  \n",
       "2  Front-End Development,Full-Stack Development,  \n",
       "3                                    JavaScript,  \n",
       "4                                     WordPress,  "
      ]
     },
     "execution_count": 120,
     "metadata": {},
     "output_type": "execute_result"
    }
   ],
   "source": [
    "df.head()"
   ]
  },
  {
   "cell_type": "code",
   "execution_count": 121,
   "metadata": {},
   "outputs": [
    {
     "name": "stdout",
     "output_type": "stream",
     "text": [
      "<class 'pandas.core.frame.DataFrame'>\n",
      "RangeIndex: 1575 entries, 0 to 1574\n",
      "Data columns (total 15 columns):\n",
      " #   Column       Non-Null Count  Dtype  \n",
      "---  ------       --------------  -----  \n",
      " 0   urlc         1524 non-null   object \n",
      " 1   img url      1524 non-null   object \n",
      " 2   URL          1575 non-null   object \n",
      " 3   Title        1575 non-null   object \n",
      " 4   Ratings      769 non-null    object \n",
      " 5   Description  1575 non-null   object \n",
      " 6   Duration     1575 non-null   object \n",
      " 7   Time         1575 non-null   object \n",
      " 8   Price        1574 non-null   object \n",
      " 9   FinalUrl     1575 non-null   object \n",
      " 10  newRatings   457 non-null    float64\n",
      " 11  Level        1570 non-null   object \n",
      " 12  Numenroll    1568 non-null   object \n",
      " 13  RRRR         1227 non-null   float64\n",
      " 14  skill learn  1568 non-null   object \n",
      "dtypes: float64(2), object(13)\n",
      "memory usage: 184.7+ KB\n"
     ]
    }
   ],
   "source": [
    "df.info()"
   ]
  },
  {
   "cell_type": "code",
   "execution_count": null,
   "metadata": {},
   "outputs": [],
   "source": []
  },
  {
   "cell_type": "code",
   "execution_count": 122,
   "metadata": {},
   "outputs": [
    {
     "data": {
      "text/plain": [
       "Index(['urlc', 'img url', 'URL', 'Title', 'Ratings', 'Description', 'Duration',\n",
       "       'Time', 'Price', 'FinalUrl', 'newRatings', 'Level', 'Numenroll', 'RRRR',\n",
       "       'skill learn'],\n",
       "      dtype='object')"
      ]
     },
     "execution_count": 122,
     "metadata": {},
     "output_type": "execute_result"
    }
   ],
   "source": [
    "df.columns"
   ]
  },
  {
   "cell_type": "code",
   "execution_count": 123,
   "metadata": {},
   "outputs": [
    {
     "data": {
      "text/plain": [
       "1575"
      ]
     },
     "execution_count": 123,
     "metadata": {},
     "output_type": "execute_result"
    }
   ],
   "source": [
    "len(df.FinalUrl.unique())"
   ]
  },
  {
   "cell_type": "markdown",
   "metadata": {},
   "source": [
    "### drop duplicates"
   ]
  },
  {
   "cell_type": "code",
   "execution_count": 124,
   "metadata": {},
   "outputs": [],
   "source": [
    "df.drop_duplicates(subset=\"FinalUrl\",\n",
    "                     keep=False, inplace=True)"
   ]
  },
  {
   "cell_type": "code",
   "execution_count": 125,
   "metadata": {},
   "outputs": [
    {
     "data": {
      "text/plain": [
       "(1574, 15)"
      ]
     },
     "execution_count": 125,
     "metadata": {},
     "output_type": "execute_result"
    }
   ],
   "source": [
    "df=df[df['Duration']!='Free Trial Available']\n",
    "df.shape"
   ]
  },
  {
   "cell_type": "code",
   "execution_count": 126,
   "metadata": {},
   "outputs": [
    {
     "data": {
      "text/plain": [
       "(1574, 15)"
      ]
     },
     "execution_count": 126,
     "metadata": {},
     "output_type": "execute_result"
    }
   ],
   "source": [
    "df.shape"
   ]
  },
  {
   "cell_type": "code",
   "execution_count": 127,
   "metadata": {},
   "outputs": [
    {
     "data": {
      "text/html": [
       "<div>\n",
       "<style scoped>\n",
       "    .dataframe tbody tr th:only-of-type {\n",
       "        vertical-align: middle;\n",
       "    }\n",
       "\n",
       "    .dataframe tbody tr th {\n",
       "        vertical-align: top;\n",
       "    }\n",
       "\n",
       "    .dataframe thead th {\n",
       "        text-align: right;\n",
       "    }\n",
       "</style>\n",
       "<table border=\"1\" class=\"dataframe\">\n",
       "  <thead>\n",
       "    <tr style=\"text-align: right;\">\n",
       "      <th></th>\n",
       "      <th>newRatings</th>\n",
       "      <th>RRRR</th>\n",
       "    </tr>\n",
       "  </thead>\n",
       "  <tbody>\n",
       "    <tr>\n",
       "      <th>count</th>\n",
       "      <td>456.000000</td>\n",
       "      <td>1227.000000</td>\n",
       "    </tr>\n",
       "    <tr>\n",
       "      <th>mean</th>\n",
       "      <td>4.653070</td>\n",
       "      <td>4.663896</td>\n",
       "    </tr>\n",
       "    <tr>\n",
       "      <th>std</th>\n",
       "      <td>0.163046</td>\n",
       "      <td>0.133563</td>\n",
       "    </tr>\n",
       "    <tr>\n",
       "      <th>min</th>\n",
       "      <td>3.000000</td>\n",
       "      <td>3.100000</td>\n",
       "    </tr>\n",
       "    <tr>\n",
       "      <th>25%</th>\n",
       "      <td>4.600000</td>\n",
       "      <td>4.600000</td>\n",
       "    </tr>\n",
       "    <tr>\n",
       "      <th>50%</th>\n",
       "      <td>4.700000</td>\n",
       "      <td>4.700000</td>\n",
       "    </tr>\n",
       "    <tr>\n",
       "      <th>75%</th>\n",
       "      <td>4.700000</td>\n",
       "      <td>4.700000</td>\n",
       "    </tr>\n",
       "    <tr>\n",
       "      <th>max</th>\n",
       "      <td>5.000000</td>\n",
       "      <td>5.000000</td>\n",
       "    </tr>\n",
       "  </tbody>\n",
       "</table>\n",
       "</div>"
      ],
      "text/plain": [
       "       newRatings         RRRR\n",
       "count  456.000000  1227.000000\n",
       "mean     4.653070     4.663896\n",
       "std      0.163046     0.133563\n",
       "min      3.000000     3.100000\n",
       "25%      4.600000     4.600000\n",
       "50%      4.700000     4.700000\n",
       "75%      4.700000     4.700000\n",
       "max      5.000000     5.000000"
      ]
     },
     "execution_count": 127,
     "metadata": {},
     "output_type": "execute_result"
    }
   ],
   "source": [
    "df.describe()"
   ]
  },
  {
   "cell_type": "markdown",
   "metadata": {},
   "source": [
    "### Get url , name\n"
   ]
  },
  {
   "cell_type": "code",
   "execution_count": 128,
   "metadata": {},
   "outputs": [],
   "source": [
    "data_name=df['Title']\n",
    "data_url=df['FinalUrl']"
   ]
  },
  {
   "cell_type": "markdown",
   "metadata": {},
   "source": [
    "### get description"
   ]
  },
  {
   "cell_type": "code",
   "execution_count": 129,
   "metadata": {},
   "outputs": [],
   "source": [
    "sdesc=df['Description'].apply(lambda x: '' if pd.isna(x) else (x))"
   ]
  },
  {
   "cell_type": "code",
   "execution_count": 130,
   "metadata": {},
   "outputs": [],
   "source": [
    "ldesc=df['Description'].apply(lambda x: '' if pd.isna(x) else (x))"
   ]
  },
  {
   "cell_type": "markdown",
   "metadata": {},
   "source": [
    "### Preprocess duration "
   ]
  },
  {
   "cell_type": "code",
   "execution_count": 131,
   "metadata": {},
   "outputs": [
    {
     "data": {
      "text/plain": [
       "0"
      ]
     },
     "execution_count": 131,
     "metadata": {},
     "output_type": "execute_result"
    }
   ],
   "source": [
    "df.Duration.isna().sum()"
   ]
  },
  {
   "cell_type": "code",
   "execution_count": 132,
   "metadata": {},
   "outputs": [],
   "source": [
    "# Convert course duration in hours to categorical\n",
    "\n",
    "def conv_dur(dur):\n",
    "  if pd.isna(dur):\n",
    "    cat_dur = np.nan\n",
    "  elif (dur > 0) and (dur <= 10):\n",
    "    cat_dur = 0\n",
    "  elif (dur > 10) and (dur <= 50):\n",
    "    cat_dur = 1\n",
    "  else:\n",
    "    cat_dur = 2\n",
    "  return cat_dur"
   ]
  },
  {
   "cell_type": "code",
   "execution_count": 133,
   "metadata": {},
   "outputs": [
    {
     "data": {
      "text/plain": [
       "array(['Less than 1 hour of material', '4-5 hours worth of material',\n",
       "       '1-2 hours worth of material', '5 hours worth of material',\n",
       "       '2-3 hours worth of material', '6 hours worth of material',\n",
       "       '3-4 hours worth of material', '7 hours worth of material',\n",
       "       '8 hours worth of material', '9 hours worth of material',\n",
       "       '18 hours worth of material', '10 hours worth of material',\n",
       "       '3 hours worth of material', '15 hours worth of material',\n",
       "       '38 hours worth of material', '41 hours worth of material',\n",
       "       '30 hours worth of material'], dtype=object)"
      ]
     },
     "execution_count": 133,
     "metadata": {},
     "output_type": "execute_result"
    }
   ],
   "source": [
    "df.Duration.unique()"
   ]
  },
  {
   "cell_type": "code",
   "execution_count": 134,
   "metadata": {},
   "outputs": [
    {
     "data": {
      "text/plain": [
       "(1574, 15)"
      ]
     },
     "execution_count": 134,
     "metadata": {},
     "output_type": "execute_result"
    }
   ],
   "source": [
    "df=df[df['Duration']!='Free Trial Available']\n",
    "df.shape"
   ]
  },
  {
   "cell_type": "code",
   "execution_count": 135,
   "metadata": {},
   "outputs": [],
   "source": [
    "\n",
    "def extract_dur(strDur):\n",
    "    strDur=strDur.lower()\n",
    "    x=0\n",
    "    if ('-' not in strDur):\n",
    "        x = int(re.sub(\"\\D\", \"\", strDur))\n",
    "        return x\n",
    "    \n",
    "    strDur=strDur.split()\n",
    "    \n",
    "    if '-' in strDur[0]:\n",
    "        dur=(strDur[0].split('-'))\n",
    "        a=int(dur[0])\n",
    "        b=int(dur[1])\n",
    "        avghr=(a+b)/2\n",
    "        x=avghr\n",
    "        \n",
    "    return x\n",
    "\n"
   ]
  },
  {
   "cell_type": "code",
   "execution_count": 136,
   "metadata": {},
   "outputs": [],
   "source": [
    "df['Duration']=df.Duration.apply(lambda x : extract_dur(x))"
   ]
  },
  {
   "cell_type": "code",
   "execution_count": 137,
   "metadata": {},
   "outputs": [
    {
     "data": {
      "text/plain": [
       "0        1.0\n",
       "1        4.5\n",
       "2        1.5\n",
       "3        5.0\n",
       "4        1.5\n",
       "        ... \n",
       "1570     2.5\n",
       "1571    41.0\n",
       "1572     5.0\n",
       "1573    30.0\n",
       "1574     1.5\n",
       "Name: Duration, Length: 1574, dtype: float64"
      ]
     },
     "execution_count": 137,
     "metadata": {},
     "output_type": "execute_result"
    }
   ],
   "source": [
    "df.Duration"
   ]
  },
  {
   "cell_type": "code",
   "execution_count": 138,
   "metadata": {},
   "outputs": [],
   "source": [
    "data_dur=df['Duration'].apply(lambda x: conv_dur(x))"
   ]
  },
  {
   "cell_type": "markdown",
   "metadata": {},
   "source": [
    "### get cost"
   ]
  },
  {
   "cell_type": "code",
   "execution_count": 139,
   "metadata": {},
   "outputs": [
    {
     "data": {
      "text/plain": [
       "0"
      ]
     },
     "execution_count": 139,
     "metadata": {},
     "output_type": "execute_result"
    }
   ],
   "source": [
    "df.Price.isna().sum()"
   ]
  },
  {
   "cell_type": "code",
   "execution_count": 140,
   "metadata": {},
   "outputs": [
    {
     "data": {
      "text/plain": [
       "array(['Free Trial Available'], dtype=object)"
      ]
     },
     "execution_count": 140,
     "metadata": {},
     "output_type": "execute_result"
    }
   ],
   "source": [
    "df.Price.unique()"
   ]
  },
  {
   "cell_type": "code",
   "execution_count": 141,
   "metadata": {},
   "outputs": [
    {
     "data": {
      "text/plain": [
       "0       0\n",
       "1       0\n",
       "2       0\n",
       "3       0\n",
       "4       0\n",
       "       ..\n",
       "1570    0\n",
       "1571    0\n",
       "1572    0\n",
       "1573    0\n",
       "1574    0\n",
       "Name: Price, Length: 1574, dtype: int64"
      ]
     },
     "execution_count": 141,
     "metadata": {},
     "output_type": "execute_result"
    }
   ],
   "source": [
    "data_cost = df['Price'].apply(lambda x : 0 )\n",
    "data_cost"
   ]
  },
  {
   "cell_type": "code",
   "execution_count": 142,
   "metadata": {},
   "outputs": [],
   "source": [
    "data_alt_cost=df['Price'].apply(lambda x : 'Subscription Required' )"
   ]
  },
  {
   "cell_type": "markdown",
   "metadata": {},
   "source": [
    "### get img url"
   ]
  },
  {
   "cell_type": "code",
   "execution_count": 143,
   "metadata": {},
   "outputs": [
    {
     "data": {
      "text/plain": [
       "51"
      ]
     },
     "execution_count": 143,
     "metadata": {},
     "output_type": "execute_result"
    }
   ],
   "source": [
    "df['img url'].isna().sum()"
   ]
  },
  {
   "cell_type": "code",
   "execution_count": 144,
   "metadata": {},
   "outputs": [],
   "source": [
    "imgurl='https://content.linkedin.com/content/dam/me/business/en-us/amp/brand-site/v2/bg/LI-Logo.svg.original.svg'"
   ]
  },
  {
   "cell_type": "code",
   "execution_count": 145,
   "metadata": {},
   "outputs": [],
   "source": [
    "df['img url']=df['img url'].apply(lambda x: imgurl if pd.isna(x) else x)"
   ]
  },
  {
   "cell_type": "code",
   "execution_count": 146,
   "metadata": {},
   "outputs": [],
   "source": [
    "data_img=df['img url']"
   ]
  },
  {
   "cell_type": "code",
   "execution_count": 147,
   "metadata": {},
   "outputs": [
    {
     "data": {
      "text/html": [
       "<div>\n",
       "<style scoped>\n",
       "    .dataframe tbody tr th:only-of-type {\n",
       "        vertical-align: middle;\n",
       "    }\n",
       "\n",
       "    .dataframe tbody tr th {\n",
       "        vertical-align: top;\n",
       "    }\n",
       "\n",
       "    .dataframe thead th {\n",
       "        text-align: right;\n",
       "    }\n",
       "</style>\n",
       "<table border=\"1\" class=\"dataframe\">\n",
       "  <thead>\n",
       "    <tr style=\"text-align: right;\">\n",
       "      <th></th>\n",
       "      <th>urlc</th>\n",
       "      <th>img url</th>\n",
       "      <th>URL</th>\n",
       "      <th>Title</th>\n",
       "      <th>Ratings</th>\n",
       "      <th>Description</th>\n",
       "      <th>Duration</th>\n",
       "      <th>Time</th>\n",
       "      <th>Price</th>\n",
       "      <th>FinalUrl</th>\n",
       "      <th>newRatings</th>\n",
       "      <th>Level</th>\n",
       "      <th>Numenroll</th>\n",
       "      <th>RRRR</th>\n",
       "      <th>skill learn</th>\n",
       "    </tr>\n",
       "  </thead>\n",
       "  <tbody>\n",
       "    <tr>\n",
       "      <th>0</th>\n",
       "      <td>https://www.classcentral.com/course/linkedin-l...</td>\n",
       "      <td>https://d3f1iyfxxz8i1e.cloudfront.net/courses/...</td>\n",
       "      <td>https://www.classcentral.com/course/linkedin-l...</td>\n",
       "      <td>CompTIA Network+ (N10-007) Cert Prep: 1 Unders...</td>\n",
       "      <td>2601 ratings at LinkedIn Learning</td>\n",
       "      <td>Earn your CompTIA Network+ certification. Part...</td>\n",
       "      <td>1.0</td>\n",
       "      <td>On-Demand</td>\n",
       "      <td>Free Trial Available</td>\n",
       "      <td>https://www.linkedin.com/learning/comptia-netw...</td>\n",
       "      <td>4.7</td>\n",
       "      <td>Intermediate</td>\n",
       "      <td>1,344 users</td>\n",
       "      <td>4.8</td>\n",
       "      <td>Network Administration,</td>\n",
       "    </tr>\n",
       "    <tr>\n",
       "      <th>1</th>\n",
       "      <td>https://www.classcentral.com/course/linkedin-l...</td>\n",
       "      <td>https://d3f1iyfxxz8i1e.cloudfront.net/courses/...</td>\n",
       "      <td>https://www.classcentral.com/course/linkedin-l...</td>\n",
       "      <td>CSS Essential Training</td>\n",
       "      <td>3699 ratings at LinkedIn Learning</td>\n",
       "      <td>Explore the concepts that form the foundation ...</td>\n",
       "      <td>4.5</td>\n",
       "      <td>On-Demand</td>\n",
       "      <td>Free Trial Available</td>\n",
       "      <td>https://www.linkedin.com/learning/css-essentia...</td>\n",
       "      <td>4.7</td>\n",
       "      <td>Beginner</td>\n",
       "      <td>12,190 users</td>\n",
       "      <td>4.7</td>\n",
       "      <td>Cascading Style Sheets (CSS),</td>\n",
       "    </tr>\n",
       "    <tr>\n",
       "      <th>2</th>\n",
       "      <td>https://www.classcentral.com/course/linkedin-l...</td>\n",
       "      <td>https://d3f1iyfxxz8i1e.cloudfront.net/courses/...</td>\n",
       "      <td>https://www.classcentral.com/course/linkedin-l...</td>\n",
       "      <td>Succeeding in Web Development: Full Stack and ...</td>\n",
       "      <td>3767 ratings at LinkedIn Learning</td>\n",
       "      <td>Do you want to become a web developer? Learn a...</td>\n",
       "      <td>1.5</td>\n",
       "      <td>On-Demand</td>\n",
       "      <td>Free Trial Available</td>\n",
       "      <td>https://www.linkedin.com/learning/succeeding-i...</td>\n",
       "      <td>4.7</td>\n",
       "      <td>Beginner</td>\n",
       "      <td>11,456 users</td>\n",
       "      <td>4.7</td>\n",
       "      <td>Front-End Development,Full-Stack Development,</td>\n",
       "    </tr>\n",
       "    <tr>\n",
       "      <th>3</th>\n",
       "      <td>https://www.classcentral.com/course/linkedin-l...</td>\n",
       "      <td>https://d3f1iyfxxz8i1e.cloudfront.net/courses/...</td>\n",
       "      <td>https://www.classcentral.com/course/linkedin-l...</td>\n",
       "      <td>JavaScript Essential Training</td>\n",
       "      <td>1 review</td>\n",
       "      <td>Get hands-on experience scripting in JavaScrip...</td>\n",
       "      <td>5.0</td>\n",
       "      <td>On-Demand</td>\n",
       "      <td>Free Trial Available</td>\n",
       "      <td>https://www.linkedin.com/learning/javascript-e...</td>\n",
       "      <td>5.0</td>\n",
       "      <td>Beginner</td>\n",
       "      <td>14,737 users</td>\n",
       "      <td>4.8</td>\n",
       "      <td>JavaScript,</td>\n",
       "    </tr>\n",
       "    <tr>\n",
       "      <th>4</th>\n",
       "      <td>https://www.classcentral.com/course/linkedin-l...</td>\n",
       "      <td>https://d3f1iyfxxz8i1e.cloudfront.net/courses/...</td>\n",
       "      <td>https://www.classcentral.com/course/linkedin-l...</td>\n",
       "      <td>WordPress: Workflows</td>\n",
       "      <td>174 ratings at LinkedIn Learning</td>\n",
       "      <td>Be a more efficient WordPress developer. Disco...</td>\n",
       "      <td>1.5</td>\n",
       "      <td>On-Demand</td>\n",
       "      <td>Free Trial Available</td>\n",
       "      <td>https://www.linkedin.com/learning/wordpress-wo...</td>\n",
       "      <td>4.5</td>\n",
       "      <td>Advanced</td>\n",
       "      <td>477 users</td>\n",
       "      <td>4.5</td>\n",
       "      <td>WordPress,</td>\n",
       "    </tr>\n",
       "  </tbody>\n",
       "</table>\n",
       "</div>"
      ],
      "text/plain": [
       "                                                urlc  \\\n",
       "0  https://www.classcentral.com/course/linkedin-l...   \n",
       "1  https://www.classcentral.com/course/linkedin-l...   \n",
       "2  https://www.classcentral.com/course/linkedin-l...   \n",
       "3  https://www.classcentral.com/course/linkedin-l...   \n",
       "4  https://www.classcentral.com/course/linkedin-l...   \n",
       "\n",
       "                                             img url  \\\n",
       "0  https://d3f1iyfxxz8i1e.cloudfront.net/courses/...   \n",
       "1  https://d3f1iyfxxz8i1e.cloudfront.net/courses/...   \n",
       "2  https://d3f1iyfxxz8i1e.cloudfront.net/courses/...   \n",
       "3  https://d3f1iyfxxz8i1e.cloudfront.net/courses/...   \n",
       "4  https://d3f1iyfxxz8i1e.cloudfront.net/courses/...   \n",
       "\n",
       "                                                 URL  \\\n",
       "0  https://www.classcentral.com/course/linkedin-l...   \n",
       "1  https://www.classcentral.com/course/linkedin-l...   \n",
       "2  https://www.classcentral.com/course/linkedin-l...   \n",
       "3  https://www.classcentral.com/course/linkedin-l...   \n",
       "4  https://www.classcentral.com/course/linkedin-l...   \n",
       "\n",
       "                                               Title  \\\n",
       "0  CompTIA Network+ (N10-007) Cert Prep: 1 Unders...   \n",
       "1                             CSS Essential Training   \n",
       "2  Succeeding in Web Development: Full Stack and ...   \n",
       "3                      JavaScript Essential Training   \n",
       "4                               WordPress: Workflows   \n",
       "\n",
       "                             Ratings  \\\n",
       "0  2601 ratings at LinkedIn Learning   \n",
       "1  3699 ratings at LinkedIn Learning   \n",
       "2  3767 ratings at LinkedIn Learning   \n",
       "3                           1 review   \n",
       "4   174 ratings at LinkedIn Learning   \n",
       "\n",
       "                                         Description  Duration       Time  \\\n",
       "0  Earn your CompTIA Network+ certification. Part...       1.0  On-Demand   \n",
       "1  Explore the concepts that form the foundation ...       4.5  On-Demand   \n",
       "2  Do you want to become a web developer? Learn a...       1.5  On-Demand   \n",
       "3  Get hands-on experience scripting in JavaScrip...       5.0  On-Demand   \n",
       "4  Be a more efficient WordPress developer. Disco...       1.5  On-Demand   \n",
       "\n",
       "                  Price                                           FinalUrl  \\\n",
       "0  Free Trial Available  https://www.linkedin.com/learning/comptia-netw...   \n",
       "1  Free Trial Available  https://www.linkedin.com/learning/css-essentia...   \n",
       "2  Free Trial Available  https://www.linkedin.com/learning/succeeding-i...   \n",
       "3  Free Trial Available  https://www.linkedin.com/learning/javascript-e...   \n",
       "4  Free Trial Available  https://www.linkedin.com/learning/wordpress-wo...   \n",
       "\n",
       "   newRatings         Level     Numenroll  RRRR  \\\n",
       "0         4.7  Intermediate   1,344 users   4.8   \n",
       "1         4.7      Beginner  12,190 users   4.7   \n",
       "2         4.7      Beginner  11,456 users   4.7   \n",
       "3         5.0      Beginner  14,737 users   4.8   \n",
       "4         4.5      Advanced     477 users   4.5   \n",
       "\n",
       "                                     skill learn  \n",
       "0                        Network Administration,  \n",
       "1                  Cascading Style Sheets (CSS),  \n",
       "2  Front-End Development,Full-Stack Development,  \n",
       "3                                    JavaScript,  \n",
       "4                                     WordPress,  "
      ]
     },
     "execution_count": 147,
     "metadata": {},
     "output_type": "execute_result"
    }
   ],
   "source": [
    "df.head()"
   ]
  },
  {
   "cell_type": "code",
   "execution_count": null,
   "metadata": {},
   "outputs": [],
   "source": []
  },
  {
   "cell_type": "markdown",
   "metadata": {},
   "source": [
    "### get difficulty level"
   ]
  },
  {
   "cell_type": "code",
   "execution_count": 148,
   "metadata": {},
   "outputs": [
    {
     "data": {
      "text/plain": [
       "4"
      ]
     },
     "execution_count": 148,
     "metadata": {},
     "output_type": "execute_result"
    }
   ],
   "source": [
    "df.Level.isna().sum()"
   ]
  },
  {
   "cell_type": "code",
   "execution_count": 149,
   "metadata": {},
   "outputs": [
    {
     "data": {
      "text/plain": [
       "array(['Intermediate', 'Beginner', 'Advanced', 'Beginner + Intermediate',\n",
       "       'General', nan], dtype=object)"
      ]
     },
     "execution_count": 149,
     "metadata": {},
     "output_type": "execute_result"
    }
   ],
   "source": [
    "df.Level.unique()"
   ]
  },
  {
   "cell_type": "code",
   "execution_count": 150,
   "metadata": {},
   "outputs": [],
   "source": [
    "# Extract Course Difficulty, converted to numerical category and normalised\n",
    "def conv_diff(strs):\n",
    "  if strs == 'General' or strs == 'Beginner' or strs=='Beginner + Intermediate' or strs==np.nan:\n",
    "    diff = 0\n",
    "  elif strs == 'Intermediate':\n",
    "    diff = 1\n",
    "  else:\n",
    "    diff = 2\n",
    "  return diff\n",
    "\n",
    "data_diff = df['Level'].apply(lambda x: conv_diff(x)) # difficulty in numerical category"
   ]
  },
  {
   "cell_type": "code",
   "execution_count": 151,
   "metadata": {},
   "outputs": [
    {
     "data": {
      "text/plain": [
       "1574"
      ]
     },
     "execution_count": 151,
     "metadata": {},
     "output_type": "execute_result"
    }
   ],
   "source": [
    "len(data_diff)"
   ]
  },
  {
   "cell_type": "code",
   "execution_count": 152,
   "metadata": {},
   "outputs": [
    {
     "data": {
      "text/plain": [
       "array([1, 0, 2], dtype=int64)"
      ]
     },
     "execution_count": 152,
     "metadata": {},
     "output_type": "execute_result"
    }
   ],
   "source": [
    "data_diff.unique()"
   ]
  },
  {
   "cell_type": "code",
   "execution_count": null,
   "metadata": {},
   "outputs": [],
   "source": []
  },
  {
   "cell_type": "markdown",
   "metadata": {},
   "source": [
    "### get no. of enrollment"
   ]
  },
  {
   "cell_type": "code",
   "execution_count": 153,
   "metadata": {},
   "outputs": [
    {
     "data": {
      "text/plain": [
       "6"
      ]
     },
     "execution_count": 153,
     "metadata": {},
     "output_type": "execute_result"
    }
   ],
   "source": [
    "df.Numenroll.isna().sum()"
   ]
  },
  {
   "cell_type": "code",
   "execution_count": 154,
   "metadata": {},
   "outputs": [],
   "source": [
    "df.Numenroll.fillna('0',inplace = True)"
   ]
  },
  {
   "cell_type": "code",
   "execution_count": 155,
   "metadata": {},
   "outputs": [],
   "source": [
    "def get_number(strs):\n",
    "  num = re.findall(r'\\d+[,]*\\d*[,]*\\d*',strs)[0].replace(',','')\n",
    "  return int(num)\n",
    "\n",
    "df.Numenroll = df.Numenroll.apply(lambda x:get_number(x))"
   ]
  },
  {
   "cell_type": "code",
   "execution_count": 156,
   "metadata": {},
   "outputs": [
    {
     "data": {
      "text/plain": [
       "0"
      ]
     },
     "execution_count": 156,
     "metadata": {},
     "output_type": "execute_result"
    }
   ],
   "source": [
    "df.Numenroll.isna().sum()"
   ]
  },
  {
   "cell_type": "code",
   "execution_count": 157,
   "metadata": {},
   "outputs": [
    {
     "data": {
      "text/plain": [
       "dtype('int64')"
      ]
     },
     "execution_count": 157,
     "metadata": {},
     "output_type": "execute_result"
    }
   ],
   "source": [
    "df.Numenroll.dtypes"
   ]
  },
  {
   "cell_type": "code",
   "execution_count": 158,
   "metadata": {},
   "outputs": [],
   "source": [
    "numsenroll=df.Numenroll"
   ]
  },
  {
   "cell_type": "markdown",
   "metadata": {},
   "source": [
    "### Get category"
   ]
  },
  {
   "cell_type": "code",
   "execution_count": 159,
   "metadata": {},
   "outputs": [
    {
     "data": {
      "text/plain": [
       "6"
      ]
     },
     "execution_count": 159,
     "metadata": {},
     "output_type": "execute_result"
    }
   ],
   "source": [
    "df['skill learn'].isna().sum()"
   ]
  },
  {
   "cell_type": "code",
   "execution_count": 160,
   "metadata": {},
   "outputs": [
    {
     "data": {
      "text/plain": [
       "0                             Network Administration\n",
       "1                       Cascading Style Sheets (CSS)\n",
       "2       Front-End Development,Full-Stack Development\n",
       "3                                         JavaScript\n",
       "4                                          WordPress\n",
       "                            ...                     \n",
       "1570               Microsoft Azure,Disaster Recovery\n",
       "1571                                Computer Science\n",
       "1572                                Computer Science\n",
       "1573                                Computer Science\n",
       "1574                                     ARKit,Unity\n",
       "Name: skill learn, Length: 1574, dtype: object"
      ]
     },
     "execution_count": 160,
     "metadata": {},
     "output_type": "execute_result"
    }
   ],
   "source": [
    "data_cat=df['skill learn'].apply(lambda x: 'Computer Science' if pd.isna(x) else (x.rstrip(',')))\n",
    "data_cat"
   ]
  },
  {
   "cell_type": "code",
   "execution_count": null,
   "metadata": {},
   "outputs": [],
   "source": []
  },
  {
   "cell_type": "markdown",
   "metadata": {},
   "source": [
    "### get ratings "
   ]
  },
  {
   "cell_type": "code",
   "execution_count": 161,
   "metadata": {},
   "outputs": [
    {
     "data": {
      "text/plain": [
       "347"
      ]
     },
     "execution_count": 161,
     "metadata": {},
     "output_type": "execute_result"
    }
   ],
   "source": [
    "df.RRRR.isna().sum()"
   ]
  },
  {
   "cell_type": "code",
   "execution_count": 162,
   "metadata": {},
   "outputs": [
    {
     "data": {
      "text/plain": [
       "dtype('float64')"
      ]
     },
     "execution_count": 162,
     "metadata": {},
     "output_type": "execute_result"
    }
   ],
   "source": [
    "df.RRRR.dtypes"
   ]
  },
  {
   "cell_type": "code",
   "execution_count": 163,
   "metadata": {},
   "outputs": [
    {
     "data": {
      "text/plain": [
       "array([4.8, 4.7, 4.5, 4.6, 4.9, nan, 4.4, 3.9, 4.2, 4.3, 4. , 3.1, 5. ,\n",
       "       3.8, 4.1])"
      ]
     },
     "execution_count": 163,
     "metadata": {},
     "output_type": "execute_result"
    }
   ],
   "source": [
    "df.RRRR.unique()"
   ]
  },
  {
   "cell_type": "code",
   "execution_count": 164,
   "metadata": {},
   "outputs": [],
   "source": [
    "df.RRRR =df.RRRR.apply(lambda x : np.nan if pd.isna(x) else (x))"
   ]
  },
  {
   "cell_type": "code",
   "execution_count": 165,
   "metadata": {},
   "outputs": [
    {
     "name": "stdout",
     "output_type": "stream",
     "text": [
      "4.7\n"
     ]
    }
   ],
   "source": [
    "meanval=df.RRRR.median()\n",
    "print(meanval)\n",
    "df.RRRR.fillna(meanval,inplace = True)"
   ]
  },
  {
   "cell_type": "code",
   "execution_count": 166,
   "metadata": {},
   "outputs": [
    {
     "data": {
      "text/plain": [
       "0"
      ]
     },
     "execution_count": 166,
     "metadata": {},
     "output_type": "execute_result"
    }
   ],
   "source": [
    "df.RRRR.isna().sum()"
   ]
  },
  {
   "cell_type": "code",
   "execution_count": 167,
   "metadata": {},
   "outputs": [],
   "source": [
    "ratings=df.RRRR"
   ]
  },
  {
   "cell_type": "code",
   "execution_count": null,
   "metadata": {},
   "outputs": [],
   "source": []
  },
  {
   "cell_type": "markdown",
   "metadata": {},
   "source": [
    "### Combine data "
   ]
  },
  {
   "cell_type": "code",
   "execution_count": null,
   "metadata": {},
   "outputs": [],
   "source": []
  },
  {
   "cell_type": "code",
   "execution_count": 168,
   "metadata": {},
   "outputs": [
    {
     "data": {
      "text/html": [
       "<div>\n",
       "<style scoped>\n",
       "    .dataframe tbody tr th:only-of-type {\n",
       "        vertical-align: middle;\n",
       "    }\n",
       "\n",
       "    .dataframe tbody tr th {\n",
       "        vertical-align: top;\n",
       "    }\n",
       "\n",
       "    .dataframe thead th {\n",
       "        text-align: right;\n",
       "    }\n",
       "</style>\n",
       "<table border=\"1\" class=\"dataframe\">\n",
       "  <thead>\n",
       "    <tr style=\"text-align: right;\">\n",
       "      <th></th>\n",
       "      <th>Course Name</th>\n",
       "      <th>URL</th>\n",
       "      <th>Categories</th>\n",
       "      <th>Short Description</th>\n",
       "      <th>Long Description</th>\n",
       "      <th>Difficulty</th>\n",
       "      <th>Duration</th>\n",
       "      <th>Free Option</th>\n",
       "      <th>Number of Enrolled</th>\n",
       "      <th>Rating</th>\n",
       "      <th>Paid Option</th>\n",
       "      <th>Language</th>\n",
       "      <th>Subtitle Language</th>\n",
       "      <th>Platform</th>\n",
       "      <th>Provider</th>\n",
       "      <th>Image URL</th>\n",
       "    </tr>\n",
       "  </thead>\n",
       "  <tbody>\n",
       "  </tbody>\n",
       "</table>\n",
       "</div>"
      ],
      "text/plain": [
       "Empty DataFrame\n",
       "Columns: [Course Name, URL, Categories, Short Description, Long Description, Difficulty, Duration, Free Option, Number of Enrolled, Rating, Paid Option, Language, Subtitle Language, Platform, Provider, Image URL]\n",
       "Index: []"
      ]
     },
     "execution_count": 168,
     "metadata": {},
     "output_type": "execute_result"
    }
   ],
   "source": [
    "df1 = pd.DataFrame(columns = ['Course Name', 'URL', 'Categories', 'Short Description', 'Long Description', 'Difficulty', 'Duration', 'Free Option', 'Number of Enrolled', 'Rating', 'Paid Option', 'Language', 'Subtitle Language', 'Platform', 'Provider', 'Image URL'])\n",
    "df1"
   ]
  },
  {
   "cell_type": "code",
   "execution_count": 169,
   "metadata": {},
   "outputs": [],
   "source": [
    "df1['Course Name']=data_name\n",
    "df1['Categories']= data_cat\n",
    "df1['URL']=data_url\n",
    "df1['Provider']='LinkedIn Learning'\n",
    "df1['Short Description']=sdesc\n",
    "df1['Long Description']=ldesc\n",
    "df1['Difficulty']= data_diff\n",
    "df1['Duration']=data_dur\n",
    "df1['Rating']=ratings\n",
    "df1['Number of Enrolled']=numsenroll\n",
    "df1['Platform']='LinkedIn Learning'\n",
    "df1['Free Option']=0\n",
    "df1['Paid Option']='Subscription Required'\n",
    "df1['Language']='English'\n",
    "df1['Subtitle Language']='English'\n",
    "df1['Image URL']=data_img"
   ]
  },
  {
   "cell_type": "code",
   "execution_count": 170,
   "metadata": {},
   "outputs": [
    {
     "data": {
      "text/html": [
       "<div>\n",
       "<style scoped>\n",
       "    .dataframe tbody tr th:only-of-type {\n",
       "        vertical-align: middle;\n",
       "    }\n",
       "\n",
       "    .dataframe tbody tr th {\n",
       "        vertical-align: top;\n",
       "    }\n",
       "\n",
       "    .dataframe thead th {\n",
       "        text-align: right;\n",
       "    }\n",
       "</style>\n",
       "<table border=\"1\" class=\"dataframe\">\n",
       "  <thead>\n",
       "    <tr style=\"text-align: right;\">\n",
       "      <th></th>\n",
       "      <th>Course Name</th>\n",
       "      <th>URL</th>\n",
       "      <th>Categories</th>\n",
       "      <th>Short Description</th>\n",
       "      <th>Long Description</th>\n",
       "      <th>Difficulty</th>\n",
       "      <th>Duration</th>\n",
       "      <th>Free Option</th>\n",
       "      <th>Number of Enrolled</th>\n",
       "      <th>Rating</th>\n",
       "      <th>Paid Option</th>\n",
       "      <th>Language</th>\n",
       "      <th>Subtitle Language</th>\n",
       "      <th>Platform</th>\n",
       "      <th>Provider</th>\n",
       "      <th>Image URL</th>\n",
       "    </tr>\n",
       "  </thead>\n",
       "  <tbody>\n",
       "    <tr>\n",
       "      <th>0</th>\n",
       "      <td>CompTIA Network+ (N10-007) Cert Prep: 1 Unders...</td>\n",
       "      <td>https://www.linkedin.com/learning/comptia-netw...</td>\n",
       "      <td>Network Administration</td>\n",
       "      <td>Earn your CompTIA Network+ certification. Part...</td>\n",
       "      <td>Earn your CompTIA Network+ certification. Part...</td>\n",
       "      <td>1</td>\n",
       "      <td>0</td>\n",
       "      <td>0</td>\n",
       "      <td>1344</td>\n",
       "      <td>4.8</td>\n",
       "      <td>Subscription Required</td>\n",
       "      <td>English</td>\n",
       "      <td>English</td>\n",
       "      <td>LinkedIn Learning</td>\n",
       "      <td>LinkedIn Learning</td>\n",
       "      <td>https://d3f1iyfxxz8i1e.cloudfront.net/courses/...</td>\n",
       "    </tr>\n",
       "    <tr>\n",
       "      <th>1</th>\n",
       "      <td>CSS Essential Training</td>\n",
       "      <td>https://www.linkedin.com/learning/css-essentia...</td>\n",
       "      <td>Cascading Style Sheets (CSS)</td>\n",
       "      <td>Explore the concepts that form the foundation ...</td>\n",
       "      <td>Explore the concepts that form the foundation ...</td>\n",
       "      <td>0</td>\n",
       "      <td>0</td>\n",
       "      <td>0</td>\n",
       "      <td>12190</td>\n",
       "      <td>4.7</td>\n",
       "      <td>Subscription Required</td>\n",
       "      <td>English</td>\n",
       "      <td>English</td>\n",
       "      <td>LinkedIn Learning</td>\n",
       "      <td>LinkedIn Learning</td>\n",
       "      <td>https://d3f1iyfxxz8i1e.cloudfront.net/courses/...</td>\n",
       "    </tr>\n",
       "    <tr>\n",
       "      <th>2</th>\n",
       "      <td>Succeeding in Web Development: Full Stack and ...</td>\n",
       "      <td>https://www.linkedin.com/learning/succeeding-i...</td>\n",
       "      <td>Front-End Development,Full-Stack Development</td>\n",
       "      <td>Do you want to become a web developer? Learn a...</td>\n",
       "      <td>Do you want to become a web developer? Learn a...</td>\n",
       "      <td>0</td>\n",
       "      <td>0</td>\n",
       "      <td>0</td>\n",
       "      <td>11456</td>\n",
       "      <td>4.7</td>\n",
       "      <td>Subscription Required</td>\n",
       "      <td>English</td>\n",
       "      <td>English</td>\n",
       "      <td>LinkedIn Learning</td>\n",
       "      <td>LinkedIn Learning</td>\n",
       "      <td>https://d3f1iyfxxz8i1e.cloudfront.net/courses/...</td>\n",
       "    </tr>\n",
       "    <tr>\n",
       "      <th>3</th>\n",
       "      <td>JavaScript Essential Training</td>\n",
       "      <td>https://www.linkedin.com/learning/javascript-e...</td>\n",
       "      <td>JavaScript</td>\n",
       "      <td>Get hands-on experience scripting in JavaScrip...</td>\n",
       "      <td>Get hands-on experience scripting in JavaScrip...</td>\n",
       "      <td>0</td>\n",
       "      <td>0</td>\n",
       "      <td>0</td>\n",
       "      <td>14737</td>\n",
       "      <td>4.8</td>\n",
       "      <td>Subscription Required</td>\n",
       "      <td>English</td>\n",
       "      <td>English</td>\n",
       "      <td>LinkedIn Learning</td>\n",
       "      <td>LinkedIn Learning</td>\n",
       "      <td>https://d3f1iyfxxz8i1e.cloudfront.net/courses/...</td>\n",
       "    </tr>\n",
       "    <tr>\n",
       "      <th>4</th>\n",
       "      <td>WordPress: Workflows</td>\n",
       "      <td>https://www.linkedin.com/learning/wordpress-wo...</td>\n",
       "      <td>WordPress</td>\n",
       "      <td>Be a more efficient WordPress developer. Disco...</td>\n",
       "      <td>Be a more efficient WordPress developer. Disco...</td>\n",
       "      <td>2</td>\n",
       "      <td>0</td>\n",
       "      <td>0</td>\n",
       "      <td>477</td>\n",
       "      <td>4.5</td>\n",
       "      <td>Subscription Required</td>\n",
       "      <td>English</td>\n",
       "      <td>English</td>\n",
       "      <td>LinkedIn Learning</td>\n",
       "      <td>LinkedIn Learning</td>\n",
       "      <td>https://d3f1iyfxxz8i1e.cloudfront.net/courses/...</td>\n",
       "    </tr>\n",
       "  </tbody>\n",
       "</table>\n",
       "</div>"
      ],
      "text/plain": [
       "                                         Course Name  \\\n",
       "0  CompTIA Network+ (N10-007) Cert Prep: 1 Unders...   \n",
       "1                             CSS Essential Training   \n",
       "2  Succeeding in Web Development: Full Stack and ...   \n",
       "3                      JavaScript Essential Training   \n",
       "4                               WordPress: Workflows   \n",
       "\n",
       "                                                 URL  \\\n",
       "0  https://www.linkedin.com/learning/comptia-netw...   \n",
       "1  https://www.linkedin.com/learning/css-essentia...   \n",
       "2  https://www.linkedin.com/learning/succeeding-i...   \n",
       "3  https://www.linkedin.com/learning/javascript-e...   \n",
       "4  https://www.linkedin.com/learning/wordpress-wo...   \n",
       "\n",
       "                                     Categories  \\\n",
       "0                        Network Administration   \n",
       "1                  Cascading Style Sheets (CSS)   \n",
       "2  Front-End Development,Full-Stack Development   \n",
       "3                                    JavaScript   \n",
       "4                                     WordPress   \n",
       "\n",
       "                                   Short Description  \\\n",
       "0  Earn your CompTIA Network+ certification. Part...   \n",
       "1  Explore the concepts that form the foundation ...   \n",
       "2  Do you want to become a web developer? Learn a...   \n",
       "3  Get hands-on experience scripting in JavaScrip...   \n",
       "4  Be a more efficient WordPress developer. Disco...   \n",
       "\n",
       "                                    Long Description  Difficulty  Duration  \\\n",
       "0  Earn your CompTIA Network+ certification. Part...           1         0   \n",
       "1  Explore the concepts that form the foundation ...           0         0   \n",
       "2  Do you want to become a web developer? Learn a...           0         0   \n",
       "3  Get hands-on experience scripting in JavaScrip...           0         0   \n",
       "4  Be a more efficient WordPress developer. Disco...           2         0   \n",
       "\n",
       "   Free Option  Number of Enrolled  Rating            Paid Option Language  \\\n",
       "0            0                1344     4.8  Subscription Required  English   \n",
       "1            0               12190     4.7  Subscription Required  English   \n",
       "2            0               11456     4.7  Subscription Required  English   \n",
       "3            0               14737     4.8  Subscription Required  English   \n",
       "4            0                 477     4.5  Subscription Required  English   \n",
       "\n",
       "  Subtitle Language           Platform           Provider  \\\n",
       "0           English  LinkedIn Learning  LinkedIn Learning   \n",
       "1           English  LinkedIn Learning  LinkedIn Learning   \n",
       "2           English  LinkedIn Learning  LinkedIn Learning   \n",
       "3           English  LinkedIn Learning  LinkedIn Learning   \n",
       "4           English  LinkedIn Learning  LinkedIn Learning   \n",
       "\n",
       "                                           Image URL  \n",
       "0  https://d3f1iyfxxz8i1e.cloudfront.net/courses/...  \n",
       "1  https://d3f1iyfxxz8i1e.cloudfront.net/courses/...  \n",
       "2  https://d3f1iyfxxz8i1e.cloudfront.net/courses/...  \n",
       "3  https://d3f1iyfxxz8i1e.cloudfront.net/courses/...  \n",
       "4  https://d3f1iyfxxz8i1e.cloudfront.net/courses/...  "
      ]
     },
     "execution_count": 170,
     "metadata": {},
     "output_type": "execute_result"
    }
   ],
   "source": [
    "df1.head()"
   ]
  },
  {
   "cell_type": "code",
   "execution_count": 171,
   "metadata": {},
   "outputs": [
    {
     "data": {
      "text/plain": [
       "1412"
      ]
     },
     "execution_count": 171,
     "metadata": {},
     "output_type": "execute_result"
    }
   ],
   "source": [
    "\n",
    "len(df1['Course Name'].unique())"
   ]
  },
  {
   "cell_type": "code",
   "execution_count": 172,
   "metadata": {},
   "outputs": [
    {
     "name": "stdout",
     "output_type": "stream",
     "text": [
      "<class 'pandas.core.frame.DataFrame'>\n",
      "Int64Index: 1574 entries, 0 to 1574\n",
      "Data columns (total 16 columns):\n",
      " #   Column              Non-Null Count  Dtype  \n",
      "---  ------              --------------  -----  \n",
      " 0   Course Name         1574 non-null   object \n",
      " 1   URL                 1574 non-null   object \n",
      " 2   Categories          1574 non-null   object \n",
      " 3   Short Description   1574 non-null   object \n",
      " 4   Long Description    1574 non-null   object \n",
      " 5   Difficulty          1574 non-null   int64  \n",
      " 6   Duration            1574 non-null   int64  \n",
      " 7   Free Option         1574 non-null   int64  \n",
      " 8   Number of Enrolled  1574 non-null   int64  \n",
      " 9   Rating              1574 non-null   float64\n",
      " 10  Paid Option         1574 non-null   object \n",
      " 11  Language            1574 non-null   object \n",
      " 12  Subtitle Language   1574 non-null   object \n",
      " 13  Platform            1574 non-null   object \n",
      " 14  Provider            1574 non-null   object \n",
      " 15  Image URL           1574 non-null   object \n",
      "dtypes: float64(1), int64(4), object(11)\n",
      "memory usage: 209.0+ KB\n"
     ]
    }
   ],
   "source": [
    "df1.info()"
   ]
  },
  {
   "cell_type": "code",
   "execution_count": 173,
   "metadata": {},
   "outputs": [
    {
     "data": {
      "text/html": [
       "<div>\n",
       "<style scoped>\n",
       "    .dataframe tbody tr th:only-of-type {\n",
       "        vertical-align: middle;\n",
       "    }\n",
       "\n",
       "    .dataframe tbody tr th {\n",
       "        vertical-align: top;\n",
       "    }\n",
       "\n",
       "    .dataframe thead th {\n",
       "        text-align: right;\n",
       "    }\n",
       "</style>\n",
       "<table border=\"1\" class=\"dataframe\">\n",
       "  <thead>\n",
       "    <tr style=\"text-align: right;\">\n",
       "      <th></th>\n",
       "      <th>Difficulty</th>\n",
       "      <th>Duration</th>\n",
       "      <th>Free Option</th>\n",
       "      <th>Number of Enrolled</th>\n",
       "      <th>Rating</th>\n",
       "    </tr>\n",
       "  </thead>\n",
       "  <tbody>\n",
       "    <tr>\n",
       "      <th>count</th>\n",
       "      <td>1574.000000</td>\n",
       "      <td>1574.000000</td>\n",
       "      <td>1574.0</td>\n",
       "      <td>1574.000000</td>\n",
       "      <td>1574.000000</td>\n",
       "    </tr>\n",
       "    <tr>\n",
       "      <th>mean</th>\n",
       "      <td>0.724905</td>\n",
       "      <td>0.003177</td>\n",
       "      <td>0.0</td>\n",
       "      <td>1812.596569</td>\n",
       "      <td>4.671855</td>\n",
       "    </tr>\n",
       "    <tr>\n",
       "      <th>std</th>\n",
       "      <td>0.666081</td>\n",
       "      <td>0.056290</td>\n",
       "      <td>0.0</td>\n",
       "      <td>3384.691266</td>\n",
       "      <td>0.118861</td>\n",
       "    </tr>\n",
       "    <tr>\n",
       "      <th>min</th>\n",
       "      <td>0.000000</td>\n",
       "      <td>0.000000</td>\n",
       "      <td>0.0</td>\n",
       "      <td>0.000000</td>\n",
       "      <td>3.100000</td>\n",
       "    </tr>\n",
       "    <tr>\n",
       "      <th>25%</th>\n",
       "      <td>0.000000</td>\n",
       "      <td>0.000000</td>\n",
       "      <td>0.0</td>\n",
       "      <td>258.250000</td>\n",
       "      <td>4.600000</td>\n",
       "    </tr>\n",
       "    <tr>\n",
       "      <th>50%</th>\n",
       "      <td>1.000000</td>\n",
       "      <td>0.000000</td>\n",
       "      <td>0.0</td>\n",
       "      <td>660.000000</td>\n",
       "      <td>4.700000</td>\n",
       "    </tr>\n",
       "    <tr>\n",
       "      <th>75%</th>\n",
       "      <td>1.000000</td>\n",
       "      <td>0.000000</td>\n",
       "      <td>0.0</td>\n",
       "      <td>1834.750000</td>\n",
       "      <td>4.700000</td>\n",
       "    </tr>\n",
       "    <tr>\n",
       "      <th>max</th>\n",
       "      <td>2.000000</td>\n",
       "      <td>1.000000</td>\n",
       "      <td>0.0</td>\n",
       "      <td>35211.000000</td>\n",
       "      <td>5.000000</td>\n",
       "    </tr>\n",
       "  </tbody>\n",
       "</table>\n",
       "</div>"
      ],
      "text/plain": [
       "        Difficulty     Duration  Free Option  Number of Enrolled       Rating\n",
       "count  1574.000000  1574.000000       1574.0         1574.000000  1574.000000\n",
       "mean      0.724905     0.003177          0.0         1812.596569     4.671855\n",
       "std       0.666081     0.056290          0.0         3384.691266     0.118861\n",
       "min       0.000000     0.000000          0.0            0.000000     3.100000\n",
       "25%       0.000000     0.000000          0.0          258.250000     4.600000\n",
       "50%       1.000000     0.000000          0.0          660.000000     4.700000\n",
       "75%       1.000000     0.000000          0.0         1834.750000     4.700000\n",
       "max       2.000000     1.000000          0.0        35211.000000     5.000000"
      ]
     },
     "execution_count": 173,
     "metadata": {},
     "output_type": "execute_result"
    }
   ],
   "source": [
    "df1.describe()"
   ]
  },
  {
   "cell_type": "code",
   "execution_count": 174,
   "metadata": {},
   "outputs": [],
   "source": [
    "df1.to_csv('LinkedIn_preprocess_done.csv', index=False, encoding='utf_8_sig')"
   ]
  }
 ],
 "metadata": {
  "kernelspec": {
   "display_name": "Python 3 (ipykernel)",
   "language": "python",
   "name": "python3"
  },
  "language_info": {
   "codemirror_mode": {
    "name": "ipython",
    "version": 3
   },
   "file_extension": ".py",
   "mimetype": "text/x-python",
   "name": "python",
   "nbconvert_exporter": "python",
   "pygments_lexer": "ipython3",
   "version": "3.9.13"
  }
 },
 "nbformat": 4,
 "nbformat_minor": 2
}
