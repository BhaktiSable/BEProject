{
 "cells": [
  {
   "cell_type": "code",
   "execution_count": 166,
   "metadata": {},
   "outputs": [],
   "source": [
    "\n",
    "import re\n",
    "import pandas as pd\n",
    "import numpy as np"
   ]
  },
  {
   "cell_type": "code",
   "execution_count": 167,
   "metadata": {},
   "outputs": [],
   "source": [
    "df=pd.read_csv(r'C:\\Users\\nehab\\Desktop\\Python\\final datasets\\udacity.csv')"
   ]
  },
  {
   "cell_type": "code",
   "execution_count": 168,
   "metadata": {},
   "outputs": [
    {
     "data": {
      "text/html": [
       "<div>\n",
       "<style scoped>\n",
       "    .dataframe tbody tr th:only-of-type {\n",
       "        vertical-align: middle;\n",
       "    }\n",
       "\n",
       "    .dataframe tbody tr th {\n",
       "        vertical-align: top;\n",
       "    }\n",
       "\n",
       "    .dataframe thead th {\n",
       "        text-align: right;\n",
       "    }\n",
       "</style>\n",
       "<table border=\"1\" class=\"dataframe\">\n",
       "  <thead>\n",
       "    <tr style=\"text-align: right;\">\n",
       "      <th></th>\n",
       "      <th>card_container__tm_J1 href</th>\n",
       "      <th>card_image__fZ2qh src</th>\n",
       "      <th>card_flag__PGsM1</th>\n",
       "      <th>card_title__6gX9X</th>\n",
       "      <th>card_summary__uxD6t</th>\n",
       "      <th>skills learn</th>\n",
       "      <th>pre-requisites</th>\n",
       "      <th>Difficulty</th>\n",
       "      <th>duration</th>\n",
       "      <th>rating</th>\n",
       "      <th>reviews</th>\n",
       "      <th>provider</th>\n",
       "    </tr>\n",
       "  </thead>\n",
       "  <tbody>\n",
       "    <tr>\n",
       "      <th>0</th>\n",
       "      <td>https://www.udacity.com/course/data-engineer-n...</td>\n",
       "      <td>https://www.udacity.com/www-proxy/contentful/a...</td>\n",
       "      <td>nanodegree</td>\n",
       "      <td>Data Engineering with AWS</td>\n",
       "      <td>Learn to design data models, build data wareho...</td>\n",
       "      <td>AWS Glue,  Amazon S3,  AWS Data Warehouse,  Re...</td>\n",
       "      <td>Intermediate Python, intermediate SQL &amp; comman...</td>\n",
       "      <td>intermediate</td>\n",
       "      <td>4 Months</td>\n",
       "      <td>4.6 stars</td>\n",
       "      <td>1808 reviews</td>\n",
       "      <td>NaN</td>\n",
       "    </tr>\n",
       "    <tr>\n",
       "      <th>1</th>\n",
       "      <td>https://www.udacity.com/course/intro-to-progra...</td>\n",
       "      <td>https://d20vrrgs8k4bvw.cloudfront.net/images/d...</td>\n",
       "      <td>nanodegree</td>\n",
       "      <td>Introduction to Programming</td>\n",
       "      <td>A first step for beginners towards careers in ...</td>\n",
       "      <td>Front-End Development Basics,  HTML,  CSS,  Py...</td>\n",
       "      <td>No coding experience needed</td>\n",
       "      <td>beginner</td>\n",
       "      <td>4 Months</td>\n",
       "      <td>4.7 stars</td>\n",
       "      <td>3865 reviews</td>\n",
       "      <td>NaN</td>\n",
       "    </tr>\n",
       "    <tr>\n",
       "      <th>2</th>\n",
       "      <td>https://www.udacity.com/course/c-plus-plus-nan...</td>\n",
       "      <td>https://d20vrrgs8k4bvw.cloudfront.net/images/d...</td>\n",
       "      <td>nanodegree</td>\n",
       "      <td>C++</td>\n",
       "      <td>Get hands-on experience building five real-wor...</td>\n",
       "      <td>Data Structures,  Algorithms,  Memory Manageme...</td>\n",
       "      <td>Intermediate Programming</td>\n",
       "      <td>intermediate</td>\n",
       "      <td>4 Months</td>\n",
       "      <td>4.5 stars</td>\n",
       "      <td>1128 reviews</td>\n",
       "      <td>NaN</td>\n",
       "    </tr>\n",
       "    <tr>\n",
       "      <th>3</th>\n",
       "      <td>https://www.udacity.com/course/business-analyt...</td>\n",
       "      <td>https://d20vrrgs8k4bvw.cloudfront.net/images/d...</td>\n",
       "      <td>nanodegree</td>\n",
       "      <td>Business Analytics</td>\n",
       "      <td>Gain foundational data skills like analyzing d...</td>\n",
       "      <td>Excel/Spreadsheets,  SQL,  Data Visualization,...</td>\n",
       "      <td>None</td>\n",
       "      <td>beginner</td>\n",
       "      <td>3 Months</td>\n",
       "      <td>4.8 stars</td>\n",
       "      <td>2660 reviews</td>\n",
       "      <td>Mode</td>\n",
       "    </tr>\n",
       "    <tr>\n",
       "      <th>4</th>\n",
       "      <td>https://www.udacity.com/course/data-analyst-na...</td>\n",
       "      <td>https://d20vrrgs8k4bvw.cloudfront.net/images/d...</td>\n",
       "      <td>nanodegree</td>\n",
       "      <td>Data Analyst</td>\n",
       "      <td>Use Python, SQL, and statistics to uncover ins...</td>\n",
       "      <td>Data Wrangling,  Matplotlib,  Bootstrapping,  ...</td>\n",
       "      <td>Python &amp; SQL</td>\n",
       "      <td>intermediate</td>\n",
       "      <td>4 Months</td>\n",
       "      <td>4.6 stars</td>\n",
       "      <td>3498 reviews</td>\n",
       "      <td>Kaggle</td>\n",
       "    </tr>\n",
       "  </tbody>\n",
       "</table>\n",
       "</div>"
      ],
      "text/plain": [
       "                          card_container__tm_J1 href  \\\n",
       "0  https://www.udacity.com/course/data-engineer-n...   \n",
       "1  https://www.udacity.com/course/intro-to-progra...   \n",
       "2  https://www.udacity.com/course/c-plus-plus-nan...   \n",
       "3  https://www.udacity.com/course/business-analyt...   \n",
       "4  https://www.udacity.com/course/data-analyst-na...   \n",
       "\n",
       "                               card_image__fZ2qh src card_flag__PGsM1  \\\n",
       "0  https://www.udacity.com/www-proxy/contentful/a...       nanodegree   \n",
       "1  https://d20vrrgs8k4bvw.cloudfront.net/images/d...       nanodegree   \n",
       "2  https://d20vrrgs8k4bvw.cloudfront.net/images/d...       nanodegree   \n",
       "3  https://d20vrrgs8k4bvw.cloudfront.net/images/d...       nanodegree   \n",
       "4  https://d20vrrgs8k4bvw.cloudfront.net/images/d...       nanodegree   \n",
       "\n",
       "             card_title__6gX9X  \\\n",
       "0    Data Engineering with AWS   \n",
       "1  Introduction to Programming   \n",
       "2                          C++   \n",
       "3           Business Analytics   \n",
       "4                 Data Analyst   \n",
       "\n",
       "                                 card_summary__uxD6t  \\\n",
       "0  Learn to design data models, build data wareho...   \n",
       "1  A first step for beginners towards careers in ...   \n",
       "2  Get hands-on experience building five real-wor...   \n",
       "3  Gain foundational data skills like analyzing d...   \n",
       "4  Use Python, SQL, and statistics to uncover ins...   \n",
       "\n",
       "                                        skills learn  \\\n",
       "0  AWS Glue,  Amazon S3,  AWS Data Warehouse,  Re...   \n",
       "1  Front-End Development Basics,  HTML,  CSS,  Py...   \n",
       "2  Data Structures,  Algorithms,  Memory Manageme...   \n",
       "3  Excel/Spreadsheets,  SQL,  Data Visualization,...   \n",
       "4  Data Wrangling,  Matplotlib,  Bootstrapping,  ...   \n",
       "\n",
       "                                      pre-requisites    Difficulty  duration  \\\n",
       "0  Intermediate Python, intermediate SQL & comman...  intermediate  4 Months   \n",
       "1                        No coding experience needed      beginner  4 Months   \n",
       "2                           Intermediate Programming  intermediate  4 Months   \n",
       "3                                               None      beginner  3 Months   \n",
       "4                                       Python & SQL  intermediate  4 Months   \n",
       "\n",
       "      rating       reviews provider  \n",
       "0  4.6 stars  1808 reviews      NaN  \n",
       "1  4.7 stars  3865 reviews      NaN  \n",
       "2  4.5 stars  1128 reviews      NaN  \n",
       "3  4.8 stars  2660 reviews     Mode  \n",
       "4  4.6 stars  3498 reviews   Kaggle  "
      ]
     },
     "execution_count": 168,
     "metadata": {},
     "output_type": "execute_result"
    }
   ],
   "source": [
    "df.head()"
   ]
  },
  {
   "cell_type": "code",
   "execution_count": 169,
   "metadata": {},
   "outputs": [],
   "source": [
    "df.columns=['URL','img','type','Name','description','skills learn','pre-requisites','Difficulty',\t'duration',\t'rating',\t'reviews',\t'provider']"
   ]
  },
  {
   "cell_type": "code",
   "execution_count": 170,
   "metadata": {},
   "outputs": [
    {
     "data": {
      "text/html": [
       "<div>\n",
       "<style scoped>\n",
       "    .dataframe tbody tr th:only-of-type {\n",
       "        vertical-align: middle;\n",
       "    }\n",
       "\n",
       "    .dataframe tbody tr th {\n",
       "        vertical-align: top;\n",
       "    }\n",
       "\n",
       "    .dataframe thead th {\n",
       "        text-align: right;\n",
       "    }\n",
       "</style>\n",
       "<table border=\"1\" class=\"dataframe\">\n",
       "  <thead>\n",
       "    <tr style=\"text-align: right;\">\n",
       "      <th></th>\n",
       "      <th>URL</th>\n",
       "      <th>img</th>\n",
       "      <th>type</th>\n",
       "      <th>Name</th>\n",
       "      <th>description</th>\n",
       "      <th>skills learn</th>\n",
       "      <th>pre-requisites</th>\n",
       "      <th>Difficulty</th>\n",
       "      <th>duration</th>\n",
       "      <th>rating</th>\n",
       "      <th>reviews</th>\n",
       "      <th>provider</th>\n",
       "    </tr>\n",
       "  </thead>\n",
       "  <tbody>\n",
       "    <tr>\n",
       "      <th>0</th>\n",
       "      <td>https://www.udacity.com/course/data-engineer-n...</td>\n",
       "      <td>https://www.udacity.com/www-proxy/contentful/a...</td>\n",
       "      <td>nanodegree</td>\n",
       "      <td>Data Engineering with AWS</td>\n",
       "      <td>Learn to design data models, build data wareho...</td>\n",
       "      <td>AWS Glue,  Amazon S3,  AWS Data Warehouse,  Re...</td>\n",
       "      <td>Intermediate Python, intermediate SQL &amp; comman...</td>\n",
       "      <td>intermediate</td>\n",
       "      <td>4 Months</td>\n",
       "      <td>4.6 stars</td>\n",
       "      <td>1808 reviews</td>\n",
       "      <td>NaN</td>\n",
       "    </tr>\n",
       "    <tr>\n",
       "      <th>1</th>\n",
       "      <td>https://www.udacity.com/course/intro-to-progra...</td>\n",
       "      <td>https://d20vrrgs8k4bvw.cloudfront.net/images/d...</td>\n",
       "      <td>nanodegree</td>\n",
       "      <td>Introduction to Programming</td>\n",
       "      <td>A first step for beginners towards careers in ...</td>\n",
       "      <td>Front-End Development Basics,  HTML,  CSS,  Py...</td>\n",
       "      <td>No coding experience needed</td>\n",
       "      <td>beginner</td>\n",
       "      <td>4 Months</td>\n",
       "      <td>4.7 stars</td>\n",
       "      <td>3865 reviews</td>\n",
       "      <td>NaN</td>\n",
       "    </tr>\n",
       "    <tr>\n",
       "      <th>2</th>\n",
       "      <td>https://www.udacity.com/course/c-plus-plus-nan...</td>\n",
       "      <td>https://d20vrrgs8k4bvw.cloudfront.net/images/d...</td>\n",
       "      <td>nanodegree</td>\n",
       "      <td>C++</td>\n",
       "      <td>Get hands-on experience building five real-wor...</td>\n",
       "      <td>Data Structures,  Algorithms,  Memory Manageme...</td>\n",
       "      <td>Intermediate Programming</td>\n",
       "      <td>intermediate</td>\n",
       "      <td>4 Months</td>\n",
       "      <td>4.5 stars</td>\n",
       "      <td>1128 reviews</td>\n",
       "      <td>NaN</td>\n",
       "    </tr>\n",
       "    <tr>\n",
       "      <th>3</th>\n",
       "      <td>https://www.udacity.com/course/business-analyt...</td>\n",
       "      <td>https://d20vrrgs8k4bvw.cloudfront.net/images/d...</td>\n",
       "      <td>nanodegree</td>\n",
       "      <td>Business Analytics</td>\n",
       "      <td>Gain foundational data skills like analyzing d...</td>\n",
       "      <td>Excel/Spreadsheets,  SQL,  Data Visualization,...</td>\n",
       "      <td>None</td>\n",
       "      <td>beginner</td>\n",
       "      <td>3 Months</td>\n",
       "      <td>4.8 stars</td>\n",
       "      <td>2660 reviews</td>\n",
       "      <td>Mode</td>\n",
       "    </tr>\n",
       "    <tr>\n",
       "      <th>4</th>\n",
       "      <td>https://www.udacity.com/course/data-analyst-na...</td>\n",
       "      <td>https://d20vrrgs8k4bvw.cloudfront.net/images/d...</td>\n",
       "      <td>nanodegree</td>\n",
       "      <td>Data Analyst</td>\n",
       "      <td>Use Python, SQL, and statistics to uncover ins...</td>\n",
       "      <td>Data Wrangling,  Matplotlib,  Bootstrapping,  ...</td>\n",
       "      <td>Python &amp; SQL</td>\n",
       "      <td>intermediate</td>\n",
       "      <td>4 Months</td>\n",
       "      <td>4.6 stars</td>\n",
       "      <td>3498 reviews</td>\n",
       "      <td>Kaggle</td>\n",
       "    </tr>\n",
       "  </tbody>\n",
       "</table>\n",
       "</div>"
      ],
      "text/plain": [
       "                                                 URL  \\\n",
       "0  https://www.udacity.com/course/data-engineer-n...   \n",
       "1  https://www.udacity.com/course/intro-to-progra...   \n",
       "2  https://www.udacity.com/course/c-plus-plus-nan...   \n",
       "3  https://www.udacity.com/course/business-analyt...   \n",
       "4  https://www.udacity.com/course/data-analyst-na...   \n",
       "\n",
       "                                                 img        type  \\\n",
       "0  https://www.udacity.com/www-proxy/contentful/a...  nanodegree   \n",
       "1  https://d20vrrgs8k4bvw.cloudfront.net/images/d...  nanodegree   \n",
       "2  https://d20vrrgs8k4bvw.cloudfront.net/images/d...  nanodegree   \n",
       "3  https://d20vrrgs8k4bvw.cloudfront.net/images/d...  nanodegree   \n",
       "4  https://d20vrrgs8k4bvw.cloudfront.net/images/d...  nanodegree   \n",
       "\n",
       "                          Name  \\\n",
       "0    Data Engineering with AWS   \n",
       "1  Introduction to Programming   \n",
       "2                          C++   \n",
       "3           Business Analytics   \n",
       "4                 Data Analyst   \n",
       "\n",
       "                                         description  \\\n",
       "0  Learn to design data models, build data wareho...   \n",
       "1  A first step for beginners towards careers in ...   \n",
       "2  Get hands-on experience building five real-wor...   \n",
       "3  Gain foundational data skills like analyzing d...   \n",
       "4  Use Python, SQL, and statistics to uncover ins...   \n",
       "\n",
       "                                        skills learn  \\\n",
       "0  AWS Glue,  Amazon S3,  AWS Data Warehouse,  Re...   \n",
       "1  Front-End Development Basics,  HTML,  CSS,  Py...   \n",
       "2  Data Structures,  Algorithms,  Memory Manageme...   \n",
       "3  Excel/Spreadsheets,  SQL,  Data Visualization,...   \n",
       "4  Data Wrangling,  Matplotlib,  Bootstrapping,  ...   \n",
       "\n",
       "                                      pre-requisites    Difficulty  duration  \\\n",
       "0  Intermediate Python, intermediate SQL & comman...  intermediate  4 Months   \n",
       "1                        No coding experience needed      beginner  4 Months   \n",
       "2                           Intermediate Programming  intermediate  4 Months   \n",
       "3                                               None      beginner  3 Months   \n",
       "4                                       Python & SQL  intermediate  4 Months   \n",
       "\n",
       "      rating       reviews provider  \n",
       "0  4.6 stars  1808 reviews      NaN  \n",
       "1  4.7 stars  3865 reviews      NaN  \n",
       "2  4.5 stars  1128 reviews      NaN  \n",
       "3  4.8 stars  2660 reviews     Mode  \n",
       "4  4.6 stars  3498 reviews   Kaggle  "
      ]
     },
     "execution_count": 170,
     "metadata": {},
     "output_type": "execute_result"
    }
   ],
   "source": [
    "df.head()"
   ]
  },
  {
   "cell_type": "code",
   "execution_count": 171,
   "metadata": {},
   "outputs": [
    {
     "name": "stdout",
     "output_type": "stream",
     "text": [
      "<class 'pandas.core.frame.DataFrame'>\n",
      "RangeIndex: 263 entries, 0 to 262\n",
      "Data columns (total 12 columns):\n",
      " #   Column          Non-Null Count  Dtype \n",
      "---  ------          --------------  ----- \n",
      " 0   URL             263 non-null    object\n",
      " 1   img             263 non-null    object\n",
      " 2   type            263 non-null    object\n",
      " 3   Name            263 non-null    object\n",
      " 4   description     257 non-null    object\n",
      " 5   skills learn    251 non-null    object\n",
      " 6   pre-requisites  76 non-null     object\n",
      " 7   Difficulty      263 non-null    object\n",
      " 8   duration        259 non-null    object\n",
      " 9   rating          62 non-null     object\n",
      " 10  reviews         62 non-null     object\n",
      " 11  provider        134 non-null    object\n",
      "dtypes: object(12)\n",
      "memory usage: 24.8+ KB\n"
     ]
    }
   ],
   "source": [
    "df.info()"
   ]
  },
  {
   "cell_type": "markdown",
   "metadata": {},
   "source": [
    "### Get url,name"
   ]
  },
  {
   "cell_type": "code",
   "execution_count": 172,
   "metadata": {},
   "outputs": [
    {
     "data": {
      "text/plain": [
       "263"
      ]
     },
     "execution_count": 172,
     "metadata": {},
     "output_type": "execute_result"
    }
   ],
   "source": [
    "len(df.URL.unique())"
   ]
  },
  {
   "cell_type": "code",
   "execution_count": 173,
   "metadata": {},
   "outputs": [],
   "source": [
    "data_name=df['Name']\n",
    "data_url=df['URL']"
   ]
  },
  {
   "cell_type": "markdown",
   "metadata": {},
   "source": [
    "### Get description"
   ]
  },
  {
   "cell_type": "code",
   "execution_count": 174,
   "metadata": {},
   "outputs": [
    {
     "data": {
      "text/plain": [
       "6"
      ]
     },
     "execution_count": 174,
     "metadata": {},
     "output_type": "execute_result"
    }
   ],
   "source": [
    "df['description'].isna().sum()"
   ]
  },
  {
   "cell_type": "code",
   "execution_count": 175,
   "metadata": {},
   "outputs": [],
   "source": [
    "sdesc=df['description'].apply(lambda x: '' if pd.isna(x) else (x))\n",
    "ldesc=df['description'].apply(lambda x: '' if pd.isna(x) else (x))"
   ]
  },
  {
   "cell_type": "markdown",
   "metadata": {},
   "source": [
    "### Get category"
   ]
  },
  {
   "cell_type": "code",
   "execution_count": 176,
   "metadata": {},
   "outputs": [
    {
     "data": {
      "text/plain": [
       "0      AWS Glue,  Amazon S3,  AWS Data Warehouse,  Re...\n",
       "1      Front-End Development Basics,  HTML,  CSS,  Py...\n",
       "2      Data Structures,  Algorithms,  Memory Manageme...\n",
       "3      Excel/Spreadsheets,  SQL,  Data Visualization,...\n",
       "4      Data Wrangling,  Matplotlib,  Bootstrapping,  ...\n",
       "                             ...                        \n",
       "258    Interview questions, Common FE Questions, Whit...\n",
       "259    Interview practice, Common FS Questions, White...\n",
       "260    Interview practice, Swift, Data structures, Ca...\n",
       "261    Interview practice, Common iOS Questions, Whit...\n",
       "262    Interview practice, Common VR Questions, White...\n",
       "Name: skills learn, Length: 263, dtype: object"
      ]
     },
     "execution_count": 176,
     "metadata": {},
     "output_type": "execute_result"
    }
   ],
   "source": [
    "data_cat=df['skills learn'].apply(lambda x: '' if pd.isna(x) else (x))\n",
    "data_cat"
   ]
  },
  {
   "cell_type": "markdown",
   "metadata": {},
   "source": [
    "### Get difficulty"
   ]
  },
  {
   "cell_type": "code",
   "execution_count": 177,
   "metadata": {},
   "outputs": [
    {
     "data": {
      "text/plain": [
       "0"
      ]
     },
     "execution_count": 177,
     "metadata": {},
     "output_type": "execute_result"
    }
   ],
   "source": [
    "df.Difficulty.isna().sum()"
   ]
  },
  {
   "cell_type": "code",
   "execution_count": 178,
   "metadata": {},
   "outputs": [
    {
     "data": {
      "text/plain": [
       "array(['intermediate', 'beginner', 'advanced'], dtype=object)"
      ]
     },
     "execution_count": 178,
     "metadata": {},
     "output_type": "execute_result"
    }
   ],
   "source": [
    "df.Difficulty.unique()"
   ]
  },
  {
   "cell_type": "code",
   "execution_count": 179,
   "metadata": {},
   "outputs": [],
   "source": [
    "def conv_diff(strs):\n",
    "  if strs == 'beginner':\n",
    "    diff = 0\n",
    "  elif strs == 'intermediate':\n",
    "    diff = 1\n",
    "  else:\n",
    "    diff = 2\n",
    "  return diff\n",
    "\n",
    "data_diff = df['Difficulty'].apply(lambda x: conv_diff(x))"
   ]
  },
  {
   "cell_type": "code",
   "execution_count": 180,
   "metadata": {},
   "outputs": [
    {
     "data": {
      "text/plain": [
       "263"
      ]
     },
     "execution_count": 180,
     "metadata": {},
     "output_type": "execute_result"
    }
   ],
   "source": [
    "len(data_diff)"
   ]
  },
  {
   "cell_type": "markdown",
   "metadata": {},
   "source": [
    "### Get duration\n"
   ]
  },
  {
   "cell_type": "code",
   "execution_count": 181,
   "metadata": {},
   "outputs": [
    {
     "data": {
      "text/plain": [
       "4"
      ]
     },
     "execution_count": 181,
     "metadata": {},
     "output_type": "execute_result"
    }
   ],
   "source": [
    "df.duration.isna().sum()"
   ]
  },
  {
   "cell_type": "code",
   "execution_count": 182,
   "metadata": {},
   "outputs": [
    {
     "data": {
      "text/plain": [
       "array(['4 Months', '3 Months', '6 Months', '5 Months', '2 Months',\n",
       "       '1 Month', '2 Weeks', '3 Weeks', '1 Week', '10 Hours', '5 Weeks',\n",
       "       '4 Weeks', '6 Weeks', '16 Weeks', '8 Weeks', '1 Day', nan,\n",
       "       '3 Days', '2 Days', '7 Days', '6 Days', '1 Hour', '7 Weeks',\n",
       "       '10 Weeks'], dtype=object)"
      ]
     },
     "execution_count": 182,
     "metadata": {},
     "output_type": "execute_result"
    }
   ],
   "source": [
    "df.duration.unique()"
   ]
  },
  {
   "cell_type": "code",
   "execution_count": 183,
   "metadata": {},
   "outputs": [],
   "source": [
    "def extract_hr(strDur):\n",
    "    \n",
    "    strDur=strDur.lower()\n",
    "    \n",
    "    x=''\n",
    "    if 'hour' in strDur:\n",
    "        x = int(re.sub(\"\\D\", \"\", strDur))\n",
    "        return x\n",
    "    if 'days' in strDur or 'day' in strDur:\n",
    "        x = int(re.sub(\"\\D\", \"\", strDur))\n",
    "        return (x*24)\n",
    "    if 'weeks' in strDur or 'week' in strDur:\n",
    "        x = int(re.sub(\"\\D\", \"\", strDur))\n",
    "        return (x*7*24)\n",
    "    if 'month' in strDur or 'months' in strDur:\n",
    "        x = int(re.sub(\"\\D\", \"\", strDur))\n",
    "        return (x*30*24)\n",
    "    \n",
    "    return x\n",
    "    \n",
    "\n"
   ]
  },
  {
   "cell_type": "code",
   "execution_count": 184,
   "metadata": {},
   "outputs": [
    {
     "data": {
      "text/html": [
       "<div>\n",
       "<style scoped>\n",
       "    .dataframe tbody tr th:only-of-type {\n",
       "        vertical-align: middle;\n",
       "    }\n",
       "\n",
       "    .dataframe tbody tr th {\n",
       "        vertical-align: top;\n",
       "    }\n",
       "\n",
       "    .dataframe thead th {\n",
       "        text-align: right;\n",
       "    }\n",
       "</style>\n",
       "<table border=\"1\" class=\"dataframe\">\n",
       "  <thead>\n",
       "    <tr style=\"text-align: right;\">\n",
       "      <th></th>\n",
       "      <th>URL</th>\n",
       "      <th>img</th>\n",
       "      <th>type</th>\n",
       "      <th>Name</th>\n",
       "      <th>description</th>\n",
       "      <th>skills learn</th>\n",
       "      <th>pre-requisites</th>\n",
       "      <th>Difficulty</th>\n",
       "      <th>duration</th>\n",
       "      <th>rating</th>\n",
       "      <th>reviews</th>\n",
       "      <th>provider</th>\n",
       "    </tr>\n",
       "  </thead>\n",
       "  <tbody>\n",
       "    <tr>\n",
       "      <th>0</th>\n",
       "      <td>https://www.udacity.com/course/data-engineer-n...</td>\n",
       "      <td>https://www.udacity.com/www-proxy/contentful/a...</td>\n",
       "      <td>nanodegree</td>\n",
       "      <td>Data Engineering with AWS</td>\n",
       "      <td>Learn to design data models, build data wareho...</td>\n",
       "      <td>AWS Glue,  Amazon S3,  AWS Data Warehouse,  Re...</td>\n",
       "      <td>Intermediate Python, intermediate SQL &amp; comman...</td>\n",
       "      <td>intermediate</td>\n",
       "      <td>2880.0</td>\n",
       "      <td>4.6 stars</td>\n",
       "      <td>1808 reviews</td>\n",
       "      <td>NaN</td>\n",
       "    </tr>\n",
       "    <tr>\n",
       "      <th>1</th>\n",
       "      <td>https://www.udacity.com/course/intro-to-progra...</td>\n",
       "      <td>https://d20vrrgs8k4bvw.cloudfront.net/images/d...</td>\n",
       "      <td>nanodegree</td>\n",
       "      <td>Introduction to Programming</td>\n",
       "      <td>A first step for beginners towards careers in ...</td>\n",
       "      <td>Front-End Development Basics,  HTML,  CSS,  Py...</td>\n",
       "      <td>No coding experience needed</td>\n",
       "      <td>beginner</td>\n",
       "      <td>2880.0</td>\n",
       "      <td>4.7 stars</td>\n",
       "      <td>3865 reviews</td>\n",
       "      <td>NaN</td>\n",
       "    </tr>\n",
       "    <tr>\n",
       "      <th>2</th>\n",
       "      <td>https://www.udacity.com/course/c-plus-plus-nan...</td>\n",
       "      <td>https://d20vrrgs8k4bvw.cloudfront.net/images/d...</td>\n",
       "      <td>nanodegree</td>\n",
       "      <td>C++</td>\n",
       "      <td>Get hands-on experience building five real-wor...</td>\n",
       "      <td>Data Structures,  Algorithms,  Memory Manageme...</td>\n",
       "      <td>Intermediate Programming</td>\n",
       "      <td>intermediate</td>\n",
       "      <td>2880.0</td>\n",
       "      <td>4.5 stars</td>\n",
       "      <td>1128 reviews</td>\n",
       "      <td>NaN</td>\n",
       "    </tr>\n",
       "    <tr>\n",
       "      <th>3</th>\n",
       "      <td>https://www.udacity.com/course/business-analyt...</td>\n",
       "      <td>https://d20vrrgs8k4bvw.cloudfront.net/images/d...</td>\n",
       "      <td>nanodegree</td>\n",
       "      <td>Business Analytics</td>\n",
       "      <td>Gain foundational data skills like analyzing d...</td>\n",
       "      <td>Excel/Spreadsheets,  SQL,  Data Visualization,...</td>\n",
       "      <td>None</td>\n",
       "      <td>beginner</td>\n",
       "      <td>2160.0</td>\n",
       "      <td>4.8 stars</td>\n",
       "      <td>2660 reviews</td>\n",
       "      <td>Mode</td>\n",
       "    </tr>\n",
       "    <tr>\n",
       "      <th>4</th>\n",
       "      <td>https://www.udacity.com/course/data-analyst-na...</td>\n",
       "      <td>https://d20vrrgs8k4bvw.cloudfront.net/images/d...</td>\n",
       "      <td>nanodegree</td>\n",
       "      <td>Data Analyst</td>\n",
       "      <td>Use Python, SQL, and statistics to uncover ins...</td>\n",
       "      <td>Data Wrangling,  Matplotlib,  Bootstrapping,  ...</td>\n",
       "      <td>Python &amp; SQL</td>\n",
       "      <td>intermediate</td>\n",
       "      <td>2880.0</td>\n",
       "      <td>4.6 stars</td>\n",
       "      <td>3498 reviews</td>\n",
       "      <td>Kaggle</td>\n",
       "    </tr>\n",
       "  </tbody>\n",
       "</table>\n",
       "</div>"
      ],
      "text/plain": [
       "                                                 URL  \\\n",
       "0  https://www.udacity.com/course/data-engineer-n...   \n",
       "1  https://www.udacity.com/course/intro-to-progra...   \n",
       "2  https://www.udacity.com/course/c-plus-plus-nan...   \n",
       "3  https://www.udacity.com/course/business-analyt...   \n",
       "4  https://www.udacity.com/course/data-analyst-na...   \n",
       "\n",
       "                                                 img        type  \\\n",
       "0  https://www.udacity.com/www-proxy/contentful/a...  nanodegree   \n",
       "1  https://d20vrrgs8k4bvw.cloudfront.net/images/d...  nanodegree   \n",
       "2  https://d20vrrgs8k4bvw.cloudfront.net/images/d...  nanodegree   \n",
       "3  https://d20vrrgs8k4bvw.cloudfront.net/images/d...  nanodegree   \n",
       "4  https://d20vrrgs8k4bvw.cloudfront.net/images/d...  nanodegree   \n",
       "\n",
       "                          Name  \\\n",
       "0    Data Engineering with AWS   \n",
       "1  Introduction to Programming   \n",
       "2                          C++   \n",
       "3           Business Analytics   \n",
       "4                 Data Analyst   \n",
       "\n",
       "                                         description  \\\n",
       "0  Learn to design data models, build data wareho...   \n",
       "1  A first step for beginners towards careers in ...   \n",
       "2  Get hands-on experience building five real-wor...   \n",
       "3  Gain foundational data skills like analyzing d...   \n",
       "4  Use Python, SQL, and statistics to uncover ins...   \n",
       "\n",
       "                                        skills learn  \\\n",
       "0  AWS Glue,  Amazon S3,  AWS Data Warehouse,  Re...   \n",
       "1  Front-End Development Basics,  HTML,  CSS,  Py...   \n",
       "2  Data Structures,  Algorithms,  Memory Manageme...   \n",
       "3  Excel/Spreadsheets,  SQL,  Data Visualization,...   \n",
       "4  Data Wrangling,  Matplotlib,  Bootstrapping,  ...   \n",
       "\n",
       "                                      pre-requisites    Difficulty  duration  \\\n",
       "0  Intermediate Python, intermediate SQL & comman...  intermediate    2880.0   \n",
       "1                        No coding experience needed      beginner    2880.0   \n",
       "2                           Intermediate Programming  intermediate    2880.0   \n",
       "3                                               None      beginner    2160.0   \n",
       "4                                       Python & SQL  intermediate    2880.0   \n",
       "\n",
       "      rating       reviews provider  \n",
       "0  4.6 stars  1808 reviews      NaN  \n",
       "1  4.7 stars  3865 reviews      NaN  \n",
       "2  4.5 stars  1128 reviews      NaN  \n",
       "3  4.8 stars  2660 reviews     Mode  \n",
       "4  4.6 stars  3498 reviews   Kaggle  "
      ]
     },
     "execution_count": 184,
     "metadata": {},
     "output_type": "execute_result"
    }
   ],
   "source": [
    "df['duration']=df.duration.apply(lambda x : np.nan if pd.isna(x) else extract_hr(x))\n",
    "df.head()"
   ]
  },
  {
   "cell_type": "code",
   "execution_count": 185,
   "metadata": {},
   "outputs": [
    {
     "data": {
      "text/plain": [
       "4"
      ]
     },
     "execution_count": 185,
     "metadata": {},
     "output_type": "execute_result"
    }
   ],
   "source": [
    "df.duration.isna().sum()"
   ]
  },
  {
   "cell_type": "code",
   "execution_count": 186,
   "metadata": {},
   "outputs": [],
   "source": [
    "meanval = np.mean(df.duration)\n",
    "df.duration.fillna(meanval,inplace = True)"
   ]
  },
  {
   "cell_type": "code",
   "execution_count": 187,
   "metadata": {},
   "outputs": [
    {
     "data": {
      "text/plain": [
       "0"
      ]
     },
     "execution_count": 187,
     "metadata": {},
     "output_type": "execute_result"
    }
   ],
   "source": [
    "df.duration.isna().sum()"
   ]
  },
  {
   "cell_type": "code",
   "execution_count": 188,
   "metadata": {},
   "outputs": [],
   "source": [
    "# Convert course duration in hours to categorical\n",
    "\n",
    "def conv_dur(dur):\n",
    "  if pd.isna(dur):\n",
    "    cat_dur = np.nan\n",
    "  elif (dur > 0) and (dur <= 10):\n",
    "    cat_dur = 0\n",
    "  elif (dur > 10) and (dur <= 50):\n",
    "    cat_dur = 1\n",
    "  else:\n",
    "    cat_dur = 2\n",
    "  return cat_dur"
   ]
  },
  {
   "cell_type": "code",
   "execution_count": 189,
   "metadata": {},
   "outputs": [
    {
     "data": {
      "text/plain": [
       "0      2\n",
       "1      2\n",
       "2      2\n",
       "3      2\n",
       "4      2\n",
       "      ..\n",
       "258    2\n",
       "259    2\n",
       "260    2\n",
       "261    2\n",
       "262    2\n",
       "Name: duration, Length: 263, dtype: int64"
      ]
     },
     "execution_count": 189,
     "metadata": {},
     "output_type": "execute_result"
    }
   ],
   "source": [
    "data_dur=df['duration'].apply(lambda x: conv_dur(x))\n",
    "data_dur"
   ]
  },
  {
   "cell_type": "markdown",
   "metadata": {},
   "source": [
    "### Get ratings"
   ]
  },
  {
   "cell_type": "code",
   "execution_count": 190,
   "metadata": {},
   "outputs": [
    {
     "data": {
      "text/plain": [
       "201"
      ]
     },
     "execution_count": 190,
     "metadata": {},
     "output_type": "execute_result"
    }
   ],
   "source": [
    "df.rating.isna().sum()"
   ]
  },
  {
   "cell_type": "code",
   "execution_count": 191,
   "metadata": {},
   "outputs": [
    {
     "data": {
      "text/plain": [
       "array(['4.6 stars', '4.7 stars', '4.5 stars', '4.8 stars', nan,\n",
       "       '4.4 stars', '4.3 stars'], dtype=object)"
      ]
     },
     "execution_count": 191,
     "metadata": {},
     "output_type": "execute_result"
    }
   ],
   "source": [
    "df.rating.unique()"
   ]
  },
  {
   "cell_type": "code",
   "execution_count": 192,
   "metadata": {},
   "outputs": [],
   "source": [
    "def get_rat(rating):\n",
    "    num = float(re.findall(r'\\d+[.]*\\d*',rating)[0])\n",
    "    return num\n",
    "\n",
    "    "
   ]
  },
  {
   "cell_type": "code",
   "execution_count": 193,
   "metadata": {},
   "outputs": [],
   "source": [
    "df.rating =df.rating.apply(lambda x : np.nan if pd.isna(x) else get_rat(x))"
   ]
  },
  {
   "cell_type": "code",
   "execution_count": 194,
   "metadata": {},
   "outputs": [
    {
     "name": "stdout",
     "output_type": "stream",
     "text": [
      "4.6\n"
     ]
    }
   ],
   "source": [
    "meanval=df.rating.median()\n",
    "print(meanval)\n",
    "df.rating.fillna(meanval,inplace = True)"
   ]
  },
  {
   "cell_type": "code",
   "execution_count": 195,
   "metadata": {},
   "outputs": [
    {
     "data": {
      "text/plain": [
       "0"
      ]
     },
     "execution_count": 195,
     "metadata": {},
     "output_type": "execute_result"
    }
   ],
   "source": [
    "df.rating.isna().sum()"
   ]
  },
  {
   "cell_type": "code",
   "execution_count": 196,
   "metadata": {},
   "outputs": [],
   "source": [
    "ratings=df.rating"
   ]
  },
  {
   "cell_type": "markdown",
   "metadata": {},
   "source": [
    "### get img url"
   ]
  },
  {
   "cell_type": "code",
   "execution_count": 197,
   "metadata": {},
   "outputs": [
    {
     "name": "stdout",
     "output_type": "stream",
     "text": [
      "<class 'pandas.core.frame.DataFrame'>\n",
      "RangeIndex: 263 entries, 0 to 262\n",
      "Data columns (total 12 columns):\n",
      " #   Column          Non-Null Count  Dtype  \n",
      "---  ------          --------------  -----  \n",
      " 0   URL             263 non-null    object \n",
      " 1   img             263 non-null    object \n",
      " 2   type            263 non-null    object \n",
      " 3   Name            263 non-null    object \n",
      " 4   description     257 non-null    object \n",
      " 5   skills learn    251 non-null    object \n",
      " 6   pre-requisites  76 non-null     object \n",
      " 7   Difficulty      263 non-null    object \n",
      " 8   duration        263 non-null    float64\n",
      " 9   rating          263 non-null    float64\n",
      " 10  reviews         62 non-null     object \n",
      " 11  provider        134 non-null    object \n",
      "dtypes: float64(2), object(10)\n",
      "memory usage: 24.8+ KB\n"
     ]
    }
   ],
   "source": [
    "df.info()"
   ]
  },
  {
   "cell_type": "code",
   "execution_count": 198,
   "metadata": {},
   "outputs": [
    {
     "data": {
      "text/plain": [
       "'https://www.udacity.com/www-proxy/contentful/assets/2y9b3o528xhq/SzLy0ZloqObm1D7fuJEPf/bead7f6394816605e6e5f59acd47b4c1/catalog-card_2x__1_.jpg'"
      ]
     },
     "execution_count": 198,
     "metadata": {},
     "output_type": "execute_result"
    }
   ],
   "source": [
    "data_img=df['img']\n",
    "data_img[0]"
   ]
  },
  {
   "cell_type": "markdown",
   "metadata": {},
   "source": [
    "### get reviews"
   ]
  },
  {
   "cell_type": "code",
   "execution_count": 199,
   "metadata": {},
   "outputs": [
    {
     "data": {
      "text/plain": [
       "0      1808 reviews\n",
       "1      3865 reviews\n",
       "2      1128 reviews\n",
       "3      2660 reviews\n",
       "4      3498 reviews\n",
       "           ...     \n",
       "258             NaN\n",
       "259             NaN\n",
       "260             NaN\n",
       "261             NaN\n",
       "262             NaN\n",
       "Name: reviews, Length: 263, dtype: object"
      ]
     },
     "execution_count": 199,
     "metadata": {},
     "output_type": "execute_result"
    }
   ],
   "source": [
    "df.reviews"
   ]
  },
  {
   "cell_type": "code",
   "execution_count": 200,
   "metadata": {},
   "outputs": [
    {
     "data": {
      "text/plain": [
       "201"
      ]
     },
     "execution_count": 200,
     "metadata": {},
     "output_type": "execute_result"
    }
   ],
   "source": [
    "df.reviews.isna().sum()"
   ]
  },
  {
   "cell_type": "code",
   "execution_count": 201,
   "metadata": {},
   "outputs": [],
   "source": [
    "# replacing values with 'recent views' with integer number \n",
    "def get_enrolls(strs):\n",
    "  if isinstance(strs, str) and 'reviews' in strs:\n",
    "    num = re.findall(r'[0-9]+',strs)[0]\n",
    "    # dividing the number of views by 10 (assume 1 in 10 ppl take the course)\n",
    "    num = int(num) \n",
    "    return int(num)\n",
    "\n",
    "df['No. of Students Enrolled'] = df['reviews'].apply(lambda x:get_enrolls(x))\n",
    "medianEnrolled = df['No. of Students Enrolled'].median()\n",
    "df['No. of Students Enrolled'].fillna(medianEnrolled,inplace = True)"
   ]
  },
  {
   "cell_type": "code",
   "execution_count": 202,
   "metadata": {},
   "outputs": [
    {
     "data": {
      "text/plain": [
       "263"
      ]
     },
     "execution_count": 202,
     "metadata": {},
     "output_type": "execute_result"
    }
   ],
   "source": [
    "df['No. of Students Enrolled'].isna().sum()\n",
    "len(df['No. of Students Enrolled'])"
   ]
  },
  {
   "cell_type": "code",
   "execution_count": 203,
   "metadata": {},
   "outputs": [],
   "source": [
    "numsenroll=df['No. of Students Enrolled']"
   ]
  },
  {
   "cell_type": "markdown",
   "metadata": {},
   "source": [
    "### get provider"
   ]
  },
  {
   "cell_type": "code",
   "execution_count": 204,
   "metadata": {},
   "outputs": [
    {
     "data": {
      "text/plain": [
       "129"
      ]
     },
     "execution_count": 204,
     "metadata": {},
     "output_type": "execute_result"
    }
   ],
   "source": [
    "df.provider.isna().sum()"
   ]
  },
  {
   "cell_type": "code",
   "execution_count": 205,
   "metadata": {},
   "outputs": [
    {
     "data": {
      "text/plain": [
       "array([nan, 'Mode', 'Kaggle', 'WorldQuant',\n",
       "       'Bertelsmann, Figure Eight, IBM Watson, Insight, Kaggle, Starbucks',\n",
       "       'Waymo, Mercedes-Benz', 'Google', 'Appen',\n",
       "       'Amazon Alexa, IBM Watson',\n",
       "       'Unity, Nvidia Deep Learning Institute',\n",
       "       'Affectiva, Nvidia Deep Learning Institute', 'AWS', 'BMW',\n",
       "       'ThoughtWorks', 'Mercedes-Benz', 'SecurityScorecard', 'SUSE',\n",
       "       'Kaggle, AWS', 'Microsoft', 'Alteryx', 'Google Cloud',\n",
       "       'Georgia Institute of Technology', 'Amazon Web Services',\n",
       "       'Insight', 'MongoDB', 'Amazon Appstore for Android', 'Buddybuild',\n",
       "       'Google VR', 'Venmo, Lyft', 'Autodesk',\n",
       "       'San Jose State University', 'Facebook for Developers', 'WeChat',\n",
       "       'Salesforce', 'Upwork', 'Microsoft Azure', 'Facebook AI', 'AT&T',\n",
       "       'Zipfian', 'Cloudera', 'Twitter', 'Facebook', 'TensorFlow Lite',\n",
       "       'TensorFlow', 'AWS DeepRacer', 'Oracle', 'Baidu',\n",
       "       'Grow With Google'], dtype=object)"
      ]
     },
     "execution_count": 205,
     "metadata": {},
     "output_type": "execute_result"
    }
   ],
   "source": [
    "df.provider.unique()"
   ]
  },
  {
   "cell_type": "code",
   "execution_count": 206,
   "metadata": {},
   "outputs": [],
   "source": [
    "df.provider=df.provider.apply(lambda x: 'Udacity' if pd.isna(x) else x)"
   ]
  },
  {
   "cell_type": "code",
   "execution_count": 207,
   "metadata": {},
   "outputs": [
    {
     "data": {
      "text/plain": [
       "0"
      ]
     },
     "execution_count": 207,
     "metadata": {},
     "output_type": "execute_result"
    }
   ],
   "source": [
    "df.provider.isna().sum()"
   ]
  },
  {
   "cell_type": "code",
   "execution_count": 208,
   "metadata": {},
   "outputs": [],
   "source": [
    "data_provide=df.provider"
   ]
  },
  {
   "cell_type": "markdown",
   "metadata": {},
   "source": [
    "### Combine data"
   ]
  },
  {
   "cell_type": "code",
   "execution_count": 209,
   "metadata": {},
   "outputs": [
    {
     "data": {
      "text/html": [
       "<div>\n",
       "<style scoped>\n",
       "    .dataframe tbody tr th:only-of-type {\n",
       "        vertical-align: middle;\n",
       "    }\n",
       "\n",
       "    .dataframe tbody tr th {\n",
       "        vertical-align: top;\n",
       "    }\n",
       "\n",
       "    .dataframe thead th {\n",
       "        text-align: right;\n",
       "    }\n",
       "</style>\n",
       "<table border=\"1\" class=\"dataframe\">\n",
       "  <thead>\n",
       "    <tr style=\"text-align: right;\">\n",
       "      <th></th>\n",
       "      <th>Course Name</th>\n",
       "      <th>URL</th>\n",
       "      <th>Categories</th>\n",
       "      <th>Short Description</th>\n",
       "      <th>Long Description</th>\n",
       "      <th>Difficulty</th>\n",
       "      <th>Duration</th>\n",
       "      <th>Free Option</th>\n",
       "      <th>Number of Enrolled</th>\n",
       "      <th>Rating</th>\n",
       "      <th>Paid Option</th>\n",
       "      <th>Language</th>\n",
       "      <th>Subtitle Language</th>\n",
       "      <th>Platform</th>\n",
       "      <th>Provider</th>\n",
       "      <th>Image URL</th>\n",
       "    </tr>\n",
       "  </thead>\n",
       "  <tbody>\n",
       "  </tbody>\n",
       "</table>\n",
       "</div>"
      ],
      "text/plain": [
       "Empty DataFrame\n",
       "Columns: [Course Name, URL, Categories, Short Description, Long Description, Difficulty, Duration, Free Option, Number of Enrolled, Rating, Paid Option, Language, Subtitle Language, Platform, Provider, Image URL]\n",
       "Index: []"
      ]
     },
     "execution_count": 209,
     "metadata": {},
     "output_type": "execute_result"
    }
   ],
   "source": [
    "df1 = pd.DataFrame(columns = ['Course Name', 'URL', 'Categories', 'Short Description', 'Long Description', 'Difficulty', 'Duration', 'Free Option', 'Number of Enrolled', 'Rating', 'Paid Option', 'Language', 'Subtitle Language', 'Platform', 'Provider', 'Image URL'])\n",
    "df1"
   ]
  },
  {
   "cell_type": "code",
   "execution_count": 210,
   "metadata": {},
   "outputs": [],
   "source": [
    "df1['Course Name']=data_name\n",
    "df1['Categories']= data_cat\n",
    "df1['URL']=data_url\n",
    "df1['Provider']=data_provide\n",
    "df1['Short Description']=sdesc\n",
    "df1['Long Description']=ldesc\n",
    "df1['Difficulty']= data_diff\n",
    "df1['Duration']=data_dur\n",
    "df1['Rating']=ratings\n",
    "df1['Number of Enrolled']=numsenroll\n",
    "df1['Platform']='Udacity'\n",
    "df1['Free Option']=0\n",
    "df1['Paid Option']=' Subscription ₹22849 per month'\n",
    "df1['Language']='English'\n",
    "df1['Subtitle Language']='English'\n",
    "df1['Image URL']=data_img"
   ]
  },
  {
   "cell_type": "code",
   "execution_count": 211,
   "metadata": {},
   "outputs": [
    {
     "data": {
      "text/html": [
       "<div>\n",
       "<style scoped>\n",
       "    .dataframe tbody tr th:only-of-type {\n",
       "        vertical-align: middle;\n",
       "    }\n",
       "\n",
       "    .dataframe tbody tr th {\n",
       "        vertical-align: top;\n",
       "    }\n",
       "\n",
       "    .dataframe thead th {\n",
       "        text-align: right;\n",
       "    }\n",
       "</style>\n",
       "<table border=\"1\" class=\"dataframe\">\n",
       "  <thead>\n",
       "    <tr style=\"text-align: right;\">\n",
       "      <th></th>\n",
       "      <th>Course Name</th>\n",
       "      <th>URL</th>\n",
       "      <th>Categories</th>\n",
       "      <th>Short Description</th>\n",
       "      <th>Long Description</th>\n",
       "      <th>Difficulty</th>\n",
       "      <th>Duration</th>\n",
       "      <th>Free Option</th>\n",
       "      <th>Number of Enrolled</th>\n",
       "      <th>Rating</th>\n",
       "      <th>Paid Option</th>\n",
       "      <th>Language</th>\n",
       "      <th>Subtitle Language</th>\n",
       "      <th>Platform</th>\n",
       "      <th>Provider</th>\n",
       "      <th>Image URL</th>\n",
       "    </tr>\n",
       "  </thead>\n",
       "  <tbody>\n",
       "    <tr>\n",
       "      <th>0</th>\n",
       "      <td>Data Engineering with AWS</td>\n",
       "      <td>https://www.udacity.com/course/data-engineer-n...</td>\n",
       "      <td>AWS Glue,  Amazon S3,  AWS Data Warehouse,  Re...</td>\n",
       "      <td>Learn to design data models, build data wareho...</td>\n",
       "      <td>Learn to design data models, build data wareho...</td>\n",
       "      <td>1</td>\n",
       "      <td>2</td>\n",
       "      <td>0</td>\n",
       "      <td>1808.0</td>\n",
       "      <td>4.6</td>\n",
       "      <td>Subscription ₹22849 per month</td>\n",
       "      <td>English</td>\n",
       "      <td>English</td>\n",
       "      <td>Udacity</td>\n",
       "      <td>Udacity</td>\n",
       "      <td>https://www.udacity.com/www-proxy/contentful/a...</td>\n",
       "    </tr>\n",
       "    <tr>\n",
       "      <th>1</th>\n",
       "      <td>Introduction to Programming</td>\n",
       "      <td>https://www.udacity.com/course/intro-to-progra...</td>\n",
       "      <td>Front-End Development Basics,  HTML,  CSS,  Py...</td>\n",
       "      <td>A first step for beginners towards careers in ...</td>\n",
       "      <td>A first step for beginners towards careers in ...</td>\n",
       "      <td>0</td>\n",
       "      <td>2</td>\n",
       "      <td>0</td>\n",
       "      <td>3865.0</td>\n",
       "      <td>4.7</td>\n",
       "      <td>Subscription ₹22849 per month</td>\n",
       "      <td>English</td>\n",
       "      <td>English</td>\n",
       "      <td>Udacity</td>\n",
       "      <td>Udacity</td>\n",
       "      <td>https://d20vrrgs8k4bvw.cloudfront.net/images/d...</td>\n",
       "    </tr>\n",
       "    <tr>\n",
       "      <th>2</th>\n",
       "      <td>C++</td>\n",
       "      <td>https://www.udacity.com/course/c-plus-plus-nan...</td>\n",
       "      <td>Data Structures,  Algorithms,  Memory Manageme...</td>\n",
       "      <td>Get hands-on experience building five real-wor...</td>\n",
       "      <td>Get hands-on experience building five real-wor...</td>\n",
       "      <td>1</td>\n",
       "      <td>2</td>\n",
       "      <td>0</td>\n",
       "      <td>1128.0</td>\n",
       "      <td>4.5</td>\n",
       "      <td>Subscription ₹22849 per month</td>\n",
       "      <td>English</td>\n",
       "      <td>English</td>\n",
       "      <td>Udacity</td>\n",
       "      <td>Udacity</td>\n",
       "      <td>https://d20vrrgs8k4bvw.cloudfront.net/images/d...</td>\n",
       "    </tr>\n",
       "    <tr>\n",
       "      <th>3</th>\n",
       "      <td>Business Analytics</td>\n",
       "      <td>https://www.udacity.com/course/business-analyt...</td>\n",
       "      <td>Excel/Spreadsheets,  SQL,  Data Visualization,...</td>\n",
       "      <td>Gain foundational data skills like analyzing d...</td>\n",
       "      <td>Gain foundational data skills like analyzing d...</td>\n",
       "      <td>0</td>\n",
       "      <td>2</td>\n",
       "      <td>0</td>\n",
       "      <td>2660.0</td>\n",
       "      <td>4.8</td>\n",
       "      <td>Subscription ₹22849 per month</td>\n",
       "      <td>English</td>\n",
       "      <td>English</td>\n",
       "      <td>Udacity</td>\n",
       "      <td>Mode</td>\n",
       "      <td>https://d20vrrgs8k4bvw.cloudfront.net/images/d...</td>\n",
       "    </tr>\n",
       "    <tr>\n",
       "      <th>4</th>\n",
       "      <td>Data Analyst</td>\n",
       "      <td>https://www.udacity.com/course/data-analyst-na...</td>\n",
       "      <td>Data Wrangling,  Matplotlib,  Bootstrapping,  ...</td>\n",
       "      <td>Use Python, SQL, and statistics to uncover ins...</td>\n",
       "      <td>Use Python, SQL, and statistics to uncover ins...</td>\n",
       "      <td>1</td>\n",
       "      <td>2</td>\n",
       "      <td>0</td>\n",
       "      <td>3498.0</td>\n",
       "      <td>4.6</td>\n",
       "      <td>Subscription ₹22849 per month</td>\n",
       "      <td>English</td>\n",
       "      <td>English</td>\n",
       "      <td>Udacity</td>\n",
       "      <td>Kaggle</td>\n",
       "      <td>https://d20vrrgs8k4bvw.cloudfront.net/images/d...</td>\n",
       "    </tr>\n",
       "  </tbody>\n",
       "</table>\n",
       "</div>"
      ],
      "text/plain": [
       "                   Course Name  \\\n",
       "0    Data Engineering with AWS   \n",
       "1  Introduction to Programming   \n",
       "2                          C++   \n",
       "3           Business Analytics   \n",
       "4                 Data Analyst   \n",
       "\n",
       "                                                 URL  \\\n",
       "0  https://www.udacity.com/course/data-engineer-n...   \n",
       "1  https://www.udacity.com/course/intro-to-progra...   \n",
       "2  https://www.udacity.com/course/c-plus-plus-nan...   \n",
       "3  https://www.udacity.com/course/business-analyt...   \n",
       "4  https://www.udacity.com/course/data-analyst-na...   \n",
       "\n",
       "                                          Categories  \\\n",
       "0  AWS Glue,  Amazon S3,  AWS Data Warehouse,  Re...   \n",
       "1  Front-End Development Basics,  HTML,  CSS,  Py...   \n",
       "2  Data Structures,  Algorithms,  Memory Manageme...   \n",
       "3  Excel/Spreadsheets,  SQL,  Data Visualization,...   \n",
       "4  Data Wrangling,  Matplotlib,  Bootstrapping,  ...   \n",
       "\n",
       "                                   Short Description  \\\n",
       "0  Learn to design data models, build data wareho...   \n",
       "1  A first step for beginners towards careers in ...   \n",
       "2  Get hands-on experience building five real-wor...   \n",
       "3  Gain foundational data skills like analyzing d...   \n",
       "4  Use Python, SQL, and statistics to uncover ins...   \n",
       "\n",
       "                                    Long Description  Difficulty  Duration  \\\n",
       "0  Learn to design data models, build data wareho...           1         2   \n",
       "1  A first step for beginners towards careers in ...           0         2   \n",
       "2  Get hands-on experience building five real-wor...           1         2   \n",
       "3  Gain foundational data skills like analyzing d...           0         2   \n",
       "4  Use Python, SQL, and statistics to uncover ins...           1         2   \n",
       "\n",
       "   Free Option  Number of Enrolled  Rating                     Paid Option  \\\n",
       "0            0              1808.0     4.6   Subscription ₹22849 per month   \n",
       "1            0              3865.0     4.7   Subscription ₹22849 per month   \n",
       "2            0              1128.0     4.5   Subscription ₹22849 per month   \n",
       "3            0              2660.0     4.8   Subscription ₹22849 per month   \n",
       "4            0              3498.0     4.6   Subscription ₹22849 per month   \n",
       "\n",
       "  Language Subtitle Language Platform Provider  \\\n",
       "0  English           English  Udacity  Udacity   \n",
       "1  English           English  Udacity  Udacity   \n",
       "2  English           English  Udacity  Udacity   \n",
       "3  English           English  Udacity     Mode   \n",
       "4  English           English  Udacity   Kaggle   \n",
       "\n",
       "                                           Image URL  \n",
       "0  https://www.udacity.com/www-proxy/contentful/a...  \n",
       "1  https://d20vrrgs8k4bvw.cloudfront.net/images/d...  \n",
       "2  https://d20vrrgs8k4bvw.cloudfront.net/images/d...  \n",
       "3  https://d20vrrgs8k4bvw.cloudfront.net/images/d...  \n",
       "4  https://d20vrrgs8k4bvw.cloudfront.net/images/d...  "
      ]
     },
     "execution_count": 211,
     "metadata": {},
     "output_type": "execute_result"
    }
   ],
   "source": [
    "df1.head()"
   ]
  },
  {
   "cell_type": "code",
   "execution_count": 212,
   "metadata": {},
   "outputs": [
    {
     "data": {
      "text/plain": [
       "262"
      ]
     },
     "execution_count": 212,
     "metadata": {},
     "output_type": "execute_result"
    }
   ],
   "source": [
    "\n",
    "len(df1['Course Name'].unique())"
   ]
  },
  {
   "cell_type": "code",
   "execution_count": 213,
   "metadata": {},
   "outputs": [
    {
     "data": {
      "text/plain": [
       "(263, 16)"
      ]
     },
     "execution_count": 213,
     "metadata": {},
     "output_type": "execute_result"
    }
   ],
   "source": [
    "df1.shape"
   ]
  },
  {
   "cell_type": "code",
   "execution_count": 214,
   "metadata": {},
   "outputs": [
    {
     "name": "stdout",
     "output_type": "stream",
     "text": [
      "<class 'pandas.core.frame.DataFrame'>\n",
      "RangeIndex: 263 entries, 0 to 262\n",
      "Data columns (total 16 columns):\n",
      " #   Column              Non-Null Count  Dtype  \n",
      "---  ------              --------------  -----  \n",
      " 0   Course Name         263 non-null    object \n",
      " 1   URL                 263 non-null    object \n",
      " 2   Categories          263 non-null    object \n",
      " 3   Short Description   263 non-null    object \n",
      " 4   Long Description    263 non-null    object \n",
      " 5   Difficulty          263 non-null    int64  \n",
      " 6   Duration            263 non-null    int64  \n",
      " 7   Free Option         263 non-null    int64  \n",
      " 8   Number of Enrolled  263 non-null    float64\n",
      " 9   Rating              263 non-null    float64\n",
      " 10  Paid Option         263 non-null    object \n",
      " 11  Language            263 non-null    object \n",
      " 12  Subtitle Language   263 non-null    object \n",
      " 13  Platform            263 non-null    object \n",
      " 14  Provider            263 non-null    object \n",
      " 15  Image URL           263 non-null    object \n",
      "dtypes: float64(2), int64(3), object(11)\n",
      "memory usage: 33.0+ KB\n"
     ]
    }
   ],
   "source": [
    "df1.info()"
   ]
  },
  {
   "cell_type": "code",
   "execution_count": 215,
   "metadata": {},
   "outputs": [
    {
     "data": {
      "text/html": [
       "<div>\n",
       "<style scoped>\n",
       "    .dataframe tbody tr th:only-of-type {\n",
       "        vertical-align: middle;\n",
       "    }\n",
       "\n",
       "    .dataframe tbody tr th {\n",
       "        vertical-align: top;\n",
       "    }\n",
       "\n",
       "    .dataframe thead th {\n",
       "        text-align: right;\n",
       "    }\n",
       "</style>\n",
       "<table border=\"1\" class=\"dataframe\">\n",
       "  <thead>\n",
       "    <tr style=\"text-align: right;\">\n",
       "      <th></th>\n",
       "      <th>Difficulty</th>\n",
       "      <th>Duration</th>\n",
       "      <th>Free Option</th>\n",
       "      <th>Number of Enrolled</th>\n",
       "      <th>Rating</th>\n",
       "    </tr>\n",
       "  </thead>\n",
       "  <tbody>\n",
       "    <tr>\n",
       "      <th>count</th>\n",
       "      <td>263.000000</td>\n",
       "      <td>263.000000</td>\n",
       "      <td>263.0</td>\n",
       "      <td>263.000000</td>\n",
       "      <td>263.000000</td>\n",
       "    </tr>\n",
       "    <tr>\n",
       "      <th>mean</th>\n",
       "      <td>0.916350</td>\n",
       "      <td>1.939163</td>\n",
       "      <td>0.0</td>\n",
       "      <td>445.241445</td>\n",
       "      <td>4.598859</td>\n",
       "    </tr>\n",
       "    <tr>\n",
       "      <th>std</th>\n",
       "      <td>0.642513</td>\n",
       "      <td>0.269482</td>\n",
       "      <td>0.0</td>\n",
       "      <td>440.391957</td>\n",
       "      <td>0.059568</td>\n",
       "    </tr>\n",
       "    <tr>\n",
       "      <th>min</th>\n",
       "      <td>0.000000</td>\n",
       "      <td>0.000000</td>\n",
       "      <td>0.0</td>\n",
       "      <td>50.000000</td>\n",
       "      <td>4.300000</td>\n",
       "    </tr>\n",
       "    <tr>\n",
       "      <th>25%</th>\n",
       "      <td>0.500000</td>\n",
       "      <td>2.000000</td>\n",
       "      <td>0.0</td>\n",
       "      <td>361.500000</td>\n",
       "      <td>4.600000</td>\n",
       "    </tr>\n",
       "    <tr>\n",
       "      <th>50%</th>\n",
       "      <td>1.000000</td>\n",
       "      <td>2.000000</td>\n",
       "      <td>0.0</td>\n",
       "      <td>361.500000</td>\n",
       "      <td>4.600000</td>\n",
       "    </tr>\n",
       "    <tr>\n",
       "      <th>75%</th>\n",
       "      <td>1.000000</td>\n",
       "      <td>2.000000</td>\n",
       "      <td>0.0</td>\n",
       "      <td>361.500000</td>\n",
       "      <td>4.600000</td>\n",
       "    </tr>\n",
       "    <tr>\n",
       "      <th>max</th>\n",
       "      <td>2.000000</td>\n",
       "      <td>2.000000</td>\n",
       "      <td>0.0</td>\n",
       "      <td>3865.000000</td>\n",
       "      <td>4.800000</td>\n",
       "    </tr>\n",
       "  </tbody>\n",
       "</table>\n",
       "</div>"
      ],
      "text/plain": [
       "       Difficulty    Duration  Free Option  Number of Enrolled      Rating\n",
       "count  263.000000  263.000000        263.0          263.000000  263.000000\n",
       "mean     0.916350    1.939163          0.0          445.241445    4.598859\n",
       "std      0.642513    0.269482          0.0          440.391957    0.059568\n",
       "min      0.000000    0.000000          0.0           50.000000    4.300000\n",
       "25%      0.500000    2.000000          0.0          361.500000    4.600000\n",
       "50%      1.000000    2.000000          0.0          361.500000    4.600000\n",
       "75%      1.000000    2.000000          0.0          361.500000    4.600000\n",
       "max      2.000000    2.000000          0.0         3865.000000    4.800000"
      ]
     },
     "execution_count": 215,
     "metadata": {},
     "output_type": "execute_result"
    }
   ],
   "source": [
    "df1.describe()"
   ]
  },
  {
   "cell_type": "code",
   "execution_count": 216,
   "metadata": {},
   "outputs": [],
   "source": [
    "df1.to_csv('Udacity_preprocess_done.csv', index=False, encoding='utf_8_sig')"
   ]
  }
 ],
 "metadata": {
  "kernelspec": {
   "display_name": "Python 3 (ipykernel)",
   "language": "python",
   "name": "python3"
  },
  "language_info": {
   "codemirror_mode": {
    "name": "ipython",
    "version": 3
   },
   "file_extension": ".py",
   "mimetype": "text/x-python",
   "name": "python",
   "nbconvert_exporter": "python",
   "pygments_lexer": "ipython3",
   "version": "3.9.13"
  }
 },
 "nbformat": 4,
 "nbformat_minor": 2
}
