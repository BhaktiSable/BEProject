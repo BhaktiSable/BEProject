{
 "cells": [
  {
   "cell_type": "code",
   "execution_count": 1,
   "id": "4b8c86f4",
   "metadata": {},
   "outputs": [],
   "source": [
    "# Load All Necessary Packages\n",
    "\n",
    "import os\n",
    "\n",
    "\n",
    "from bs4 import BeautifulSoup\n",
    "import requests\n",
    "import time\n",
    "import re\n",
    "\n",
    "import pandas as pd\n",
    "import numpy as np\n",
    "\n",
    "# set options to be headless, ..\n",
    "from selenium import webdriver\n",
    "from selenium.common.exceptions import NoSuchElementException   "
   ]
  },
  {
   "cell_type": "code",
   "execution_count": 2,
   "id": "384a94ce",
   "metadata": {},
   "outputs": [],
   "source": [
    "aws_url='https://explore.skillbuilder.aws/learn/external-ecommerce;view=none;redirectURL=?ctldoc-catalog-0=l-_en~field14-_2'"
   ]
  },
  {
   "cell_type": "code",
   "execution_count": 3,
   "id": "fa641cbf",
   "metadata": {},
   "outputs": [],
   "source": [
    "# Initialize chrome driver\n",
    "options = webdriver.ChromeOptions()\n",
    "options.add_argument('--headless')\n",
    "options.add_argument('--no-sandbox')\n",
    "options.add_argument('--disable-dev-shm-usage')\n",
    "\n",
    "wd = webdriver.Chrome('chromedriver',options=options)\n",
    "wd.implicitly_wait(30)"
   ]
  },
  {
   "cell_type": "code",
   "execution_count": null,
   "id": "47a2f850",
   "metadata": {},
   "outputs": [],
   "source": []
  },
  {
   "cell_type": "code",
   "execution_count": 4,
   "id": "03e5b519",
   "metadata": {},
   "outputs": [],
   "source": [
    "course_name=[]\n",
    "course_provider=[]\n",
    "course_url=[]\n",
    "course_sdesc=[]\n",
    "course_duration=[]\n",
    "course_cost=[]"
   ]
  },
  {
   "cell_type": "code",
   "execution_count": 5,
   "id": "c1072727",
   "metadata": {},
   "outputs": [],
   "source": [
    "wd.get(aws_url)\n",
    "bs=BeautifulSoup(wd.page_source, 'html.parser')\n",
    "\n"
   ]
  },
  {
   "cell_type": "code",
   "execution_count": 6,
   "id": "3cc26890",
   "metadata": {},
   "outputs": [],
   "source": [
    "df_fun=pd.read_csv('aws_fundamental.csv')\n",
    "df_inter=pd.read_csv('aws_intermediate.csv')\n",
    "df_adv=pd.read_csv('aws_advance.csv')"
   ]
  },
  {
   "cell_type": "code",
   "execution_count": 8,
   "id": "333808b2",
   "metadata": {},
   "outputs": [
    {
     "data": {
      "text/html": [
       "<div>\n",
       "<style scoped>\n",
       "    .dataframe tbody tr th:only-of-type {\n",
       "        vertical-align: middle;\n",
       "    }\n",
       "\n",
       "    .dataframe tbody tr th {\n",
       "        vertical-align: top;\n",
       "    }\n",
       "\n",
       "    .dataframe thead th {\n",
       "        text-align: right;\n",
       "    }\n",
       "</style>\n",
       "<table border=\"1\" class=\"dataframe\">\n",
       "  <thead>\n",
       "    <tr style=\"text-align: right;\">\n",
       "      <th></th>\n",
       "      <th>Course Title</th>\n",
       "      <th>Course URL</th>\n",
       "      <th>Duration</th>\n",
       "      <th>Rating</th>\n",
       "    </tr>\n",
       "  </thead>\n",
       "  <tbody>\n",
       "    <tr>\n",
       "      <th>0</th>\n",
       "      <td>Getting Started with AWS Mainframe Modernizati...</td>\n",
       "      <td>https://explore.skillbuilder.aws/learn/course/...</td>\n",
       "      <td>1h 00m</td>\n",
       "      <td>5.0</td>\n",
       "    </tr>\n",
       "    <tr>\n",
       "      <th>1</th>\n",
       "      <td>Cloud for CEOs</td>\n",
       "      <td>https://explore.skillbuilder.aws/learn/course/...</td>\n",
       "      <td>10m 00s</td>\n",
       "      <td>5.0</td>\n",
       "    </tr>\n",
       "    <tr>\n",
       "      <th>2</th>\n",
       "      <td>Getting Started with AWS Mainframe Modernizati...</td>\n",
       "      <td>https://explore.skillbuilder.aws/learn/course/...</td>\n",
       "      <td>1h 00m</td>\n",
       "      <td>5.0</td>\n",
       "    </tr>\n",
       "    <tr>\n",
       "      <th>3</th>\n",
       "      <td>Introduction to Robotics on AWS</td>\n",
       "      <td>https://explore.skillbuilder.aws/learn/course/...</td>\n",
       "      <td>30m 00s</td>\n",
       "      <td>5.0</td>\n",
       "    </tr>\n",
       "    <tr>\n",
       "      <th>4</th>\n",
       "      <td>Getting Started with Bottlerocket</td>\n",
       "      <td>https://explore.skillbuilder.aws/learn/course/...</td>\n",
       "      <td>30m 00s</td>\n",
       "      <td>5.0</td>\n",
       "    </tr>\n",
       "  </tbody>\n",
       "</table>\n",
       "</div>"
      ],
      "text/plain": [
       "                                        Course Title  \\\n",
       "0  Getting Started with AWS Mainframe Modernizati...   \n",
       "1                                     Cloud for CEOs   \n",
       "2  Getting Started with AWS Mainframe Modernizati...   \n",
       "3                    Introduction to Robotics on AWS   \n",
       "4                  Getting Started with Bottlerocket   \n",
       "\n",
       "                                          Course URL Duration  Rating  \n",
       "0  https://explore.skillbuilder.aws/learn/course/...   1h 00m     5.0  \n",
       "1  https://explore.skillbuilder.aws/learn/course/...  10m 00s     5.0  \n",
       "2  https://explore.skillbuilder.aws/learn/course/...   1h 00m     5.0  \n",
       "3  https://explore.skillbuilder.aws/learn/course/...  30m 00s     5.0  \n",
       "4  https://explore.skillbuilder.aws/learn/course/...  30m 00s     5.0  "
      ]
     },
     "execution_count": 8,
     "metadata": {},
     "output_type": "execute_result"
    }
   ],
   "source": [
    "df_fun.head()"
   ]
  },
  {
   "cell_type": "code",
   "execution_count": 9,
   "id": "9486f709",
   "metadata": {},
   "outputs": [
    {
     "data": {
      "text/html": [
       "<div>\n",
       "<style scoped>\n",
       "    .dataframe tbody tr th:only-of-type {\n",
       "        vertical-align: middle;\n",
       "    }\n",
       "\n",
       "    .dataframe tbody tr th {\n",
       "        vertical-align: top;\n",
       "    }\n",
       "\n",
       "    .dataframe thead th {\n",
       "        text-align: right;\n",
       "    }\n",
       "</style>\n",
       "<table border=\"1\" class=\"dataframe\">\n",
       "  <thead>\n",
       "    <tr style=\"text-align: right;\">\n",
       "      <th></th>\n",
       "      <th>Course Title</th>\n",
       "      <th>Course URL</th>\n",
       "      <th>Duration</th>\n",
       "      <th>Rating</th>\n",
       "    </tr>\n",
       "  </thead>\n",
       "  <tbody>\n",
       "    <tr>\n",
       "      <th>0</th>\n",
       "      <td>Cloud Audit Academy FDW Interactive Modules</td>\n",
       "      <td>https://explore.skillbuilder.aws/learn/course/...</td>\n",
       "      <td>2h 00m</td>\n",
       "      <td>5.0</td>\n",
       "    </tr>\n",
       "    <tr>\n",
       "      <th>1</th>\n",
       "      <td>Performance Tuning on Amazon DocumentDB</td>\n",
       "      <td>https://explore.skillbuilder.aws/learn/course/...</td>\n",
       "      <td>1h 00m</td>\n",
       "      <td>5.0</td>\n",
       "    </tr>\n",
       "    <tr>\n",
       "      <th>2</th>\n",
       "      <td>Architecting on AWS - Accelerator - Online Cou...</td>\n",
       "      <td>https://explore.skillbuilder.aws/learn/course/...</td>\n",
       "      <td>4h 00m</td>\n",
       "      <td>5.0</td>\n",
       "    </tr>\n",
       "    <tr>\n",
       "      <th>3</th>\n",
       "      <td>AWS Storage Gateway Deep Dive: Amazon FSx File...</td>\n",
       "      <td>https://explore.skillbuilder.aws/learn/course/...</td>\n",
       "      <td>1h 15m</td>\n",
       "      <td>5.0</td>\n",
       "    </tr>\n",
       "    <tr>\n",
       "      <th>4</th>\n",
       "      <td>AWS Storage Gateway Deep Dive: Tape Gateway</td>\n",
       "      <td>https://explore.skillbuilder.aws/learn/course/...</td>\n",
       "      <td>1h 15m</td>\n",
       "      <td>5.0</td>\n",
       "    </tr>\n",
       "  </tbody>\n",
       "</table>\n",
       "</div>"
      ],
      "text/plain": [
       "                                        Course Title  \\\n",
       "0        Cloud Audit Academy FDW Interactive Modules   \n",
       "1            Performance Tuning on Amazon DocumentDB   \n",
       "2  Architecting on AWS - Accelerator - Online Cou...   \n",
       "3  AWS Storage Gateway Deep Dive: Amazon FSx File...   \n",
       "4        AWS Storage Gateway Deep Dive: Tape Gateway   \n",
       "\n",
       "                                          Course URL Duration  Rating  \n",
       "0  https://explore.skillbuilder.aws/learn/course/...   2h 00m     5.0  \n",
       "1  https://explore.skillbuilder.aws/learn/course/...   1h 00m     5.0  \n",
       "2  https://explore.skillbuilder.aws/learn/course/...   4h 00m     5.0  \n",
       "3  https://explore.skillbuilder.aws/learn/course/...   1h 15m     5.0  \n",
       "4  https://explore.skillbuilder.aws/learn/course/...   1h 15m     5.0  "
      ]
     },
     "execution_count": 9,
     "metadata": {},
     "output_type": "execute_result"
    }
   ],
   "source": [
    "df_adv.head()"
   ]
  },
  {
   "cell_type": "code",
   "execution_count": 10,
   "id": "bb285003",
   "metadata": {},
   "outputs": [
    {
     "data": {
      "text/html": [
       "<div>\n",
       "<style scoped>\n",
       "    .dataframe tbody tr th:only-of-type {\n",
       "        vertical-align: middle;\n",
       "    }\n",
       "\n",
       "    .dataframe tbody tr th {\n",
       "        vertical-align: top;\n",
       "    }\n",
       "\n",
       "    .dataframe thead th {\n",
       "        text-align: right;\n",
       "    }\n",
       "</style>\n",
       "<table border=\"1\" class=\"dataframe\">\n",
       "  <thead>\n",
       "    <tr style=\"text-align: right;\">\n",
       "      <th></th>\n",
       "      <th>Course Title</th>\n",
       "      <th>Course URL</th>\n",
       "      <th>Cost</th>\n",
       "      <th>Duration</th>\n",
       "      <th>Rating</th>\n",
       "      <th>Level</th>\n",
       "    </tr>\n",
       "  </thead>\n",
       "  <tbody>\n",
       "    <tr>\n",
       "      <th>0</th>\n",
       "      <td>.NET Workloads on AWS Lambda</td>\n",
       "      <td>https://explore.skillbuilder.aws/learn/course/...</td>\n",
       "      <td>Free</td>\n",
       "      <td>1h 30m</td>\n",
       "      <td>5.0</td>\n",
       "      <td>Intermediate</td>\n",
       "    </tr>\n",
       "    <tr>\n",
       "      <th>1</th>\n",
       "      <td>Amazon EC2 Observability, Monitoring, and Trou...</td>\n",
       "      <td>https://explore.skillbuilder.aws/learn/course/...</td>\n",
       "      <td>Free</td>\n",
       "      <td>2h 00m</td>\n",
       "      <td>5.0</td>\n",
       "      <td>Intermediate</td>\n",
       "    </tr>\n",
       "    <tr>\n",
       "      <th>2</th>\n",
       "      <td>Data Modeling for Amazon DocumentDB</td>\n",
       "      <td>https://explore.skillbuilder.aws/learn/course/...</td>\n",
       "      <td>Free</td>\n",
       "      <td>1h 00m</td>\n",
       "      <td>5.0</td>\n",
       "      <td>Intermediate</td>\n",
       "    </tr>\n",
       "    <tr>\n",
       "      <th>3</th>\n",
       "      <td>Building Event-Driven Applications With Amazon...</td>\n",
       "      <td>https://explore.skillbuilder.aws/learn/course/...</td>\n",
       "      <td>Requires Subscription</td>\n",
       "      <td>3h 00m</td>\n",
       "      <td>5.0</td>\n",
       "      <td>Intermediate</td>\n",
       "    </tr>\n",
       "    <tr>\n",
       "      <th>4</th>\n",
       "      <td>Building Event-Driven Applications With Amazon...</td>\n",
       "      <td>https://explore.skillbuilder.aws/learn/course/...</td>\n",
       "      <td>Free</td>\n",
       "      <td>2h 00m</td>\n",
       "      <td>4.0</td>\n",
       "      <td>Intermediate</td>\n",
       "    </tr>\n",
       "  </tbody>\n",
       "</table>\n",
       "</div>"
      ],
      "text/plain": [
       "                                        Course Title  \\\n",
       "0                       .NET Workloads on AWS Lambda   \n",
       "1  Amazon EC2 Observability, Monitoring, and Trou...   \n",
       "2                Data Modeling for Amazon DocumentDB   \n",
       "3  Building Event-Driven Applications With Amazon...   \n",
       "4  Building Event-Driven Applications With Amazon...   \n",
       "\n",
       "                                          Course URL                   Cost  \\\n",
       "0  https://explore.skillbuilder.aws/learn/course/...                   Free   \n",
       "1  https://explore.skillbuilder.aws/learn/course/...                   Free   \n",
       "2  https://explore.skillbuilder.aws/learn/course/...                   Free   \n",
       "3  https://explore.skillbuilder.aws/learn/course/...  Requires Subscription   \n",
       "4  https://explore.skillbuilder.aws/learn/course/...                   Free   \n",
       "\n",
       "  Duration  Rating         Level  \n",
       "0   1h 30m     5.0  Intermediate  \n",
       "1   2h 00m     5.0  Intermediate  \n",
       "2   1h 00m     5.0  Intermediate  \n",
       "3   3h 00m     5.0  Intermediate  \n",
       "4   2h 00m     4.0  Intermediate  "
      ]
     },
     "execution_count": 10,
     "metadata": {},
     "output_type": "execute_result"
    }
   ],
   "source": [
    "df_inter['Level']='Intermediate'\n",
    "df_inter.head()"
   ]
  },
  {
   "cell_type": "code",
   "execution_count": 11,
   "id": "4942fa7c",
   "metadata": {},
   "outputs": [
    {
     "data": {
      "text/html": [
       "<div>\n",
       "<style scoped>\n",
       "    .dataframe tbody tr th:only-of-type {\n",
       "        vertical-align: middle;\n",
       "    }\n",
       "\n",
       "    .dataframe tbody tr th {\n",
       "        vertical-align: top;\n",
       "    }\n",
       "\n",
       "    .dataframe thead th {\n",
       "        text-align: right;\n",
       "    }\n",
       "</style>\n",
       "<table border=\"1\" class=\"dataframe\">\n",
       "  <thead>\n",
       "    <tr style=\"text-align: right;\">\n",
       "      <th></th>\n",
       "      <th>Course Title</th>\n",
       "      <th>Course URL</th>\n",
       "      <th>Duration</th>\n",
       "      <th>Rating</th>\n",
       "      <th>Cost</th>\n",
       "      <th>Level</th>\n",
       "    </tr>\n",
       "  </thead>\n",
       "  <tbody>\n",
       "    <tr>\n",
       "      <th>0</th>\n",
       "      <td>Getting Started with AWS Mainframe Modernizati...</td>\n",
       "      <td>https://explore.skillbuilder.aws/learn/course/...</td>\n",
       "      <td>1h 00m</td>\n",
       "      <td>5.0</td>\n",
       "      <td>Free</td>\n",
       "      <td>Fundamental</td>\n",
       "    </tr>\n",
       "    <tr>\n",
       "      <th>1</th>\n",
       "      <td>Cloud for CEOs</td>\n",
       "      <td>https://explore.skillbuilder.aws/learn/course/...</td>\n",
       "      <td>10m 00s</td>\n",
       "      <td>5.0</td>\n",
       "      <td>Free</td>\n",
       "      <td>Fundamental</td>\n",
       "    </tr>\n",
       "    <tr>\n",
       "      <th>2</th>\n",
       "      <td>Getting Started with AWS Mainframe Modernizati...</td>\n",
       "      <td>https://explore.skillbuilder.aws/learn/course/...</td>\n",
       "      <td>1h 00m</td>\n",
       "      <td>5.0</td>\n",
       "      <td>Free</td>\n",
       "      <td>Fundamental</td>\n",
       "    </tr>\n",
       "    <tr>\n",
       "      <th>3</th>\n",
       "      <td>Introduction to Robotics on AWS</td>\n",
       "      <td>https://explore.skillbuilder.aws/learn/course/...</td>\n",
       "      <td>30m 00s</td>\n",
       "      <td>5.0</td>\n",
       "      <td>Free</td>\n",
       "      <td>Fundamental</td>\n",
       "    </tr>\n",
       "    <tr>\n",
       "      <th>4</th>\n",
       "      <td>Getting Started with Bottlerocket</td>\n",
       "      <td>https://explore.skillbuilder.aws/learn/course/...</td>\n",
       "      <td>30m 00s</td>\n",
       "      <td>5.0</td>\n",
       "      <td>Free</td>\n",
       "      <td>Fundamental</td>\n",
       "    </tr>\n",
       "  </tbody>\n",
       "</table>\n",
       "</div>"
      ],
      "text/plain": [
       "                                        Course Title  \\\n",
       "0  Getting Started with AWS Mainframe Modernizati...   \n",
       "1                                     Cloud for CEOs   \n",
       "2  Getting Started with AWS Mainframe Modernizati...   \n",
       "3                    Introduction to Robotics on AWS   \n",
       "4                  Getting Started with Bottlerocket   \n",
       "\n",
       "                                          Course URL Duration  Rating  Cost  \\\n",
       "0  https://explore.skillbuilder.aws/learn/course/...   1h 00m     5.0  Free   \n",
       "1  https://explore.skillbuilder.aws/learn/course/...  10m 00s     5.0  Free   \n",
       "2  https://explore.skillbuilder.aws/learn/course/...   1h 00m     5.0  Free   \n",
       "3  https://explore.skillbuilder.aws/learn/course/...  30m 00s     5.0  Free   \n",
       "4  https://explore.skillbuilder.aws/learn/course/...  30m 00s     5.0  Free   \n",
       "\n",
       "         Level  \n",
       "0  Fundamental  \n",
       "1  Fundamental  \n",
       "2  Fundamental  \n",
       "3  Fundamental  \n",
       "4  Fundamental  "
      ]
     },
     "execution_count": 11,
     "metadata": {},
     "output_type": "execute_result"
    }
   ],
   "source": [
    "df_fun['Cost']='Free'\n",
    "df_fun['Level']='Fundamental'\n",
    "df_fun.head()"
   ]
  },
  {
   "cell_type": "code",
   "execution_count": 12,
   "id": "00647515",
   "metadata": {},
   "outputs": [
    {
     "data": {
      "text/html": [
       "<div>\n",
       "<style scoped>\n",
       "    .dataframe tbody tr th:only-of-type {\n",
       "        vertical-align: middle;\n",
       "    }\n",
       "\n",
       "    .dataframe tbody tr th {\n",
       "        vertical-align: top;\n",
       "    }\n",
       "\n",
       "    .dataframe thead th {\n",
       "        text-align: right;\n",
       "    }\n",
       "</style>\n",
       "<table border=\"1\" class=\"dataframe\">\n",
       "  <thead>\n",
       "    <tr style=\"text-align: right;\">\n",
       "      <th></th>\n",
       "      <th>Course Title</th>\n",
       "      <th>Course URL</th>\n",
       "      <th>Duration</th>\n",
       "      <th>Rating</th>\n",
       "      <th>Cost</th>\n",
       "      <th>Level</th>\n",
       "    </tr>\n",
       "  </thead>\n",
       "  <tbody>\n",
       "    <tr>\n",
       "      <th>0</th>\n",
       "      <td>Cloud Audit Academy FDW Interactive Modules</td>\n",
       "      <td>https://explore.skillbuilder.aws/learn/course/...</td>\n",
       "      <td>2h 00m</td>\n",
       "      <td>5.0</td>\n",
       "      <td>Free</td>\n",
       "      <td>Advanced</td>\n",
       "    </tr>\n",
       "    <tr>\n",
       "      <th>1</th>\n",
       "      <td>Performance Tuning on Amazon DocumentDB</td>\n",
       "      <td>https://explore.skillbuilder.aws/learn/course/...</td>\n",
       "      <td>1h 00m</td>\n",
       "      <td>5.0</td>\n",
       "      <td>Free</td>\n",
       "      <td>Advanced</td>\n",
       "    </tr>\n",
       "    <tr>\n",
       "      <th>2</th>\n",
       "      <td>Architecting on AWS - Accelerator - Online Cou...</td>\n",
       "      <td>https://explore.skillbuilder.aws/learn/course/...</td>\n",
       "      <td>4h 00m</td>\n",
       "      <td>5.0</td>\n",
       "      <td>Free</td>\n",
       "      <td>Advanced</td>\n",
       "    </tr>\n",
       "    <tr>\n",
       "      <th>3</th>\n",
       "      <td>AWS Storage Gateway Deep Dive: Amazon FSx File...</td>\n",
       "      <td>https://explore.skillbuilder.aws/learn/course/...</td>\n",
       "      <td>1h 15m</td>\n",
       "      <td>5.0</td>\n",
       "      <td>Free</td>\n",
       "      <td>Advanced</td>\n",
       "    </tr>\n",
       "    <tr>\n",
       "      <th>4</th>\n",
       "      <td>AWS Storage Gateway Deep Dive: Tape Gateway</td>\n",
       "      <td>https://explore.skillbuilder.aws/learn/course/...</td>\n",
       "      <td>1h 15m</td>\n",
       "      <td>5.0</td>\n",
       "      <td>Free</td>\n",
       "      <td>Advanced</td>\n",
       "    </tr>\n",
       "  </tbody>\n",
       "</table>\n",
       "</div>"
      ],
      "text/plain": [
       "                                        Course Title  \\\n",
       "0        Cloud Audit Academy FDW Interactive Modules   \n",
       "1            Performance Tuning on Amazon DocumentDB   \n",
       "2  Architecting on AWS - Accelerator - Online Cou...   \n",
       "3  AWS Storage Gateway Deep Dive: Amazon FSx File...   \n",
       "4        AWS Storage Gateway Deep Dive: Tape Gateway   \n",
       "\n",
       "                                          Course URL Duration  Rating  Cost  \\\n",
       "0  https://explore.skillbuilder.aws/learn/course/...   2h 00m     5.0  Free   \n",
       "1  https://explore.skillbuilder.aws/learn/course/...   1h 00m     5.0  Free   \n",
       "2  https://explore.skillbuilder.aws/learn/course/...   4h 00m     5.0  Free   \n",
       "3  https://explore.skillbuilder.aws/learn/course/...   1h 15m     5.0  Free   \n",
       "4  https://explore.skillbuilder.aws/learn/course/...   1h 15m     5.0  Free   \n",
       "\n",
       "      Level  \n",
       "0  Advanced  \n",
       "1  Advanced  \n",
       "2  Advanced  \n",
       "3  Advanced  \n",
       "4  Advanced  "
      ]
     },
     "execution_count": 12,
     "metadata": {},
     "output_type": "execute_result"
    }
   ],
   "source": [
    "df_adv['Cost']='Free'\n",
    "df_adv['Level']='Advanced'\n",
    "df_adv.head()"
   ]
  },
  {
   "cell_type": "code",
   "execution_count": 13,
   "id": "bce4413e",
   "metadata": {},
   "outputs": [],
   "source": [
    "frames=[df_fun,df_inter,df_adv]\n",
    "df=pd.concat(frames)"
   ]
  },
  {
   "cell_type": "code",
   "execution_count": 14,
   "id": "3a27eb82",
   "metadata": {},
   "outputs": [
    {
     "data": {
      "text/plain": [
       "(548, 6)"
      ]
     },
     "execution_count": 14,
     "metadata": {},
     "output_type": "execute_result"
    }
   ],
   "source": [
    "df.shape"
   ]
  },
  {
   "cell_type": "code",
   "execution_count": 15,
   "id": "7d09887b",
   "metadata": {},
   "outputs": [
    {
     "data": {
      "text/plain": [
       "array(['Fundamental', 'Intermediate', 'Advanced'], dtype=object)"
      ]
     },
     "execution_count": 15,
     "metadata": {},
     "output_type": "execute_result"
    }
   ],
   "source": [
    "df['Level'].unique()"
   ]
  },
  {
   "cell_type": "code",
   "execution_count": 16,
   "id": "93855d2a",
   "metadata": {},
   "outputs": [],
   "source": [
    "new_url_list=np.array(df['Course URL'])"
   ]
  },
  {
   "cell_type": "code",
   "execution_count": 44,
   "id": "8b26dc88",
   "metadata": {},
   "outputs": [
    {
     "data": {
      "text/plain": [
       "548"
      ]
     },
     "execution_count": 44,
     "metadata": {},
     "output_type": "execute_result"
    }
   ],
   "source": [
    "len(new_url_list)"
   ]
  },
  {
   "cell_type": "code",
   "execution_count": 46,
   "id": "5a8119f4",
   "metadata": {},
   "outputs": [],
   "source": [
    "course_desc=[]\n",
    "for url in new_url_list:\n",
    "    wd.get(url)\n",
    "    time.sleep(1)\n",
    "    bs = BeautifulSoup(wd.page_source, 'html.parser')\n",
    "    desc_div=bs.find('div',class_='tabs-description')\n",
    "    desc=''\n",
    "    if desc_div is not None:\n",
    "        if desc_div.p is not None :\n",
    "            if desc_div.p.text !='':\n",
    "                desc=desc_div.p.text.strip()\n",
    "                if 'Note:' in desc:\n",
    "                    desc=''\n",
    "            elif desc_div.p.find_next_sibling('p') is not None:\n",
    "                sib=desc_div.p.find_next_sibling('p')\n",
    "                desc=sib.text.strip()\n",
    "                if 'Note:' in desc:\n",
    "                    desc=''\n",
    "    course_desc.append(desc)\n",
    "    "
   ]
  },
  {
   "cell_type": "code",
   "execution_count": 47,
   "id": "edb0378b",
   "metadata": {},
   "outputs": [
    {
     "data": {
      "text/plain": [
       "548"
      ]
     },
     "execution_count": 47,
     "metadata": {},
     "output_type": "execute_result"
    }
   ],
   "source": [
    "len(course_desc)"
   ]
  },
  {
   "cell_type": "code",
   "execution_count": 48,
   "id": "d475d885",
   "metadata": {},
   "outputs": [],
   "source": [
    "df['Description']=course_desc"
   ]
  },
  {
   "cell_type": "code",
   "execution_count": 49,
   "id": "5e505c22",
   "metadata": {},
   "outputs": [
    {
     "data": {
      "text/html": [
       "<div>\n",
       "<style scoped>\n",
       "    .dataframe tbody tr th:only-of-type {\n",
       "        vertical-align: middle;\n",
       "    }\n",
       "\n",
       "    .dataframe tbody tr th {\n",
       "        vertical-align: top;\n",
       "    }\n",
       "\n",
       "    .dataframe thead th {\n",
       "        text-align: right;\n",
       "    }\n",
       "</style>\n",
       "<table border=\"1\" class=\"dataframe\">\n",
       "  <thead>\n",
       "    <tr style=\"text-align: right;\">\n",
       "      <th></th>\n",
       "      <th>Course Title</th>\n",
       "      <th>Course URL</th>\n",
       "      <th>Duration</th>\n",
       "      <th>Rating</th>\n",
       "      <th>Cost</th>\n",
       "      <th>Level</th>\n",
       "      <th>Description</th>\n",
       "    </tr>\n",
       "  </thead>\n",
       "  <tbody>\n",
       "    <tr>\n",
       "      <th>0</th>\n",
       "      <td>Getting Started with AWS Mainframe Modernizati...</td>\n",
       "      <td>https://explore.skillbuilder.aws/learn/course/...</td>\n",
       "      <td>1h 00m</td>\n",
       "      <td>5.0</td>\n",
       "      <td>Free</td>\n",
       "      <td>Fundamental</td>\n",
       "      <td></td>\n",
       "    </tr>\n",
       "    <tr>\n",
       "      <th>1</th>\n",
       "      <td>Cloud for CEOs</td>\n",
       "      <td>https://explore.skillbuilder.aws/learn/course/...</td>\n",
       "      <td>10m 00s</td>\n",
       "      <td>5.0</td>\n",
       "      <td>Free</td>\n",
       "      <td>Fundamental</td>\n",
       "      <td>This course provides CEOs and presidents a hig...</td>\n",
       "    </tr>\n",
       "    <tr>\n",
       "      <th>2</th>\n",
       "      <td>Getting Started with AWS Mainframe Modernizati...</td>\n",
       "      <td>https://explore.skillbuilder.aws/learn/course/...</td>\n",
       "      <td>1h 00m</td>\n",
       "      <td>5.0</td>\n",
       "      <td>Free</td>\n",
       "      <td>Fundamental</td>\n",
       "      <td>The AWS Mainframe Modernization service helps ...</td>\n",
       "    </tr>\n",
       "    <tr>\n",
       "      <th>3</th>\n",
       "      <td>Introduction to Robotics on AWS</td>\n",
       "      <td>https://explore.skillbuilder.aws/learn/course/...</td>\n",
       "      <td>30m 00s</td>\n",
       "      <td>5.0</td>\n",
       "      <td>Free</td>\n",
       "      <td>Fundamental</td>\n",
       "      <td>The robotics industry is growing at a rapid ra...</td>\n",
       "    </tr>\n",
       "    <tr>\n",
       "      <th>4</th>\n",
       "      <td>Getting Started with Bottlerocket</td>\n",
       "      <td>https://explore.skillbuilder.aws/learn/course/...</td>\n",
       "      <td>30m 00s</td>\n",
       "      <td>5.0</td>\n",
       "      <td>Free</td>\n",
       "      <td>Fundamental</td>\n",
       "      <td>Bottlerocket is a Linux-based, open-source ope...</td>\n",
       "    </tr>\n",
       "  </tbody>\n",
       "</table>\n",
       "</div>"
      ],
      "text/plain": [
       "                                        Course Title  \\\n",
       "0  Getting Started with AWS Mainframe Modernizati...   \n",
       "1                                     Cloud for CEOs   \n",
       "2  Getting Started with AWS Mainframe Modernizati...   \n",
       "3                    Introduction to Robotics on AWS   \n",
       "4                  Getting Started with Bottlerocket   \n",
       "\n",
       "                                          Course URL Duration  Rating  Cost  \\\n",
       "0  https://explore.skillbuilder.aws/learn/course/...   1h 00m     5.0  Free   \n",
       "1  https://explore.skillbuilder.aws/learn/course/...  10m 00s     5.0  Free   \n",
       "2  https://explore.skillbuilder.aws/learn/course/...   1h 00m     5.0  Free   \n",
       "3  https://explore.skillbuilder.aws/learn/course/...  30m 00s     5.0  Free   \n",
       "4  https://explore.skillbuilder.aws/learn/course/...  30m 00s     5.0  Free   \n",
       "\n",
       "         Level                                        Description  \n",
       "0  Fundamental                                                     \n",
       "1  Fundamental  This course provides CEOs and presidents a hig...  \n",
       "2  Fundamental  The AWS Mainframe Modernization service helps ...  \n",
       "3  Fundamental  The robotics industry is growing at a rapid ra...  \n",
       "4  Fundamental  Bottlerocket is a Linux-based, open-source ope...  "
      ]
     },
     "execution_count": 49,
     "metadata": {},
     "output_type": "execute_result"
    }
   ],
   "source": [
    "df.head()"
   ]
  },
  {
   "cell_type": "code",
   "execution_count": 50,
   "id": "849b1035",
   "metadata": {},
   "outputs": [],
   "source": [
    "df['Platform']='AWS'"
   ]
  },
  {
   "cell_type": "code",
   "execution_count": 35,
   "id": "3c53e9dc",
   "metadata": {},
   "outputs": [],
   "source": [
    "course_list = pd.read_csv('explore.csv')\n",
    "title_list = np.array(course_list['Course Name'])\n",
    "url_list = np.array(course_list['Course URL'])\n",
    "cost_list = np.array(course_list['Cost'])\n",
    "duration_list = np.array(course_list['Duration'])\n",
    "rating_list=np.array(course_list['Rating'])"
   ]
  },
  {
   "cell_type": "code",
   "execution_count": 51,
   "id": "49051e47",
   "metadata": {},
   "outputs": [],
   "source": [
    "df.to_csv('AWS.csv', index=False, encoding='utf_8_sig')"
   ]
  },
  {
   "cell_type": "code",
   "execution_count": null,
   "id": "de31162e",
   "metadata": {},
   "outputs": [],
   "source": []
  },
  {
   "cell_type": "code",
   "execution_count": null,
   "id": "a56b01f7",
   "metadata": {},
   "outputs": [],
   "source": []
  },
  {
   "cell_type": "code",
   "execution_count": null,
   "id": "47d84486",
   "metadata": {},
   "outputs": [],
   "source": []
  },
  {
   "cell_type": "code",
   "execution_count": null,
   "id": "56aff004",
   "metadata": {},
   "outputs": [],
   "source": []
  },
  {
   "cell_type": "code",
   "execution_count": null,
   "id": "dddd8eec",
   "metadata": {},
   "outputs": [],
   "source": []
  }
 ],
 "metadata": {
  "kernelspec": {
   "display_name": "Python 3 (ipykernel)",
   "language": "python",
   "name": "python3"
  },
  "language_info": {
   "codemirror_mode": {
    "name": "ipython",
    "version": 3
   },
   "file_extension": ".py",
   "mimetype": "text/x-python",
   "name": "python",
   "nbconvert_exporter": "python",
   "pygments_lexer": "ipython3",
   "version": "3.9.13"
  }
 },
 "nbformat": 4,
 "nbformat_minor": 5
}
